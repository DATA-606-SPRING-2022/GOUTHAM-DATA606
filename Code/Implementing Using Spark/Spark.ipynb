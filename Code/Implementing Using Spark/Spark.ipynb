{
  "cells": [
    {
      "cell_type": "markdown",
      "metadata": {
        "id": "4DSVyPNKZBVq"
      },
      "source": [
        "## Capstone Project"
      ]
    },
    {
      "cell_type": "code",
      "execution_count": 1,
      "metadata": {
        "colab": {
          "base_uri": "https://localhost:8080/"
        },
        "id": "JrFjdzryY_pD",
        "outputId": "1f737075-681d-4bfc-83dc-2f1a90716ff8"
      },
      "outputs": [
        {
          "output_type": "stream",
          "name": "stdout",
          "text": [
            "Drive already mounted at /content/drive; to attempt to forcibly remount, call drive.mount(\"/content/drive\", force_remount=True).\n"
          ]
        }
      ],
      "source": [
        "from google.colab import drive\n",
        "drive.mount('/content/drive')"
      ]
    },
    {
      "cell_type": "code",
      "execution_count": 2,
      "metadata": {
        "id": "W9a8JmrzZG-m"
      },
      "outputs": [],
      "source": [
        "!apt-get install openjdk-8-jdk-headless -qq > /dev/null\n",
        "!wget -q https://dlcdn.apache.org/spark/spark-3.2.1/spark-3.2.1-bin-hadoop3.2.tgz\n",
        "!tar xf spark-3.2.1-bin-hadoop3.2.tgz"
      ]
    },
    {
      "cell_type": "code",
      "execution_count": 3,
      "metadata": {
        "id": "SZRERjx2ZLSe"
      },
      "outputs": [],
      "source": [
        "!pip install -q findspark"
      ]
    },
    {
      "cell_type": "code",
      "execution_count": 4,
      "metadata": {
        "id": "ERb0g8wfZM5V"
      },
      "outputs": [],
      "source": [
        "import os\n",
        "os.environ[\"JAVA_HOME\"] = \"/usr/lib/jvm/java-8-openjdk-amd64\"\n",
        "os.environ[\"SPARK_HOME\"] = \"/content/spark-3.2.1-bin-hadoop3.2\""
      ]
    },
    {
      "cell_type": "markdown",
      "metadata": {
        "id": "ugbk5s5ddgNU"
      },
      "source": [
        ""
      ]
    },
    {
      "cell_type": "code",
      "execution_count": 5,
      "metadata": {
        "id": "oskQhgnsZQok"
      },
      "outputs": [],
      "source": [
        "import findspark\n",
        "findspark.init()"
      ]
    },
    {
      "cell_type": "code",
      "execution_count": 6,
      "metadata": {
        "colab": {
          "base_uri": "https://localhost:8080/"
        },
        "id": "6E_242kmZSZc",
        "outputId": "12b71caa-b245-4519-9c41-37b1b944dc98"
      },
      "outputs": [
        {
          "output_type": "stream",
          "name": "stderr",
          "text": [
            "/content/spark-3.2.1-bin-hadoop3.2/python/pyspark/sql/context.py:79: FutureWarning: Deprecated in 3.0.0. Use SparkSession.builder.getOrCreate() instead.\n",
            "  FutureWarning\n"
          ]
        }
      ],
      "source": [
        "from pyspark.sql import SQLContext\n",
        "from pyspark import SparkContext\n",
        "from pyspark.sql.session import SparkSession\n",
        "sc = SparkContext()\n",
        "spark = SparkSession(sc)\n",
        "sqlContext = SQLContext(sc)"
      ]
    },
    {
      "cell_type": "markdown",
      "metadata": {
        "id": "HgdPi-ncZXC7"
      },
      "source": [
        "#**Weather Dataset**"
      ]
    },
    {
      "cell_type": "code",
      "execution_count": 6,
      "metadata": {
        "id": "kMSUPNNiXGM_"
      },
      "outputs": [],
      "source": [
        ""
      ]
    },
    {
      "cell_type": "code",
      "execution_count": 7,
      "metadata": {
        "id": "HDn7k3JOZv81"
      },
      "outputs": [],
      "source": [
        "import time\n",
        "import glob\n",
        "import pandas as pd\n",
        "import re \n",
        "import numpy as np\n",
        "import seaborn as sns\n",
        "import matplotlib.pyplot as plt\n",
        "from pyspark.sql.functions import monotonically_increasing_id\n",
        "from pyspark.sql.functions import lit\n",
        "from functools import reduce \n",
        "from pyspark.sql import DataFrame\n",
        "from pyspark.sql import SparkSession\n",
        "from pyspark.sql.functions import isnan, when, count, col\n",
        "from pyspark.sql.types import *\n",
        "from pyspark.sql.functions import *\n",
        "from pyspark.ml.feature import StringIndexer\n",
        "from pyspark.ml import Pipeline\n",
        "from sklearn.metrics import mean_squared_error\n",
        "from math import sqrt\n",
        "from scipy import stats\n",
        "from sklearn.preprocessing import OneHotEncoder\n",
        "from sklearn.model_selection import train_test_split\n",
        "from sklearn.preprocessing import StandardScaler\n",
        "from tensorflow.keras.layers import Input, Dense, Activation,Dropout\n",
        "from tensorflow.keras.models import Model\n"
      ]
    },
    {
      "cell_type": "code",
      "execution_count": 8,
      "metadata": {
        "id": "sf3pw46zXcIX"
      },
      "outputs": [],
      "source": [
        "start =time.time()"
      ]
    },
    {
      "cell_type": "code",
      "execution_count": 9,
      "metadata": {
        "colab": {
          "base_uri": "https://localhost:8080/"
        },
        "id": "zYeQdjKuZp_W",
        "outputId": "c1e2766b-89af-43a0-ea77-87500075d911"
      },
      "outputs": [
        {
          "output_type": "stream",
          "name": "stdout",
          "text": [
            "['/content/drive/MyDrive/Capstone/Datasets/Weather Dataset/Andhra Pradesh.xlsx', '/content/drive/MyDrive/Capstone/Datasets/Weather Dataset/Maharashtra.xlsx', '/content/drive/MyDrive/Capstone/Datasets/Weather Dataset/Madhya Pradesh.xlsx', '/content/drive/MyDrive/Capstone/Datasets/Weather Dataset/Kerala.xlsx', '/content/drive/MyDrive/Capstone/Datasets/Weather Dataset/Jharkhand.xlsx', '/content/drive/MyDrive/Capstone/Datasets/Weather Dataset/Arunachal Pradesh.xlsx', '/content/drive/MyDrive/Capstone/Datasets/Weather Dataset/Gujarat.xlsx', '/content/drive/MyDrive/Capstone/Datasets/Weather Dataset/West Bengal.xlsx', '/content/drive/MyDrive/Capstone/Datasets/Weather Dataset/Haryana.xlsx', '/content/drive/MyDrive/Capstone/Datasets/Weather Dataset/Assam.xlsx', '/content/drive/MyDrive/Capstone/Datasets/Weather Dataset/Goa.xlsx', '/content/drive/MyDrive/Capstone/Datasets/Weather Dataset/Chhattisgarh.xlsx', '/content/drive/MyDrive/Capstone/Datasets/Weather Dataset/Himachal Pradesh.xlsx', '/content/drive/MyDrive/Capstone/Datasets/Weather Dataset/Jhammu & Kashmir.xlsx', '/content/drive/MyDrive/Capstone/Datasets/Weather Dataset/Karnataka.xlsx', '/content/drive/MyDrive/Capstone/Datasets/Weather Dataset/Bihar.xlsx', '/content/drive/MyDrive/Capstone/Datasets/Weather Dataset/Manipur.xlsx', '/content/drive/MyDrive/Capstone/Datasets/Weather Dataset/Meghalaya.xlsx', '/content/drive/MyDrive/Capstone/Datasets/Weather Dataset/Mizoram.xlsx', '/content/drive/MyDrive/Capstone/Datasets/Weather Dataset/Nagaland.xlsx', '/content/drive/MyDrive/Capstone/Datasets/Weather Dataset/Odisha.xlsx', '/content/drive/MyDrive/Capstone/Datasets/Weather Dataset/Punjab.xlsx', '/content/drive/MyDrive/Capstone/Datasets/Weather Dataset/Rajasthan.xlsx', '/content/drive/MyDrive/Capstone/Datasets/Weather Dataset/Sikkim.xlsx', '/content/drive/MyDrive/Capstone/Datasets/Weather Dataset/Tamil Nadu.xlsx', '/content/drive/MyDrive/Capstone/Datasets/Weather Dataset/Telangana.xlsx', '/content/drive/MyDrive/Capstone/Datasets/Weather Dataset/Tripura.xlsx', '/content/drive/MyDrive/Capstone/Datasets/Weather Dataset/Uttar Pradesh.xlsx', '/content/drive/MyDrive/Capstone/Datasets/Weather Dataset/Uttarakhand.xlsx']\n",
            "No:of files in the directory :  29\n"
          ]
        }
      ],
      "source": [
        "path = \"/content/drive/MyDrive/Capstone/Datasets/Weather Dataset/\" # Path to my weather datasets in google drive(Accessible to UMBC group members)\n",
        "files = glob.glob(path+\"*\") #Using glob module to return the fies in weather datasets \n",
        "print(files) # Printing all the food crop files path\n",
        "print(\"No:of files in the directory : \",len(files)) # Checking no:of files in the list "
      ]
    },
    {
      "cell_type": "code",
      "execution_count": 10,
      "metadata": {
        "colab": {
          "base_uri": "https://localhost:8080/"
        },
        "id": "-yesJfrEZsJR",
        "outputId": "610c563e-7df4-437b-9491-e31ebd3ea97e"
      },
      "outputs": [
        {
          "output_type": "execute_result",
          "data": {
            "text/plain": [
              "['/content/drive/MyDrive/Capstone/Datasets/Weather Dataset/Andhra Pradesh.xlsx',\n",
              " '/content/drive/MyDrive/Capstone/Datasets/Weather Dataset/Maharashtra.xlsx',\n",
              " '/content/drive/MyDrive/Capstone/Datasets/Weather Dataset/Madhya Pradesh.xlsx',\n",
              " '/content/drive/MyDrive/Capstone/Datasets/Weather Dataset/Kerala.xlsx',\n",
              " '/content/drive/MyDrive/Capstone/Datasets/Weather Dataset/Jharkhand.xlsx',\n",
              " '/content/drive/MyDrive/Capstone/Datasets/Weather Dataset/Arunachal Pradesh.xlsx',\n",
              " '/content/drive/MyDrive/Capstone/Datasets/Weather Dataset/Gujarat.xlsx',\n",
              " '/content/drive/MyDrive/Capstone/Datasets/Weather Dataset/West Bengal.xlsx',\n",
              " '/content/drive/MyDrive/Capstone/Datasets/Weather Dataset/Haryana.xlsx',\n",
              " '/content/drive/MyDrive/Capstone/Datasets/Weather Dataset/Assam.xlsx',\n",
              " '/content/drive/MyDrive/Capstone/Datasets/Weather Dataset/Goa.xlsx',\n",
              " '/content/drive/MyDrive/Capstone/Datasets/Weather Dataset/Chhattisgarh.xlsx',\n",
              " '/content/drive/MyDrive/Capstone/Datasets/Weather Dataset/Himachal Pradesh.xlsx',\n",
              " '/content/drive/MyDrive/Capstone/Datasets/Weather Dataset/Jhammu & Kashmir.xlsx',\n",
              " '/content/drive/MyDrive/Capstone/Datasets/Weather Dataset/Karnataka.xlsx',\n",
              " '/content/drive/MyDrive/Capstone/Datasets/Weather Dataset/Bihar.xlsx',\n",
              " '/content/drive/MyDrive/Capstone/Datasets/Weather Dataset/Manipur.xlsx',\n",
              " '/content/drive/MyDrive/Capstone/Datasets/Weather Dataset/Meghalaya.xlsx',\n",
              " '/content/drive/MyDrive/Capstone/Datasets/Weather Dataset/Mizoram.xlsx',\n",
              " '/content/drive/MyDrive/Capstone/Datasets/Weather Dataset/Nagaland.xlsx',\n",
              " '/content/drive/MyDrive/Capstone/Datasets/Weather Dataset/Odisha.xlsx',\n",
              " '/content/drive/MyDrive/Capstone/Datasets/Weather Dataset/Punjab.xlsx',\n",
              " '/content/drive/MyDrive/Capstone/Datasets/Weather Dataset/Rajasthan.xlsx',\n",
              " '/content/drive/MyDrive/Capstone/Datasets/Weather Dataset/Sikkim.xlsx',\n",
              " '/content/drive/MyDrive/Capstone/Datasets/Weather Dataset/Tamil Nadu.xlsx',\n",
              " '/content/drive/MyDrive/Capstone/Datasets/Weather Dataset/Telangana.xlsx',\n",
              " '/content/drive/MyDrive/Capstone/Datasets/Weather Dataset/Tripura.xlsx',\n",
              " '/content/drive/MyDrive/Capstone/Datasets/Weather Dataset/Uttar Pradesh.xlsx',\n",
              " '/content/drive/MyDrive/Capstone/Datasets/Weather Dataset/Uttarakhand.xlsx']"
            ]
          },
          "metadata": {},
          "execution_count": 10
        }
      ],
      "source": [
        "xlsx_files  = glob.glob(path+\"/*\")# Storing the paths of all the excel files into a list \n",
        "xlsx_files # Printing all the excel files"
      ]
    },
    {
      "cell_type": "code",
      "execution_count": 11,
      "metadata": {
        "colab": {
          "base_uri": "https://localhost:8080/"
        },
        "id": "EkirykrpZ2Xc",
        "outputId": "50535907-5089-4654-8f59-63c19ee1c07c"
      },
      "outputs": [
        {
          "output_type": "execute_result",
          "data": {
            "text/plain": [
              "29"
            ]
          },
          "metadata": {},
          "execution_count": 11
        }
      ],
      "source": [
        "len(xlsx_files)"
      ]
    },
    {
      "cell_type": "code",
      "execution_count": 12,
      "metadata": {
        "id": "jEdrTXlaZ4b5"
      },
      "outputs": [],
      "source": [
        "df_samp1 = pd.read_excel(xlsx_files[0], header=None)  # Creating a sample dataframe from one of the excel files"
      ]
    },
    {
      "cell_type": "code",
      "execution_count": 13,
      "metadata": {
        "colab": {
          "base_uri": "https://localhost:8080/"
        },
        "id": "QC3nBGH0Z7Dc",
        "outputId": "47f6ba99-aef2-4d9f-c9ff-92899d05ba0b"
      },
      "outputs": [
        {
          "output_type": "execute_result",
          "data": {
            "text/plain": [
              "0     object\n",
              "1     object\n",
              "2     object\n",
              "3     object\n",
              "4     object\n",
              "5     object\n",
              "6     object\n",
              "7     object\n",
              "8     object\n",
              "9     object\n",
              "10    object\n",
              "11    object\n",
              "12    object\n",
              "13    object\n",
              "14    object\n",
              "dtype: object"
            ]
          },
          "metadata": {},
          "execution_count": 13
        }
      ],
      "source": [
        "df_samp1.dtypes"
      ]
    },
    {
      "cell_type": "code",
      "execution_count": 14,
      "metadata": {
        "colab": {
          "base_uri": "https://localhost:8080/"
        },
        "id": "DmwbuYkDZ9wQ",
        "outputId": "af122429-23a8-4cee-f6da-333a3f59f550"
      },
      "outputs": [
        {
          "output_type": "stream",
          "name": "stdout",
          "text": [
            "+--------------------+----+-----+-----+-----+-----+-----+-----+-----+-----+-----+-----+-----+-----+-----+---+\n",
            "|                   0|   1|    2|    3|    4|    5|    6|    7|    8|    9|   10|   11|   12|   13|   14| id|\n",
            "+--------------------+----+-----+-----+-----+-----+-----+-----+-----+-----+-----+-----+-----+-----+-----+---+\n",
            "|      -BEGIN HEADER-| nan|  nan|  nan|  nan|  nan|  nan|  nan|  nan|  nan|  nan|  nan|  nan|  nan|  nan|  0|\n",
            "|NASA/POWER CERES/...| nan|  nan|  nan|  nan|  nan|  nan|  nan|  nan|  nan|  nan|  nan|  nan|  nan|  nan|  1|\n",
            "|Dates (month/day/...| nan|  nan|  nan|  nan|  nan|  nan|  nan|  nan|  nan|  nan|  nan|  nan|  nan|  nan|  2|\n",
            "|Location: Latitud...| nan|  nan|  nan|  nan|  nan|  nan|  nan|  nan|  nan|  nan|  nan|  nan|  nan|  nan|  3|\n",
            "|Elevation from ME...| nan|  nan|  nan|  nan|  nan|  nan|  nan|  nan|  nan|  nan|  nan|  nan|  nan|  nan|  4|\n",
            "|Value for missing...| nan|  nan|  nan|  nan|  nan|  nan|  nan|  nan|  nan|  nan|  nan|  nan|  nan|  nan|  5|\n",
            "|      Parameter(s): | nan|  nan|  nan|  nan|  nan|  nan|  nan|  nan|  nan|  nan|  nan|  nan|  nan|  nan|  6|\n",
            "|QV2M             ...| nan|  nan|  nan|  nan|  nan|  nan|  nan|  nan|  nan|  nan|  nan|  nan|  nan|  nan|  7|\n",
            "|T2MDEW           ...| nan|  nan|  nan|  nan|  nan|  nan|  nan|  nan|  nan|  nan|  nan|  nan|  nan|  nan|  8|\n",
            "|GWETTOP          ...| nan|  nan|  nan|  nan|  nan|  nan|  nan|  nan|  nan|  nan|  nan|  nan|  nan|  nan|  9|\n",
            "|T2M_MAX          ...| nan|  nan|  nan|  nan|  nan|  nan|  nan|  nan|  nan|  nan|  nan|  nan|  nan|  nan| 10|\n",
            "|T2M_MIN          ...| nan|  nan|  nan|  nan|  nan|  nan|  nan|  nan|  nan|  nan|  nan|  nan|  nan|  nan| 11|\n",
            "|GWETPROF         ...| nan|  nan|  nan|  nan|  nan|  nan|  nan|  nan|  nan|  nan|  nan|  nan|  nan|  nan| 12|\n",
            "|GWETROOT         ...| nan|  nan|  nan|  nan|  nan|  nan|  nan|  nan|  nan|  nan|  nan|  nan|  nan|  nan| 13|\n",
            "|WS2M_MAX         ...| nan|  nan|  nan|  nan|  nan|  nan|  nan|  nan|  nan|  nan|  nan|  nan|  nan|  nan| 14|\n",
            "|WS2M_MIN         ...| nan|  nan|  nan|  nan|  nan|  nan|  nan|  nan|  nan|  nan|  nan|  nan|  nan|  nan| 15|\n",
            "|CLOUD_AMT        ...| nan|  nan|  nan|  nan|  nan|  nan|  nan|  nan|  nan|  nan|  nan|  nan|  nan|  nan| 16|\n",
            "|PRECTOTCORR      ...| nan|  nan|  nan|  nan|  nan|  nan|  nan|  nan|  nan|  nan|  nan|  nan|  nan|  nan| 17|\n",
            "|ALLSKY_SFC_PAR_TO...| nan|  nan|  nan|  nan|  nan|  nan|  nan|  nan|  nan|  nan|  nan|  nan|  nan|  nan| 18|\n",
            "|        -END HEADER-| nan|  nan|  nan|  nan|  nan|  nan|  nan|  nan|  nan|  nan|  nan|  nan|  nan|  nan| 19|\n",
            "|           PARAMETER|YEAR|  JAN|  FEB|  MAR|  APR|  MAY|  JUN|  JUL|  AUG|  SEP|  OCT|  NOV|  DEC|  ANN| 20|\n",
            "|                QV2M|2011|13.24|13.85|14.22|16.78|17.15| 16.3|16.91|17.76|17.82|17.33| 15.2|14.16|15.93| 21|\n",
            "|                QV2M|2012|13.43|12.45|15.14|16.78|16.48|15.75|17.21|17.21|17.88|16.97|15.62|14.53|15.81| 22|\n",
            "|                QV2M|2013|13.67|13.55|14.34|16.97|17.09|17.21|17.09|18.07|18.62|18.49|16.05|12.94|16.17| 23|\n",
            "|                QV2M|2014|13.37|   13|13.61|15.81|17.88|16.66|17.09|17.64|18.01|17.15|15.08|13.98|15.81| 24|\n",
            "|                QV2M|2015|12.63|12.63|14.65|16.48|17.03|17.76|16.97|18.07|18.31|17.03|16.72|14.59|16.11| 25|\n",
            "|                QV2M|2016|13.12|14.22|15.38|16.85|17.76|18.19|17.82|17.33|18.07|15.75|13.79|12.88|15.93| 26|\n",
            "|                QV2M|2017|12.76|12.76| 15.2|16.48|17.21|17.82|17.58| 18.8|19.29|18.31|15.99|13.24| 16.3| 27|\n",
            "|                QV2M|2018|12.21|12.21|14.34|17.09|18.49|16.97| 16.6|17.03| 17.4|16.11|15.62|14.04|15.69| 28|\n",
            "|                QV2M|2019|12.39| 14.1|15.14|16.42|17.52|17.46|17.82|18.19|18.86|18.98|16.85| 15.2| 16.6| 29|\n",
            "+--------------------+----+-----+-----+-----+-----+-----+-----+-----+-----+-----+-----+-----+-----+-----+---+\n",
            "only showing top 30 rows\n",
            "\n"
          ]
        }
      ],
      "source": [
        "df_samp1 =df_samp1.astype('str')\n",
        "sp_df_samp1 = sqlContext.createDataFrame(df_samp1)\n",
        "sp_df_samp1 = sp_df_samp1.withColumn(\"id\", monotonically_increasing_id())\n",
        "sp_df_samp1.show(30)"
      ]
    },
    {
      "cell_type": "code",
      "execution_count": 15,
      "metadata": {
        "colab": {
          "base_uri": "https://localhost:8080/"
        },
        "id": "460LrRKad8Y9",
        "outputId": "f3e37d95-ac1a-4e56-8c7f-b97350709f70"
      },
      "outputs": [
        {
          "output_type": "execute_result",
          "data": {
            "text/plain": [
              "StructType(List(StructField(0,StringType,true),StructField(1,StringType,true),StructField(2,StringType,true),StructField(3,StringType,true),StructField(4,StringType,true),StructField(5,StringType,true),StructField(6,StringType,true),StructField(7,StringType,true),StructField(8,StringType,true),StructField(9,StringType,true),StructField(10,StringType,true),StructField(11,StringType,true),StructField(12,StringType,true),StructField(13,StringType,true),StructField(14,StringType,true),StructField(id,LongType,false)))"
            ]
          },
          "metadata": {},
          "execution_count": 15
        }
      ],
      "source": [
        "sp_df_samp1.schema"
      ]
    },
    {
      "cell_type": "code",
      "execution_count": 15,
      "metadata": {
        "id": "g9OjgI5HdDJt"
      },
      "outputs": [],
      "source": [
        "\n"
      ]
    },
    {
      "cell_type": "code",
      "execution_count": 16,
      "metadata": {
        "id": "6KJaJuVJaCo6"
      },
      "outputs": [],
      "source": [
        "sp_df_samp1 = sp_df_samp1.withColumn(\"STATE\",lit(None))\n",
        "schema1 = sp_df_samp1.schema\n",
        "\n",
        "df_original = sqlContext.createDataFrame([],schema1) # Creating an empty dataframe\n",
        " \n",
        "# explicit functions\n",
        "def unionAll(*dfs):\n",
        "    return reduce(DataFrame.unionAll, dfs)\n",
        "for i in xlsx_files:\n",
        "  pd_df_samp1 = pd.read_excel(i,header = None)\n",
        "  pd_df_samp1 = pd_df_samp1.astype('str')\n",
        "  df_samp1 = sqlContext.createDataFrame(pd_df_samp1)\n",
        "  df_samp1 = df_samp1.withColumn(\"id\", monotonically_increasing_id())\n",
        "  new_col = df_samp1.collect()[20]\n",
        "  df_samp1 = df_samp1.where(df_samp1.id>20) # deleting top 20 rows from our dataframe\n",
        "  df_samp1 = df_samp1.withColumn(\"STATE\", lit(i[57:-5])) # Adding values into \"State\" column \n",
        "  df_original = unionAll(*[df_original,df_samp1]) # Appending each individual dataframe into df_orginal\n",
        "#df_original.reset_index(drop=True, inplace=True) # Resetting the index values \n",
        "\n",
        "\n",
        "\n"
      ]
    },
    {
      "cell_type": "code",
      "execution_count": 17,
      "metadata": {
        "colab": {
          "base_uri": "https://localhost:8080/"
        },
        "id": "PN798GL1jwu-",
        "outputId": "72562ed2-6d4d-42bf-804e-8dffaf65c075"
      },
      "outputs": [
        {
          "output_type": "stream",
          "name": "stdout",
          "text": [
            "No:of rows =  3480 No:of Columns = 17\n"
          ]
        }
      ],
      "source": [
        "print(\"No:of rows = \",df_original.count(),\"No:of Columns =\",len(df_original.columns))"
      ]
    },
    {
      "cell_type": "code",
      "execution_count": 18,
      "metadata": {
        "id": "MG2WSY3mj1vx"
      },
      "outputs": [],
      "source": [
        "  #df_samp1.toDF(*new_col)"
      ]
    },
    {
      "cell_type": "code",
      "execution_count": 19,
      "metadata": {
        "id": "rBOc287lkXG3"
      },
      "outputs": [],
      "source": [
        "new_list =[]\n",
        "for i in new_col:\n",
        "  new_list.append(i)\n",
        "new_list[-1] = \"ID\"\n",
        "new_list.append(\"STATE\")\n",
        "df_original = df_original.toDF(*new_list)"
      ]
    },
    {
      "cell_type": "code",
      "execution_count": 20,
      "metadata": {
        "colab": {
          "base_uri": "https://localhost:8080/"
        },
        "id": "Og9D4XbemaGL",
        "outputId": "650a5378-72e4-47a0-957b-fcec23d0852b"
      },
      "outputs": [
        {
          "output_type": "stream",
          "name": "stdout",
          "text": [
            "+---------+----+-----+-----+-----+-----+-----+-----+-----+-----+-----+-----+-----+-----+-----+---+--------------+\n",
            "|PARAMETER|YEAR|  JAN|  FEB|  MAR|  APR|  MAY|  JUN|  JUL|  AUG|  SEP|  OCT|  NOV|  DEC|  ANN| ID|         STATE|\n",
            "+---------+----+-----+-----+-----+-----+-----+-----+-----+-----+-----+-----+-----+-----+-----+---+--------------+\n",
            "|     QV2M|2011|13.24|13.85|14.22|16.78|17.15| 16.3|16.91|17.76|17.82|17.33| 15.2|14.16|15.93| 21|Andhra Pradesh|\n",
            "|     QV2M|2012|13.43|12.45|15.14|16.78|16.48|15.75|17.21|17.21|17.88|16.97|15.62|14.53|15.81| 22|Andhra Pradesh|\n",
            "|     QV2M|2013|13.67|13.55|14.34|16.97|17.09|17.21|17.09|18.07|18.62|18.49|16.05|12.94|16.17| 23|Andhra Pradesh|\n",
            "|     QV2M|2014|13.37|   13|13.61|15.81|17.88|16.66|17.09|17.64|18.01|17.15|15.08|13.98|15.81| 24|Andhra Pradesh|\n",
            "|     QV2M|2015|12.63|12.63|14.65|16.48|17.03|17.76|16.97|18.07|18.31|17.03|16.72|14.59|16.11| 25|Andhra Pradesh|\n",
            "|     QV2M|2016|13.12|14.22|15.38|16.85|17.76|18.19|17.82|17.33|18.07|15.75|13.79|12.88|15.93| 26|Andhra Pradesh|\n",
            "|     QV2M|2017|12.76|12.76| 15.2|16.48|17.21|17.82|17.58| 18.8|19.29|18.31|15.99|13.24| 16.3| 27|Andhra Pradesh|\n",
            "|     QV2M|2018|12.21|12.21|14.34|17.09|18.49|16.97| 16.6|17.03| 17.4|16.11|15.62|14.04|15.69| 28|Andhra Pradesh|\n",
            "|     QV2M|2019|12.39| 14.1|15.14|16.42|17.52|17.46|17.82|18.19|18.86|18.98|16.85| 15.2| 16.6| 29|Andhra Pradesh|\n",
            "|     QV2M|2020|14.71|14.04|14.83|16.72|17.52|18.13|19.04|19.17|19.29|18.49|17.46|14.47|16.97| 30|Andhra Pradesh|\n",
            "|   T2MDEW|2011|18.41|19.04|19.19|21.94|22.19|21.55|22.17|23.03| 23.1|22.71| 20.6|19.34|21.12| 31|Andhra Pradesh|\n",
            "|   T2MDEW|2012|18.44| 17.1|19.98| 21.9|21.36| 20.9|22.51|22.51|23.17|22.33|20.84| 19.9|20.93| 32|Andhra Pradesh|\n",
            "|   T2MDEW|2013|18.92|18.64|19.31|22.04|22.15| 22.5|22.39|23.33|23.87|23.78|21.51|17.98|21.38| 33|Andhra Pradesh|\n",
            "|   T2MDEW|2014|18.66|17.98|18.56|20.73|22.95|21.88|22.37|22.98|23.32|22.54|20.42|19.26|20.99| 34|Andhra Pradesh|\n",
            "|   T2MDEW|2015|17.51|17.54|19.83|21.69|22.13|23.01|22.26|23.33|23.58|22.42|22.16|   20| 21.3| 35|Andhra Pradesh|\n",
            "|   T2MDEW|2016|18.32|19.44|20.57|21.69|22.92|23.44|23.12|22.61|23.33|20.94|18.76|17.52|21.05| 36|Andhra Pradesh|\n",
            "|   T2MDEW|2017|17.79|17.59|20.27|21.44|22.26|23.05|22.86|23.99|24.44|23.58|21.44|18.37|21.44| 37|Andhra Pradesh|\n",
            "|   T2MDEW|2018|17.03|16.71|19.12|22.26|23.57|22.16|21.89|22.35|22.73|21.39|20.93|19.23| 20.8| 38|Andhra Pradesh|\n",
            "|   T2MDEW|2019|17.26|19.17|20.19|21.44|22.35|22.57|23.07|23.45|24.12|24.28|22.32|20.72|21.76| 39|Andhra Pradesh|\n",
            "|   T2MDEW|2020| 20.1|19.33|20.07| 21.9|22.49|23.29|24.19|24.33|24.44|23.73|22.86|19.81|22.22| 40|Andhra Pradesh|\n",
            "+---------+----+-----+-----+-----+-----+-----+-----+-----+-----+-----+-----+-----+-----+-----+---+--------------+\n",
            "only showing top 20 rows\n",
            "\n"
          ]
        }
      ],
      "source": [
        "df_original.show()"
      ]
    },
    {
      "cell_type": "code",
      "execution_count": 21,
      "metadata": {
        "id": "cVa6NIyvmo3N"
      },
      "outputs": [],
      "source": [
        "list_parameters = df_original.select('PARAMETER').distinct().collect()"
      ]
    },
    {
      "cell_type": "code",
      "execution_count": 22,
      "metadata": {
        "colab": {
          "base_uri": "https://localhost:8080/"
        },
        "id": "yL73bX5TwrBP",
        "outputId": "0a641018-996f-4f46-c84b-5c448f541422"
      },
      "outputs": [
        {
          "output_type": "execute_result",
          "data": {
            "text/plain": [
              "[Row(PARAMETER='T2MDEW'),\n",
              " Row(PARAMETER='GWETTOP'),\n",
              " Row(PARAMETER='T2M_MAX'),\n",
              " Row(PARAMETER='T2M_MIN'),\n",
              " Row(PARAMETER='QV2M'),\n",
              " Row(PARAMETER='WS2M_MAX'),\n",
              " Row(PARAMETER='GWETROOT'),\n",
              " Row(PARAMETER='PRECTOTCORR'),\n",
              " Row(PARAMETER='GWETPROF'),\n",
              " Row(PARAMETER='ALLSKY_SFC_PAR_TOT'),\n",
              " Row(PARAMETER='CLOUD_AMT'),\n",
              " Row(PARAMETER='WS2M_MIN')]"
            ]
          },
          "metadata": {},
          "execution_count": 22
        }
      ],
      "source": [
        "list_parameters"
      ]
    },
    {
      "cell_type": "code",
      "execution_count": 23,
      "metadata": {
        "colab": {
          "base_uri": "https://localhost:8080/"
        },
        "id": "I5ioKJEGwwfn",
        "outputId": "8de8246c-08af-4d0b-d9e7-4ec4a908097b"
      },
      "outputs": [
        {
          "output_type": "execute_result",
          "data": {
            "text/plain": [
              "True"
            ]
          },
          "metadata": {},
          "execution_count": 23
        }
      ],
      "source": [
        "len(list_parameters) == 12"
      ]
    },
    {
      "cell_type": "code",
      "execution_count": 24,
      "metadata": {
        "id": "Y299WiTjzC-z"
      },
      "outputs": [],
      "source": [
        "list_states = df_original.select('STATE').distinct().collect()"
      ]
    },
    {
      "cell_type": "code",
      "execution_count": 25,
      "metadata": {
        "colab": {
          "base_uri": "https://localhost:8080/"
        },
        "id": "vXfc0H95LmAq",
        "outputId": "bcaf246b-7e15-4bda-dcbc-34ba983d12db"
      },
      "outputs": [
        {
          "output_type": "execute_result",
          "data": {
            "text/plain": [
              "True"
            ]
          },
          "metadata": {},
          "execution_count": 25
        }
      ],
      "source": [
        "len(list_states) == 29"
      ]
    },
    {
      "cell_type": "code",
      "execution_count": 26,
      "metadata": {
        "colab": {
          "base_uri": "https://localhost:8080/"
        },
        "id": "g4qDPJszTwIN",
        "outputId": "325b007f-6687-47f9-a479-73d5094d8505"
      },
      "outputs": [
        {
          "output_type": "stream",
          "name": "stdout",
          "text": [
            "+---------+----+---+---+---+---+---+---+---+---+---+---+---+---+---+---+-----+\n",
            "|PARAMETER|YEAR|JAN|FEB|MAR|APR|MAY|JUN|JUL|AUG|SEP|OCT|NOV|DEC|ANN| ID|STATE|\n",
            "+---------+----+---+---+---+---+---+---+---+---+---+---+---+---+---+---+-----+\n",
            "|        0|   0|  0|  0|  0|  0|  0|  0|  0|  0|  0|  0|  0|  0|  0|  0|    0|\n",
            "+---------+----+---+---+---+---+---+---+---+---+---+---+---+---+---+---+-----+\n",
            "\n"
          ]
        }
      ],
      "source": [
        "df_original.select([count(when(isnan(c) | col(c).isNull(), c)).alias(c) for c in df_original.columns]).show()\n"
      ]
    },
    {
      "cell_type": "code",
      "execution_count": 27,
      "metadata": {
        "colab": {
          "base_uri": "https://localhost:8080/"
        },
        "id": "d-l9KWf1YdI3",
        "outputId": "ec210a02-44aa-4b3f-c51b-c71f64a67552"
      },
      "outputs": [
        {
          "output_type": "execute_result",
          "data": {
            "text/plain": [
              "['PARAMETER',\n",
              " 'YEAR',\n",
              " 'JAN',\n",
              " 'FEB',\n",
              " 'MAR',\n",
              " 'APR',\n",
              " 'MAY',\n",
              " 'JUN',\n",
              " 'JUL',\n",
              " 'AUG',\n",
              " 'SEP',\n",
              " 'OCT',\n",
              " 'NOV',\n",
              " 'DEC',\n",
              " 'ANN',\n",
              " 'ID',\n",
              " 'STATE']"
            ]
          },
          "metadata": {},
          "execution_count": 27
        }
      ],
      "source": [
        "df_original.columns"
      ]
    },
    {
      "cell_type": "code",
      "execution_count": 28,
      "metadata": {
        "id": "agT1TiGNYfRd"
      },
      "outputs": [],
      "source": [
        "#df_original.write.format(\"csv\").save(\"/content/drive/MyDrive/Capstone/Datasets/Final_Datasets/Final_Wether_Dataset\")"
      ]
    },
    {
      "cell_type": "markdown",
      "metadata": {
        "id": "hWoKfWcEcPqg"
      },
      "source": [
        "# **EDA of CROPS DATASET**"
      ]
    },
    {
      "cell_type": "markdown",
      "metadata": {
        "id": "Ws9CjMPKcPt0"
      },
      "source": [
        ""
      ]
    },
    {
      "cell_type": "code",
      "execution_count": 29,
      "metadata": {
        "colab": {
          "base_uri": "https://localhost:8080/"
        },
        "id": "MV7ILOxVeQGa",
        "outputId": "eab811d9-9898-4658-f95d-59023c289169"
      },
      "outputs": [
        {
          "output_type": "stream",
          "name": "stdout",
          "text": [
            "['/content/drive/MyDrive/Capstone/Datasets/Vegtables/Bitter Gourd', '/content/drive/MyDrive/Capstone/Datasets/Vegtables/Brinjal', '/content/drive/MyDrive/Capstone/Datasets/Vegtables/Cabbage', '/content/drive/MyDrive/Capstone/Datasets/Vegtables/Cauliflower', '/content/drive/MyDrive/Capstone/Datasets/Vegtables/Green Chillies', '/content/drive/MyDrive/Capstone/Datasets/Vegtables/Okra', '/content/drive/MyDrive/Capstone/Datasets/Vegtables/Onion', '/content/drive/MyDrive/Capstone/Datasets/Vegtables/Peas', '/content/drive/MyDrive/Capstone/Datasets/Vegtables/Tomato Hybrid', '/content/drive/MyDrive/Capstone/Datasets/Vegtables/Tomato Local']\n",
            "No:of files in the directory :  10\n"
          ]
        }
      ],
      "source": [
        "path = \"/content/drive/MyDrive/Capstone/Datasets/Vegtables/\" # Path to my vegetable dataset in google drive(Accessible to UMBC group members)\n",
        "files = glob.glob(path+\"*\") #Using glob module to return the fies of 10 different perishable food crops \n",
        "print(files) # Printing all the food crop files path\n",
        "print(\"No:of files in the directory : \",len(files)) # Checking no:of files in the list /"
      ]
    },
    {
      "cell_type": "code",
      "execution_count": 30,
      "metadata": {
        "id": "nbP5tezceQ5V"
      },
      "outputs": [],
      "source": [
        "xlsx_files= [] # Creating an empty list \n",
        "for i in range(0,10):\n",
        "  file1 = glob.glob(files[i]+\"/*\")# Adding \"/*\" to the end of each folder path to retrieve all the files in that folder\n",
        "  xlsx_files.append(file1) # Appending all the files retrieved from that folder into xlsx.files list "
      ]
    },
    {
      "cell_type": "code",
      "execution_count": 31,
      "metadata": {
        "colab": {
          "base_uri": "https://localhost:8080/"
        },
        "id": "3RDyNzO2eT3R",
        "outputId": "8d2adf04-8593-4ee0-a9b5-ee6bbfbceeaa"
      },
      "outputs": [
        {
          "output_type": "stream",
          "name": "stdout",
          "text": [
            "11\n",
            "11\n",
            "11\n",
            "11\n",
            "11\n",
            "11\n",
            "11\n",
            "11\n",
            "11\n",
            "11\n"
          ]
        },
        {
          "output_type": "execute_result",
          "data": {
            "text/plain": [
              "[['/content/drive/MyDrive/Capstone/Datasets/Vegtables/Bitter Gourd/BG 2011.xls.xlsx',\n",
              "  '/content/drive/MyDrive/Capstone/Datasets/Vegtables/Bitter Gourd/BG 2012.xlsx',\n",
              "  '/content/drive/MyDrive/Capstone/Datasets/Vegtables/Bitter Gourd/Bg 2013.xls.xlsx',\n",
              "  '/content/drive/MyDrive/Capstone/Datasets/Vegtables/Bitter Gourd/BG 2014.xls.xlsx',\n",
              "  '/content/drive/MyDrive/Capstone/Datasets/Vegtables/Bitter Gourd/BG 2015.xls.xlsx',\n",
              "  '/content/drive/MyDrive/Capstone/Datasets/Vegtables/Bitter Gourd/BG 2016.xls.xlsx',\n",
              "  '/content/drive/MyDrive/Capstone/Datasets/Vegtables/Bitter Gourd/BG 2017.xls.xlsx',\n",
              "  '/content/drive/MyDrive/Capstone/Datasets/Vegtables/Bitter Gourd/BG 2018.xls.xlsx',\n",
              "  '/content/drive/MyDrive/Capstone/Datasets/Vegtables/Bitter Gourd/BG 2020.xls.xlsx',\n",
              "  '/content/drive/MyDrive/Capstone/Datasets/Vegtables/Bitter Gourd/BG 2019.xls.xlsx',\n",
              "  '/content/drive/MyDrive/Capstone/Datasets/Vegtables/Bitter Gourd/BG 2021.xls.xlsx'],\n",
              " ['/content/drive/MyDrive/Capstone/Datasets/Vegtables/Brinjal/BR 2020.xls.xlsx',\n",
              "  '/content/drive/MyDrive/Capstone/Datasets/Vegtables/Brinjal/BR 2019.xls.xlsx',\n",
              "  '/content/drive/MyDrive/Capstone/Datasets/Vegtables/Brinjal/BR 2018.xls.xlsx',\n",
              "  '/content/drive/MyDrive/Capstone/Datasets/Vegtables/Brinjal/BR 2017.xls.xlsx',\n",
              "  '/content/drive/MyDrive/Capstone/Datasets/Vegtables/Brinjal/BR 2015.xls.xlsx',\n",
              "  '/content/drive/MyDrive/Capstone/Datasets/Vegtables/Brinjal/BR 2021.xls.xlsx',\n",
              "  '/content/drive/MyDrive/Capstone/Datasets/Vegtables/Brinjal/BR 2012.xls.xlsx',\n",
              "  '/content/drive/MyDrive/Capstone/Datasets/Vegtables/Brinjal/BR 2014.xls.xlsx',\n",
              "  '/content/drive/MyDrive/Capstone/Datasets/Vegtables/Brinjal/BR 2011.xls.xlsx',\n",
              "  '/content/drive/MyDrive/Capstone/Datasets/Vegtables/Brinjal/BR 2016.xls.xlsx',\n",
              "  '/content/drive/MyDrive/Capstone/Datasets/Vegtables/Brinjal/BR 2013.xls.xlsx'],\n",
              " ['/content/drive/MyDrive/Capstone/Datasets/Vegtables/Cabbage/CB 2020.xls.xlsx',\n",
              "  '/content/drive/MyDrive/Capstone/Datasets/Vegtables/Cabbage/CB 2018.xls.xlsx',\n",
              "  '/content/drive/MyDrive/Capstone/Datasets/Vegtables/Cabbage/cb 2017.xls.xlsx',\n",
              "  '/content/drive/MyDrive/Capstone/Datasets/Vegtables/Cabbage/CB 2019.xls.xlsx',\n",
              "  '/content/drive/MyDrive/Capstone/Datasets/Vegtables/Cabbage/CB 2016.xls.xlsx',\n",
              "  '/content/drive/MyDrive/Capstone/Datasets/Vegtables/Cabbage/CB 2015.xls.xlsx',\n",
              "  '/content/drive/MyDrive/Capstone/Datasets/Vegtables/Cabbage/CB 2012.xls.xlsx',\n",
              "  '/content/drive/MyDrive/Capstone/Datasets/Vegtables/Cabbage/CB 2011.xls.xlsx',\n",
              "  '/content/drive/MyDrive/Capstone/Datasets/Vegtables/Cabbage/CB 2014.xls.xlsx',\n",
              "  '/content/drive/MyDrive/Capstone/Datasets/Vegtables/Cabbage/CB 2013.xls.xlsx',\n",
              "  '/content/drive/MyDrive/Capstone/Datasets/Vegtables/Cabbage/CB 2021.xls.xlsx'],\n",
              " ['/content/drive/MyDrive/Capstone/Datasets/Vegtables/Cauliflower/CF 2021.xls.xlsx',\n",
              "  '/content/drive/MyDrive/Capstone/Datasets/Vegtables/Cauliflower/CF 2020.xls.xlsx',\n",
              "  '/content/drive/MyDrive/Capstone/Datasets/Vegtables/Cauliflower/CF 2019.xls.xlsx',\n",
              "  '/content/drive/MyDrive/Capstone/Datasets/Vegtables/Cauliflower/CF 2018.xls.xlsx',\n",
              "  '/content/drive/MyDrive/Capstone/Datasets/Vegtables/Cauliflower/CF 2017.xls.xlsx',\n",
              "  '/content/drive/MyDrive/Capstone/Datasets/Vegtables/Cauliflower/CF 2015.xls.xlsx',\n",
              "  '/content/drive/MyDrive/Capstone/Datasets/Vegtables/Cauliflower/CF 2014.xls.xlsx',\n",
              "  '/content/drive/MyDrive/Capstone/Datasets/Vegtables/Cauliflower/CF 2016.xls.xlsx',\n",
              "  '/content/drive/MyDrive/Capstone/Datasets/Vegtables/Cauliflower/CF 2013.xls.xlsx',\n",
              "  '/content/drive/MyDrive/Capstone/Datasets/Vegtables/Cauliflower/CF 2012.xls.xlsx',\n",
              "  '/content/drive/MyDrive/Capstone/Datasets/Vegtables/Cauliflower/CF 2011.xls.xlsx'],\n",
              " ['/content/drive/MyDrive/Capstone/Datasets/Vegtables/Green Chillies/GC 2015.xls.xlsx',\n",
              "  '/content/drive/MyDrive/Capstone/Datasets/Vegtables/Green Chillies/GC 2014.xls.xlsx',\n",
              "  '/content/drive/MyDrive/Capstone/Datasets/Vegtables/Green Chillies/GC 2013.xls.xlsx',\n",
              "  '/content/drive/MyDrive/Capstone/Datasets/Vegtables/Green Chillies/GC 2020.xls.xlsx',\n",
              "  '/content/drive/MyDrive/Capstone/Datasets/Vegtables/Green Chillies/GC 2018.xls.xlsx',\n",
              "  '/content/drive/MyDrive/Capstone/Datasets/Vegtables/Green Chillies/GC 2019.xls.xlsx',\n",
              "  '/content/drive/MyDrive/Capstone/Datasets/Vegtables/Green Chillies/GC 2021.xls.xlsx',\n",
              "  '/content/drive/MyDrive/Capstone/Datasets/Vegtables/Green Chillies/GC 2016.xls.xlsx',\n",
              "  '/content/drive/MyDrive/Capstone/Datasets/Vegtables/Green Chillies/GC 2011.xls.xlsx',\n",
              "  '/content/drive/MyDrive/Capstone/Datasets/Vegtables/Green Chillies/GC 2012.xls.xlsx',\n",
              "  '/content/drive/MyDrive/Capstone/Datasets/Vegtables/Green Chillies/GC 2017.xls.xlsx'],\n",
              " ['/content/drive/MyDrive/Capstone/Datasets/Vegtables/Okra/OK 2011.xls.xlsx',\n",
              "  '/content/drive/MyDrive/Capstone/Datasets/Vegtables/Okra/OK 2021.xls.xlsx',\n",
              "  '/content/drive/MyDrive/Capstone/Datasets/Vegtables/Okra/OK 2018.xls.xlsx',\n",
              "  '/content/drive/MyDrive/Capstone/Datasets/Vegtables/Okra/OK 2020.xls.xlsx',\n",
              "  '/content/drive/MyDrive/Capstone/Datasets/Vegtables/Okra/OK 2017.xls.xlsx',\n",
              "  '/content/drive/MyDrive/Capstone/Datasets/Vegtables/Okra/OK 2016.xls.xlsx',\n",
              "  '/content/drive/MyDrive/Capstone/Datasets/Vegtables/Okra/OK 2013.xls.xlsx',\n",
              "  '/content/drive/MyDrive/Capstone/Datasets/Vegtables/Okra/OK 2015.xls.xlsx',\n",
              "  '/content/drive/MyDrive/Capstone/Datasets/Vegtables/Okra/OK 2019.xls.xlsx',\n",
              "  '/content/drive/MyDrive/Capstone/Datasets/Vegtables/Okra/OK 2014.xls.xlsx',\n",
              "  '/content/drive/MyDrive/Capstone/Datasets/Vegtables/Okra/OK 2012.xls.xlsx'],\n",
              " ['/content/drive/MyDrive/Capstone/Datasets/Vegtables/Onion/ON 2021.xls.xlsx',\n",
              "  '/content/drive/MyDrive/Capstone/Datasets/Vegtables/Onion/ON 2020.xls.xlsx',\n",
              "  '/content/drive/MyDrive/Capstone/Datasets/Vegtables/Onion/ON 2019.xls.xlsx',\n",
              "  '/content/drive/MyDrive/Capstone/Datasets/Vegtables/Onion/ON 2018.xls.xlsx',\n",
              "  '/content/drive/MyDrive/Capstone/Datasets/Vegtables/Onion/ON 2014.xls.xlsx',\n",
              "  '/content/drive/MyDrive/Capstone/Datasets/Vegtables/Onion/ON 2012.xls.xlsx',\n",
              "  '/content/drive/MyDrive/Capstone/Datasets/Vegtables/Onion/ON 2013.xls.xlsx',\n",
              "  '/content/drive/MyDrive/Capstone/Datasets/Vegtables/Onion/ON 2016.xls.xlsx',\n",
              "  '/content/drive/MyDrive/Capstone/Datasets/Vegtables/Onion/ON 2017.xls.xlsx',\n",
              "  '/content/drive/MyDrive/Capstone/Datasets/Vegtables/Onion/ON 2015.xls.xlsx',\n",
              "  '/content/drive/MyDrive/Capstone/Datasets/Vegtables/Onion/ON 2011.xls.xlsx'],\n",
              " ['/content/drive/MyDrive/Capstone/Datasets/Vegtables/Peas/PS 2016.xls.xlsx',\n",
              "  '/content/drive/MyDrive/Capstone/Datasets/Vegtables/Peas/PS 2015.xls.xlsx',\n",
              "  '/content/drive/MyDrive/Capstone/Datasets/Vegtables/Peas/PS 2014.xls.xlsx',\n",
              "  '/content/drive/MyDrive/Capstone/Datasets/Vegtables/Peas/PS 2013.xls.xlsx',\n",
              "  '/content/drive/MyDrive/Capstone/Datasets/Vegtables/Peas/PS 2020.xls.xlsx',\n",
              "  '/content/drive/MyDrive/Capstone/Datasets/Vegtables/Peas/PS 2021.xls.xlsx',\n",
              "  '/content/drive/MyDrive/Capstone/Datasets/Vegtables/Peas/PS 2011.xls.xlsx',\n",
              "  '/content/drive/MyDrive/Capstone/Datasets/Vegtables/Peas/PS 2012.xls.xlsx',\n",
              "  '/content/drive/MyDrive/Capstone/Datasets/Vegtables/Peas/PS 2019.xls.xlsx',\n",
              "  '/content/drive/MyDrive/Capstone/Datasets/Vegtables/Peas/PS 2017.xls.xlsx',\n",
              "  '/content/drive/MyDrive/Capstone/Datasets/Vegtables/Peas/PS 2018.xls.xlsx'],\n",
              " ['/content/drive/MyDrive/Capstone/Datasets/Vegtables/Tomato Hybrid/TH 2021.xls.xlsx',\n",
              "  '/content/drive/MyDrive/Capstone/Datasets/Vegtables/Tomato Hybrid/TH 2020.xls.xlsx',\n",
              "  '/content/drive/MyDrive/Capstone/Datasets/Vegtables/Tomato Hybrid/TH 2014.xls.xlsx',\n",
              "  '/content/drive/MyDrive/Capstone/Datasets/Vegtables/Tomato Hybrid/TH 2018.xls.xlsx',\n",
              "  '/content/drive/MyDrive/Capstone/Datasets/Vegtables/Tomato Hybrid/TH 2011.xls.xlsx',\n",
              "  '/content/drive/MyDrive/Capstone/Datasets/Vegtables/Tomato Hybrid/TH 2013.xls.xlsx',\n",
              "  '/content/drive/MyDrive/Capstone/Datasets/Vegtables/Tomato Hybrid/TH 2019.xls.xlsx',\n",
              "  '/content/drive/MyDrive/Capstone/Datasets/Vegtables/Tomato Hybrid/TH 2015.xls.xlsx',\n",
              "  '/content/drive/MyDrive/Capstone/Datasets/Vegtables/Tomato Hybrid/TH 2017.xls.xlsx',\n",
              "  '/content/drive/MyDrive/Capstone/Datasets/Vegtables/Tomato Hybrid/TH 2016.xls.xlsx',\n",
              "  '/content/drive/MyDrive/Capstone/Datasets/Vegtables/Tomato Hybrid/TH 2012.xls.xlsx'],\n",
              " ['/content/drive/MyDrive/Capstone/Datasets/Vegtables/Tomato Local/TL 2021.xls.xlsx',\n",
              "  '/content/drive/MyDrive/Capstone/Datasets/Vegtables/Tomato Local/TL 2020.xls.xlsx',\n",
              "  '/content/drive/MyDrive/Capstone/Datasets/Vegtables/Tomato Local/TL 2013.xls.xlsx',\n",
              "  '/content/drive/MyDrive/Capstone/Datasets/Vegtables/Tomato Local/TL 2018.xls.xlsx',\n",
              "  '/content/drive/MyDrive/Capstone/Datasets/Vegtables/Tomato Local/TL 2015.xls.xlsx',\n",
              "  '/content/drive/MyDrive/Capstone/Datasets/Vegtables/Tomato Local/TL 2017.xls.xlsx',\n",
              "  '/content/drive/MyDrive/Capstone/Datasets/Vegtables/Tomato Local/TL 2014.xls.xlsx',\n",
              "  '/content/drive/MyDrive/Capstone/Datasets/Vegtables/Tomato Local/TL 2011.xls.xlsx',\n",
              "  '/content/drive/MyDrive/Capstone/Datasets/Vegtables/Tomato Local/TL 2019.xls.xlsx',\n",
              "  '/content/drive/MyDrive/Capstone/Datasets/Vegtables/Tomato Local/TL 2016.xls.xlsx',\n",
              "  '/content/drive/MyDrive/Capstone/Datasets/Vegtables/Tomato Local/TL 2012.xls.xlsx']]"
            ]
          },
          "metadata": {},
          "execution_count": 31
        }
      ],
      "source": [
        "for i in range(0,len(xlsx_files)):# Printing no:of excel files related to each individual food crop\n",
        "  print(len(xlsx_files[i]))\n",
        "xlsx_files # Pring all the excel files"
      ]
    },
    {
      "cell_type": "code",
      "execution_count": 32,
      "metadata": {
        "id": "rEqJWtXHeWXH"
      },
      "outputs": [],
      "source": [
        "df_samp11  = pd.read_excel(xlsx_files[0][0])"
      ]
    },
    {
      "cell_type": "code",
      "execution_count": 33,
      "metadata": {
        "id": "iutvyaL6ehY0"
      },
      "outputs": [],
      "source": [
        "df_samp11 =df_samp11.astype('str')\n",
        "sp_df_samp1 = sqlContext.createDataFrame(df_samp11)\n",
        "schema2 = sp_df_samp1.schema"
      ]
    },
    {
      "cell_type": "code",
      "execution_count": 34,
      "metadata": {
        "colab": {
          "base_uri": "https://localhost:8080/"
        },
        "id": "0ePQJ4aJe7Zp",
        "outputId": "8fdf0959-6ec2-4aa4-e3cf-ddee019a98d2"
      },
      "outputs": [
        {
          "output_type": "stream",
          "name": "stdout",
          "text": [
            "+-----------------------------------------------------+--------------------+----------------+-----------------+-------------+----------------+-----------------+-------------+----------------+-----------------+-------------+----------------+-----------------+-------------+----------------+-----------------+-------------+----------------+-----------------+-------------+----------------+-----------------+-------------+----------------+-----------------+-------------+----------------+-----------------+-------------+----------------+-----------------+-------------+----------------+-----------------+-------------+----------------+-----------------+-------------+\n",
            "|Report Name : Monthwise Annual Price & Arrival Report|          Unnamed: 1|      Unnamed: 2|       Unnamed: 3|   Unnamed: 4|      Unnamed: 5|       Unnamed: 6|   Unnamed: 7|      Unnamed: 8|       Unnamed: 9|  Unnamed: 10|     Unnamed: 11|      Unnamed: 12|  Unnamed: 13|     Unnamed: 14|      Unnamed: 15|  Unnamed: 16|     Unnamed: 17|      Unnamed: 18|  Unnamed: 19|     Unnamed: 20|      Unnamed: 21|  Unnamed: 22|     Unnamed: 23|      Unnamed: 24|  Unnamed: 25|     Unnamed: 26|      Unnamed: 27|  Unnamed: 28|     Unnamed: 29|      Unnamed: 30|  Unnamed: 31|     Unnamed: 32|      Unnamed: 33|  Unnamed: 34|     Unnamed: 35|      Unnamed: 36|  Unnamed: 37|\n",
            "+-----------------------------------------------------+--------------------+----------------+-----------------+-------------+----------------+-----------------+-------------+----------------+-----------------+-------------+----------------+-----------------+-------------+----------------+-----------------+-------------+----------------+-----------------+-------------+----------------+-----------------+-------------+----------------+-----------------+-------------+----------------+-----------------+-------------+----------------+-----------------+-------------+----------------+-----------------+-------------+----------------+-----------------+-------------+\n",
            "|                                 Current Date : 07...|                 nan|             nan|              nan|          nan|             nan|              nan|          nan|             nan|              nan|          nan|             nan|              nan|          nan|             nan|              nan|          nan|             nan|              nan|          nan|             nan|              nan|          nan|             nan|              nan|          nan|             nan|              nan|          nan|             nan|              nan|          nan|             nan|              nan|          nan|             nan|              nan|          nan|\n",
            "|                                 Selected Year : 2011|                 nan|             nan|              nan|          nan|             nan|              nan|          nan|             nan|              nan|          nan|             nan|              nan|          nan|             nan|              nan|          nan|             nan|              nan|          nan|             nan|              nan|          nan|             nan|              nan|          nan|             nan|              nan|          nan|             nan|              nan|          nan|             nan|              nan|          nan|             nan|              nan|          nan|\n",
            "|                                 Crop Category : V...|                 nan|             nan|              nan|          nan|             nan|              nan|          nan|             nan|              nan|          nan|             nan|              nan|          nan|             nan|              nan|          nan|             nan|              nan|          nan|             nan|              nan|          nan|             nan|              nan|          nan|             nan|              nan|          nan|             nan|              nan|          nan|             nan|              nan|          nan|             nan|              nan|          nan|\n",
            "|                                 Crop Name : BITTE...|                 nan|             nan|              nan|          nan|             nan|              nan|          nan|             nan|              nan|          nan|             nan|              nan|          nan|             nan|              nan|          nan|             nan|              nan|          nan|             nan|              nan|          nan|             nan|              nan|          nan|             nan|              nan|          nan|             nan|              nan|          nan|             nan|              nan|          nan|             nan|              nan|          nan|\n",
            "|                                 Variety Name : BI...|                 nan|             nan|              nan|          nan|             nan|              nan|          nan|             nan|              nan|          nan|             nan|              nan|          nan|             nan|              nan|          nan|             nan|              nan|          nan|             nan|              nan|          nan|             nan|              nan|          nan|             nan|              nan|          nan|             nan|              nan|          nan|             nan|              nan|          nan|             nan|              nan|          nan|\n",
            "|                                                  nan|                 nan|             nan|              nan|          nan|             nan|              nan|          nan|             nan|              nan|          nan|             nan|              nan|          nan|             nan|              nan|          nan|             nan|              nan|          nan|             nan|              nan|          nan|             nan|              nan|          nan|             nan|              nan|          nan|             nan|              nan|          nan|             nan|              nan|          nan|             nan|              nan|          nan|\n",
            "|                                                  nan|                 nan|         January|              nan|          nan|        February|              nan|          nan|           March|              nan|          nan|           April|              nan|          nan|             May|              nan|          nan|            June|              nan|          nan|            July|              nan|          nan|          August|              nan|          nan|       September|              nan|          nan|         October|              nan|          nan|        November|              nan|          nan|        December|              nan|          nan|\n",
            "|                                                S.No.|         Center Name|W.sale Avg.Price|Retail Avg. Price|Total Arrival|W.sale Avg.Price|Retail Avg. Price|Total Arrival|W.sale Avg.Price|Retail Avg. Price|Total Arrival|W.sale Avg.Price|Retail Avg. Price|Total Arrival|W.sale Avg.Price|Retail Avg. Price|Total Arrival|W.sale Avg.Price|Retail Avg. Price|Total Arrival|W.sale Avg.Price|Retail Avg. Price|Total Arrival|W.sale Avg.Price|Retail Avg. Price|Total Arrival|W.sale Avg.Price|Retail Avg. Price|Total Arrival|W.sale Avg.Price|Retail Avg. Price|Total Arrival|W.sale Avg.Price|Retail Avg. Price|Total Arrival|W.sale Avg.Price|Retail Avg. Price|Total Arrival|\n",
            "|                                                    1|AHMEDABAD / अहमदाबाद|               0|                0|            0|               0|                0|            0|            1307|             3238|          666|            1119|             2795|          750|             751|             2140|          745|            1729|             3200|         1608|            1164|             2754|          799|            1173|             3083|          903|            1139|             2920|          806|             960|             2500|          167|             800|             2000|           46|               0|                0|            0|\n",
            "|                                                    2|   AMRITSAR / अमृतसर|               0|                0|            0|               0|                0|            0|               0|                0|            0|               0|                0|            0|            1179|             2321|           46|             640|             1635|          124|             942|             2096|           80|            1083|             2042|           63|            1269|             2885|           68|            1076|             2476|           55|               0|                0|            0|               0|                0|            0|\n",
            "|                                                    3|BANGALURU / बेंगलुरू|            1410|             2083|           82|            1073|             1796|           91|             965|             1694|          112|             932|             1818|          111|            1546|             2161|          222|            1660|             2373|          242|            1589|             2393|          129|            1542|             2388|          220|            1659|             2470|          197|            1716|             2458|           54|            1563|             2258|           77|            1539|             2261|           87|\n",
            "|                                                    4|       BARAUT / बड़ौत|               0|                0|            0|               0|                0|            0|               0|                0|            0|            1370|             1720|           10|            1018|             1396|           88|             750|             1130|          115|            1231|             1673|           95|            1061|             1500|           41|               0|                0|            0|               0|                0|            0|               0|                0|            0|               0|                0|            0|\n",
            "|                                                    5|      BHOPAL / भोपाल|               0|                0|            0|               0|                0|            0|            2546|             3032|           26|            1907|             2255|           64|            1298|             1620|          153|            1462|             1804|         1244|            2262|             2777|          143|            1576|             1940|          290|            1448|             1804|          191|            1035|             1346|          368|            1608|             1917|          164|            1596|             1927|          151|\n",
            "|                                                    6|BHUBANESHWAR / भु...|            2540|             3130|           52|            2339|             2911|           33|            1630|             2189|          100|             847|             1187|          178|             795|             1220|          196|            1498|             1977|           65|            1723|             2284|           46|            1648|             2102|           96|            2105|             2755|           53|            1926|             2621|           67|            1635|             2208|           86|            1480|             1959|          109|\n",
            "|                                                    7| CHANDIGARH / चंडीगढ़|               0|                0|            0|               0|                0|            0|               0|                0|            0|               0|                0|            0|            1488|             2515|          805|             869|             1538|          906|             996|             2147|          964|            1148|             1979|          675|            1359|             2352|          575|            1457|             4492|          521|               0|                0|            0|               0|                0|            0|\n",
            "|                                                    8|    CHENNAI / चेन्नई|            1908|             3016|          425|            1387|             2343|          680|            1222|             2048|          571|            1013|             1780|          416|            1276|             2048|          521|            1248|             2025|          680|            1546|             2421|          468|            1447|             2292|          831|            1486|             2393|          836|            1500|             2296|          462|            1378|             2000|          489|            1420|             2032|          571|\n",
            "|                                                    9| DEHRADUN / देहरादून|               0|                0|            0|               0|                0|            0|               0|                0|            0|            2632|             3477|           33|             719|             1363|          162|             828|             1520|          155|             899|             1692|          207|             810|             1729|          196|            1306|             2380|          138|            1242|             2174|           87|            1746|             3000|           40|            2338|             3208|           22|\n",
            "|                                                   10|      DELHI / दिल्ली|            2342|             3542|          582|            2358|             3778|          796|            2321|             4238|         1233|            2027|             3818|         1624|             914|             1880|         1713|             601|             1104|         2419|             883|             1227|         1768|             923|             1800|         1438|            1346|             2488|         1222|            1162|             2361|          393|            1386|             2108|          383|            1598|             2092|         1199|\n",
            "|                                                   11|   GANGATOK / गंगटोक|            2419|             3188|           16|            3364|             4200|            6|               0|                0|            0|            2021|             2765|           15|            1376|             1984|           26|            1199|             1715|           28|            1447|             2344|           23|            2118|             3104|           24|            2750|             3800|           20|            2598|             3487|           23|            2140|             3396|           24|            2081|             2813|           23|\n",
            "|                                                   12| GUWAHATI / गुवाहाटी|               0|                0|            0|               0|                0|            0|               0|                0|            0|            1445|             2179|          268|             653|             1080|          458|             596|             1064|          350|             752|             1344|          293|            1006|             1646|          231|            1523|             2385|          215|               0|                0|            0|               0|                0|            0|               0|                0|            0|\n",
            "|                                                   13|HYDERABAD / हैदराबाद|            1229|             2196|         1242|             986|             1562|          986|             530|              884|         1590|             576|              968|          896|             584|              980|          672|             744|             1204|         1174|            1006|             1579|         1056|            1207|             2029|         1654|             833|             1293|         1018|             767|             1225|         1516|             848|             1335|          442|             950|             1525|          898|\n",
            "|                                                   14|      JAIPUR / जयपुर|               0|                0|            0|               0|                0|            0|               0|                0|            0|               0|                0|            0|               0|                0|            0|            1126|             1935|          305|            1086|             1867|          719|            1170|             2063|          313|            1161|             2008|          399|            1117|             1930|          266|             987|             1720|           45|               0|                0|            0|\n",
            "|                                                   15|       JAMMU / जम्मू|            3373|             4845|           30|            2474|             3729|           52|            2452|             3668|           65|            2245|             3286|           55|            1172|             1836|          229|             706|             1696|          123|            1106|             1873|          105|            1044|             1888|          178|            1104|             1781|          164|             930|             1773|          112|            1135|             2088|           76|            1681|             2542|           66|\n",
            "|                                                   16|   KOLKATA / कोलकाता|            2567|             3750|           49|               0|                0|            0|               0|                0|            0|            1317|             2041|          418|            1155|             1784|          470|            1481|             2096|          452|            2271|             3047|          299|            2746|             3852|          264|            3268|             4429|          191|            2142|             3025|          226|            1834|             2568|          476|            1505|             2069|           94|\n",
            "|                                                   17|      LUCKNOW / लखनऊ|               0|                0|            0|               0|                0|            0|               0|                0|            0|            2333|             3382|          149|            1011|             1564|          359|             769|             1224|          259|            1128|             1725|          139|            1211|             1808|          223|            1216|             1885|          200|            1219|             1822|          189|             921|             2265|          145|               0|                0|            0|\n",
            "|                                                   18|      MUMBAI / मुंबई|            1413|             2708|          319|            1430|             2000|          382|            1379|             2103|          956|            1027|             1855|          424|             724|             1600|          481|            1079|             2100|          460|            1188|             2154|         2392|             967|             2000|          420|             900|             2000|          378|             858|             2000|          440|            1163|             2000|          363|             996|             2000|          444|\n",
            "|                                                   19|     NAGPUR / नागपुर|            2602|             3867|          138|            1772|             2747|           94|            1523|             2232|          125|            1036|             2022|          141|             936|             2157|          149|            1024|             2218|          172|            1546|             3029|          137|             955|             2380|          196|            1576|             2943|          165|            1981|             3310|          157|            1579|             2840|          190|            1530|             2567|          149|\n",
            "|                                                   20|       NASIK / नाशिक|            2049|             3108|          572|            2333|             2635|          665|            1838|             2188|          783|            1260|             1539|          508|            1068|             1578|          772|             966|             1244|         1236|            1252|             1542|          975|            1197|             1496|          995|            1355|             1646|         1085|             620|              898|         1065|            1358|             1648|          660|            1727|             2019|          370|\n",
            "|                                                   21|        PATNA / पटना|            2175|             3900|           45|               0|                0|            0|            2165|             3927|          190|            1550|             2470|          495|             780|             1329|          515|             729|             1300|          495|            1079|             1789|          405|            1306|             2054|          320|            1345|             2219|          545|            2029|             2952|          565|            2310|             3177|          515|            2828|             3856|           71|\n",
            "|                                                   22|         PUNE / पुणे|            2045|             2565|         1287|            2050|             2478|          777|            1552|             1877|          783|            1417|             1794|          590|            1060|             1410|          744|            1298|             1619|          862|            1460|             1910|         1170|            1218|             1580|          979|            1188|             1514|          912|            1112|             1412|          716|            1290|             1628|          867|            1310|             1621|         1156|\n",
            "+-----------------------------------------------------+--------------------+----------------+-----------------+-------------+----------------+-----------------+-------------+----------------+-----------------+-------------+----------------+-----------------+-------------+----------------+-----------------+-------------+----------------+-----------------+-------------+----------------+-----------------+-------------+----------------+-----------------+-------------+----------------+-----------------+-------------+----------------+-----------------+-------------+----------------+-----------------+-------------+----------------+-----------------+-------------+\n",
            "only showing top 30 rows\n",
            "\n"
          ]
        }
      ],
      "source": [
        "sp_df_samp1.show(30)"
      ]
    },
    {
      "cell_type": "code",
      "execution_count": 34,
      "metadata": {
        "id": "TooC91RFlQ6h"
      },
      "outputs": [],
      "source": [
        ""
      ]
    },
    {
      "cell_type": "code",
      "execution_count": 35,
      "metadata": {
        "id": "i-Ka1r3ge_-a"
      },
      "outputs": [],
      "source": [
        "\n",
        "list_row = [] # Creating an empty list for row values\n",
        "list_col = [] # Creating an empty list for column values\n",
        "list_states = [] # Creating an empty list for city names\n",
        "for i in range(0,10): # value of \"i\" in range of no:of food crops\n",
        "  list_row1 = []\n",
        "  list_col1 = []\n",
        "  for j in range(0,11): # value of \"j\" in range of no:of individual excel files in a pirticular food crop\n",
        "    df2 = pd.read_excel(xlsx_files[i][j]) # Reading a pirticular food crop into a dataframe named df2\n",
        "# Column name for city at which the crop is collected is \"Unnamed: 1\".\n",
        "    for a in list(df2['Unnamed: 1']):  # For each cell value in \"Unnamed:1\" column\n",
        "      if a not in list_states: # If it is not in \"list_states\" list\n",
        "        list_states.append(a) # Append it to the list \n",
        "    list_row1.append(len(df2)) # Appending the value of no:of rows of that dataframe into a list named list_row1 \n",
        "    list_col1.append(len(df2.columns))# Appending the value of no:of columns of that dataframe into a list named list_col1 \n",
        "    \n",
        "  list_row.append(list_row1) # Appending list of all the row lengths of individual files of a crop into a list\n",
        "  list_col.append(list_col1)"
      ]
    },
    {
      "cell_type": "code",
      "execution_count": 36,
      "metadata": {
        "colab": {
          "base_uri": "https://localhost:8080/"
        },
        "id": "rs_FB2DqgIqg",
        "outputId": "05de1f21-6d47-4783-c519-82d7d797e6c5"
      },
      "outputs": [
        {
          "output_type": "execute_result",
          "data": {
            "text/plain": [
              "[[35, 35, 33, 33, 32, 32, 36, 35, 29, 34, 30],\n",
              " [25, 27, 29, 29, 29, 25, 28, 28, 29, 29, 28],\n",
              " [37, 36, 36, 37, 35, 34, 25, 25, 35, 25, 32],\n",
              " [32, 37, 37, 36, 36, 34, 35, 35, 35, 36, 35],\n",
              " [34, 34, 35, 37, 36, 37, 32, 35, 35, 36, 36],\n",
              " [36, 32, 36, 31, 35, 34, 36, 33, 36, 33, 35],\n",
              " [32, 37, 37, 38, 37, 37, 37, 37, 38, 36, 37],\n",
              " [33, 32, 31, 31, 31, 27, 32, 34, 32, 36, 35],\n",
              " [33, 35, 35, 38, 36, 36, 38, 35, 38, 36, 37],\n",
              " [24, 24, 26, 27, 29, 28, 30, 31, 25, 29, 29]]"
            ]
          },
          "metadata": {},
          "execution_count": 36
        }
      ],
      "source": [
        "list_row # Printing row lengths of all the individual files "
      ]
    },
    {
      "cell_type": "code",
      "execution_count": 37,
      "metadata": {
        "id": "zhEkQ8ksg7Df"
      },
      "outputs": [],
      "source": [
        "# Printing the value of maximum number of rows of an excel file among all the files present \n",
        "# max1 = 0 \n",
        "# for i in list_row:\n",
        "#   max1 = max(max1,max(i))\n",
        "# print(max1)"
      ]
    },
    {
      "cell_type": "code",
      "execution_count": 38,
      "metadata": {
        "id": "l4VEIhPKtaaf"
      },
      "outputs": [],
      "source": [
        "# listx =[1,2,3]\n",
        "# b = max(listx)\n"
      ]
    },
    {
      "cell_type": "code",
      "execution_count": 39,
      "metadata": {
        "colab": {
          "base_uri": "https://localhost:8080/"
        },
        "id": "66j7RLBMhB3H",
        "outputId": "7e80aa7a-82e6-4ca0-fcab-eeb754e5c8fd"
      },
      "outputs": [
        {
          "output_type": "execute_result",
          "data": {
            "text/plain": [
              "[[38, 38, 38, 38, 38, 38, 38, 38, 38, 38, 38],\n",
              " [38, 38, 38, 38, 38, 38, 38, 38, 38, 38, 38],\n",
              " [38, 38, 38, 38, 38, 38, 38, 38, 38, 38, 38],\n",
              " [38, 38, 38, 38, 38, 38, 38, 38, 38, 38, 38],\n",
              " [38, 38, 38, 38, 38, 38, 38, 38, 38, 38, 38],\n",
              " [38, 38, 38, 38, 38, 38, 38, 38, 38, 38, 38],\n",
              " [38, 38, 38, 38, 38, 38, 38, 38, 38, 38, 38],\n",
              " [38, 38, 38, 38, 38, 38, 38, 38, 38, 38, 38],\n",
              " [38, 38, 38, 38, 38, 38, 38, 38, 38, 38, 38],\n",
              " [38, 38, 38, 38, 38, 38, 38, 38, 38, 38, 38]]"
            ]
          },
          "metadata": {},
          "execution_count": 39
        }
      ],
      "source": [
        "list_col # Printing column lengths of all the individual files "
      ]
    },
    {
      "cell_type": "code",
      "execution_count": 40,
      "metadata": {
        "id": "-XRPK5HIhECu"
      },
      "outputs": [],
      "source": [
        "# Conclusion:  All the datasets consists of equal number of columns that is 38"
      ]
    },
    {
      "cell_type": "code",
      "execution_count": 41,
      "metadata": {
        "id": "a8s7j5qOhGxZ"
      },
      "outputs": [],
      "source": [
        "# List of all the unique states present in entire vegetebale datasets \n",
        "list_states = []\n",
        "for i in range(0,10):\n",
        "  for j in range(0,11):\n",
        "    df3 = pd.read_excel(xlsx_files[i][j])\n",
        "    for a in list(df3['Unnamed: 1']):\n",
        "      if a not in list_states:\n",
        "        list_states.append(a)"
      ]
    },
    {
      "cell_type": "code",
      "execution_count": 42,
      "metadata": {
        "id": "Hz3GxKuahIyH"
      },
      "outputs": [],
      "source": [
        "# List of all the city names\n",
        "#list_states"
      ]
    },
    {
      "cell_type": "code",
      "execution_count": 43,
      "metadata": {
        "colab": {
          "base_uri": "https://localhost:8080/"
        },
        "id": "1N0qVMqXhMPU",
        "outputId": "125d595f-793a-48ff-e743-bce1ff012d46"
      },
      "outputs": [
        {
          "output_type": "execute_result",
          "data": {
            "text/plain": [
              "55"
            ]
          },
          "metadata": {},
          "execution_count": 43
        }
      ],
      "source": [
        "len(list_states) # No:of cities present in all the excel files "
      ]
    },
    {
      "cell_type": "code",
      "execution_count": 44,
      "metadata": {
        "colab": {
          "base_uri": "https://localhost:8080/",
          "height": 53
        },
        "id": "va96OgVuhMnT",
        "outputId": "a597e5f2-89f2-4766-e556-a63b6bf3e80a"
      },
      "outputs": [
        {
          "output_type": "execute_result",
          "data": {
            "text/plain": [
              "'\" Conclusion:\\n          1)There are 55 different city names \\n          2)India consists of 28 states and 7 union teritories \\n          3)So the data might be collected from different places in a single state in different years'"
            ],
            "application/vnd.google.colaboratory.intrinsic+json": {
              "type": "string"
            }
          },
          "metadata": {},
          "execution_count": 44
        }
      ],
      "source": [
        "\"\"\"\" Conclusion:\n",
        "          1)There are 55 different city names \n",
        "          2)India consists of 28 states and 7 union teritories \n",
        "          3)So the data might be collected from different places in a single state in different years\"\"\" "
      ]
    },
    {
      "cell_type": "code",
      "execution_count": 45,
      "metadata": {
        "id": "sq7OpLEXhPGb"
      },
      "outputs": [],
      "source": [
        "# Appending all the individual dataframes from each individual excel files into df_original dataframe  \n",
        "\n",
        "df_original1 = sqlContext.createDataFrame([],schema2) # Creating an empty data frame \n",
        "for i in range(0,10): # value of \"i\" in range of no:of food crops\n",
        "  for j in range(0,11): # value of \"j\" in range of no:of individual excel files in a pirticular food crop\n",
        "    df_i = pd.read_excel(xlsx_files[i][j]) # Reading a pirticular food crop into a dataframe named df_i\n",
        "    df_i = df_i.astype('str')\n",
        "    df_samp1 = sqlContext.createDataFrame(df_i)\n",
        "    df_original1 = unionAll(*[df_samp1,df_original1])\n",
        "    "
      ]
    },
    {
      "cell_type": "code",
      "execution_count": 46,
      "metadata": {
        "colab": {
          "base_uri": "https://localhost:8080/"
        },
        "id": "3gsGRlaujrp8",
        "outputId": "6604422b-d91d-4086-cc9c-06f5c3295f3b"
      },
      "outputs": [
        {
          "output_type": "stream",
          "name": "stdout",
          "text": [
            "+-----------------------------------------------------+--------------------+----------------+-----------------+-------------+----------------+-----------------+-------------+----------------+-----------------+-------------+----------------+-----------------+-------------+----------------+-----------------+-------------+----------------+-----------------+-------------+----------------+-----------------+-------------+----------------+-----------------+-------------+----------------+-----------------+-------------+----------------+-----------------+-------------+----------------+-----------------+-------------+----------------+-----------------+-------------+\n",
            "|Report Name : Monthwise Annual Price & Arrival Report|          Unnamed: 1|      Unnamed: 2|       Unnamed: 3|   Unnamed: 4|      Unnamed: 5|       Unnamed: 6|   Unnamed: 7|      Unnamed: 8|       Unnamed: 9|  Unnamed: 10|     Unnamed: 11|      Unnamed: 12|  Unnamed: 13|     Unnamed: 14|      Unnamed: 15|  Unnamed: 16|     Unnamed: 17|      Unnamed: 18|  Unnamed: 19|     Unnamed: 20|      Unnamed: 21|  Unnamed: 22|     Unnamed: 23|      Unnamed: 24|  Unnamed: 25|     Unnamed: 26|      Unnamed: 27|  Unnamed: 28|     Unnamed: 29|      Unnamed: 30|  Unnamed: 31|     Unnamed: 32|      Unnamed: 33|  Unnamed: 34|     Unnamed: 35|      Unnamed: 36|  Unnamed: 37|\n",
            "+-----------------------------------------------------+--------------------+----------------+-----------------+-------------+----------------+-----------------+-------------+----------------+-----------------+-------------+----------------+-----------------+-------------+----------------+-----------------+-------------+----------------+-----------------+-------------+----------------+-----------------+-------------+----------------+-----------------+-------------+----------------+-----------------+-------------+----------------+-----------------+-------------+----------------+-----------------+-------------+----------------+-----------------+-------------+\n",
            "|                                 Current Date : 07...|                 nan|             nan|              nan|          nan|             nan|              nan|          nan|             nan|              nan|          nan|             nan|              nan|          nan|             nan|              nan|          nan|             nan|              nan|          nan|             nan|              nan|          nan|             nan|              nan|          nan|             nan|              nan|          nan|             nan|              nan|          nan|             nan|              nan|          nan|             nan|              nan|          nan|\n",
            "|                                 Selected Year : 2012|                 nan|             nan|              nan|          nan|             nan|              nan|          nan|             nan|              nan|          nan|             nan|              nan|          nan|             nan|              nan|          nan|             nan|              nan|          nan|             nan|              nan|          nan|             nan|              nan|          nan|             nan|              nan|          nan|             nan|              nan|          nan|             nan|              nan|          nan|             nan|              nan|          nan|\n",
            "|                                 Crop Category : V...|                 nan|             nan|              nan|          nan|             nan|              nan|          nan|             nan|              nan|          nan|             nan|              nan|          nan|             nan|              nan|          nan|             nan|              nan|          nan|             nan|              nan|          nan|             nan|              nan|          nan|             nan|              nan|          nan|             nan|              nan|          nan|             nan|              nan|          nan|             nan|              nan|          nan|\n",
            "|                                   Crop Name : TOMATO|                 nan|             nan|              nan|          nan|             nan|              nan|          nan|             nan|              nan|          nan|             nan|              nan|          nan|             nan|              nan|          nan|             nan|              nan|          nan|             nan|              nan|          nan|             nan|              nan|          nan|             nan|              nan|          nan|             nan|              nan|          nan|             nan|              nan|          nan|             nan|              nan|          nan|\n",
            "|                                 Variety Name : TO...|                 nan|             nan|              nan|          nan|             nan|              nan|          nan|             nan|              nan|          nan|             nan|              nan|          nan|             nan|              nan|          nan|             nan|              nan|          nan|             nan|              nan|          nan|             nan|              nan|          nan|             nan|              nan|          nan|             nan|              nan|          nan|             nan|              nan|          nan|             nan|              nan|          nan|\n",
            "|                                                  nan|                 nan|             nan|              nan|          nan|             nan|              nan|          nan|             nan|              nan|          nan|             nan|              nan|          nan|             nan|              nan|          nan|             nan|              nan|          nan|             nan|              nan|          nan|             nan|              nan|          nan|             nan|              nan|          nan|             nan|              nan|          nan|             nan|              nan|          nan|             nan|              nan|          nan|\n",
            "|                                                  nan|                 nan|         January|              nan|          nan|        February|              nan|          nan|           March|              nan|          nan|           April|              nan|          nan|             May|              nan|          nan|            June|              nan|          nan|            July|              nan|          nan|          August|              nan|          nan|       September|              nan|          nan|         October|              nan|          nan|        November|              nan|          nan|        December|              nan|          nan|\n",
            "|                                                S.No.|         Center Name|W.sale Avg.Price|Retail Avg. Price|Total Arrival|W.sale Avg.Price|Retail Avg. Price|Total Arrival|W.sale Avg.Price|Retail Avg. Price|Total Arrival|W.sale Avg.Price|Retail Avg. Price|Total Arrival|W.sale Avg.Price|Retail Avg. Price|Total Arrival|W.sale Avg.Price|Retail Avg. Price|Total Arrival|W.sale Avg.Price|Retail Avg. Price|Total Arrival|W.sale Avg.Price|Retail Avg. Price|Total Arrival|W.sale Avg.Price|Retail Avg. Price|Total Arrival|W.sale Avg.Price|Retail Avg. Price|Total Arrival|W.sale Avg.Price|Retail Avg. Price|Total Arrival|W.sale Avg.Price|Retail Avg. Price|Total Arrival|\n",
            "|                                                    1|   AMRITSAR / अमृतसर|               0|                0|            0|               0|                0|            0|               0|                0|            0|               0|                0|            0|               0|                0|            0|               0|                0|            0|            1350|             3000|           20|               0|                0|            0|               0|                0|            0|               0|                0|            0|               0|                0|            0|               0|                0|            0|\n",
            "|                                                    2|BANGALURU / बेंगलुरू|             617|              983|            0|            1145|             1738|            0|            1586|             2264|            0|            1935|             2725|            7|            1392|             1989|            0|             955|             1523|            0|            1468|             2064|            0|             598|             1004|            0|             494|              852|            0|             451|              800|            0|             602|             1008|            0|             766|             1223|            0|\n",
            "|                                                    3|       BARAUT / बड़ौत|            1018|             1400|           85|             928|             1326|           62|            1283|             1617|           14|               0|                0|            0|            1193|             1593|           89|               0|                0|            0|               0|                0|            0|               0|                0|            0|               0|                0|            0|               0|                0|            0|            1483|             1967|            6|            1218|             1668|           54|\n",
            "|                                                    4|      BHOPAL / भोपाल|             515|              678|         3447|             508|              669|         1750|             957|             1252|         1970|             770|             1015|         1307|            1292|             1612|         2146|            1650|             2004|          745|            2926|             3509|          314|               0|                0|            0|               0|                0|            0|            3600|             4500|            1|             600|              800|          160|             413|              565|         3527|\n",
            "|                                                    5|BHUBANESHWAR / भु...|             591|              815|          820|             429|              742|          780|             622|              925|          350|               0|                0|            0|               0|                0|            0|               0|                0|            0|               0|                0|            0|               0|                0|            0|               0|                0|            0|               0|                0|            0|               0|                0|            0|               0|                0|            0|\n",
            "|                                                    6| CHANDIGARH / चंडीगढ़|               0|                0|            0|               0|                0|            0|               0|                0|            0|               0|                0|            0|            1375|             2000|           40|               0|                0|            0|            1175|             2000|           35|               0|                0|            0|               0|                0|            0|               0|                0|            0|               0|                0|            0|               0|                0|            0|\n",
            "|                                                    7|    CHENNAI / चेन्नई|             640|             1032|        11580|            1208|             1846|         8580|            1674|             2552|         8290|            1529|             2342|         8900|            1150|             1754|         9570|            1194|             1846|        11430|            1779|             2669|         8050|             998|             1550|         8790|             820|             1316|         8596|             776|             1087|         7960|            1173|             1750|         7930|            1109|             1729|         6220|\n",
            "|                                                    8| DEHRADUN / देहरादून|               0|                0|            0|               0|                0|            0|               0|                0|            0|               0|                0|            0|               0|                0|            0|               0|                0|            0|               0|                0|            0|            2100|             3000|           32|               0|                0|            0|               0|                0|            0|               0|                0|            0|            1250|             2000|           40|\n",
            "|                                                    9| GUWAHATI / गुवाहाटी|             557|              848|          419|             673|             1025|          458|            1300|             1865|          261|               0|                0|            0|               0|                0|            0|               0|                0|            0|               0|                0|            0|               0|                0|            0|               0|                0|            0|               0|                0|            0|               0|                0|            0|            2800|             3700|           40|\n",
            "|                                                   10|HYDERABAD / हैदराबाद|             408|              733|        17518|             629|              952|        12032|            1010|             1562|        11010|            1100|             1568|        10410|             888|             1256|        13254|            1176|             1588|         8218|            1123|             1719|         6848|             761|             1278|         8094|             477|              929|         7676|             484|              859|         8704|             500|              881|         8206|             505|              955|         6318|\n",
            "|                                                   11|      JAIPUR / जयपुर|             548|              889|         1437|             567|              919|         1389|             883|             1496|         1869|             902|             1543|         1434|             883|             1489|          899|             853|             1436|          740|            1263|             2222|          635|               0|                0|            0|               0|                0|            0|               0|                0|            0|               0|                0|            0|               0|                0|            0|\n",
            "|                                                   12|   KOLKATA / कोलकाता|             765|             1238|         1054|               0|                0|            0|               0|                0|            0|               0|                0|            0|               0|                0|            0|               0|                0|            0|               0|                0|            0|               0|                0|            0|               0|                0|            0|               0|                0|            0|            1986|             3614|           46|            1788|             2824|          308|\n",
            "|                                                   13|      LUCKNOW / लखनऊ|             727|             1112|         1373|             542|              979|         1155|            1312|             2077|          581|               0|                0|            0|               0|                0|            0|               0|                0|            0|               0|                0|            0|               0|                0|            0|               0|                0|            0|               0|                0|            0|            1431|             2200|            0|             936|             1440|         2598|\n",
            "|                                                   14|      MUMBAI / मुंबई|             548|             1000|            0|             442|             1000|            0|             776|             1748|            0|             825|             1827|            0|             863|             2110|            0|             792|             1858|            0|            1065|             1985|            0|             771|             1867|            0|             652|             1465|            0|             469|             1096|            0|             603|             1110|            0|             542|             1500|            0|\n",
            "|                                                   15|     NAGPUR / नागपुर|             533|              924|         2220|             547|              889|         1510|             741|             1191|         2180|             851|             1711|          980|            1254|             1874|          398|            1445|             1990|          650|            1835|             2415|          270|            1400|             2000|           60|               0|                0|            0|               0|                0|            0|             665|             1354|          860|             294|              814|         1860|\n",
            "|                                                   16|       NASIK / नाशिक|               0|                0|            0|               0|                0|            0|            1060|             1300|           50|               0|                0|            0|               0|                0|            0|               0|                0|            0|               0|                0|            0|               0|                0|            0|               0|                0|            0|               0|                0|            0|               0|                0|            0|               0|                0|            0|\n",
            "|                                                   17|        PATNA / पटना|             474|             1042|         2295|             391|              889|         2380|             471|             1029|          320|               0|                0|            0|               0|                0|            0|            1700|             2714|          175|               0|                0|            0|               0|                0|            0|               0|                0|            0|               0|                0|            0|               0|                0|            0|             825|             1514|         3770|\n",
            "|                                                   18|         PUNE / पुणे|               0|                0|            0|               0|                0|            0|               0|                0|            0|               0|                0|            0|               0|                0|            0|               0|                0|            0|               0|                0|            0|               0|                0|            0|               0|                0|            0|               0|                0|            0|               0|                0|            0|             450|              800|           30|\n",
            "|                                                   19|     RAIPUR / रायपुर|             500|              944|            0|             498|              982|            0|             611|             1188|            0|             649|             1233|            0|            1376|             2495|            0|            1393|             2322|            0|            2044|             3275|            0|            1523|             2550|            0|            1180|             2100|            0|             935|             1809|            0|             716|             1357|            0|             567|             1058|            0|\n",
            "|                                                   20|      RANCHI / रांची|             416|              833|          731|             290|              610|          894|             510|             1070|          556|             461|             1005|          586|             673|             1467|          632|             938|             1742|          615|            1387|             2524|          262|            1259|             2630|          222|            1128|             2142|          506|             990|             1750|          530|            1043|             2442|          479|             675|             1224|          718|\n",
            "|                                                   21|TRIVENDRUM / त्रि...|               0|                0|            0|               0|                0|            0|               0|                0|            0|               0|                0|            0|               0|                0|            0|               0|                0|            0|               0|                0|            0|               0|                0|            0|            1185|             1642|          223|             963|             1500|          130|             967|             1533|           28|               0|                0|            0|\n",
            "|                                 Current Date : 07...|                 nan|             nan|              nan|          nan|             nan|              nan|          nan|             nan|              nan|          nan|             nan|              nan|          nan|             nan|              nan|          nan|             nan|              nan|          nan|             nan|              nan|          nan|             nan|              nan|          nan|             nan|              nan|          nan|             nan|              nan|          nan|             nan|              nan|          nan|             nan|              nan|          nan|\n",
            "+-----------------------------------------------------+--------------------+----------------+-----------------+-------------+----------------+-----------------+-------------+----------------+-----------------+-------------+----------------+-----------------+-------------+----------------+-----------------+-------------+----------------+-----------------+-------------+----------------+-----------------+-------------+----------------+-----------------+-------------+----------------+-----------------+-------------+----------------+-----------------+-------------+----------------+-----------------+-------------+----------------+-----------------+-------------+\n",
            "only showing top 30 rows\n",
            "\n"
          ]
        }
      ],
      "source": [
        "df_original1.show(30)"
      ]
    },
    {
      "cell_type": "code",
      "execution_count": 46,
      "metadata": {
        "id": "mv4qvW2Yo-ZX"
      },
      "outputs": [],
      "source": [
        ""
      ]
    },
    {
      "cell_type": "markdown",
      "metadata": {
        "id": "4-mhMl1Qo_HR"
      },
      "source": [
        "## Modifying the combined dataset\n",
        "  ### 1) Deleting unwanted rows\n",
        "  ### 2) Deleting unwanted columns\n",
        "  ### 3) Renaming the header values"
      ]
    },
    {
      "cell_type": "code",
      "execution_count": 47,
      "metadata": {
        "colab": {
          "base_uri": "https://localhost:8080/"
        },
        "id": "dEzYWAgsj1JY",
        "outputId": "6aed62b4-bd15-40f7-df6f-b7f5efb44885"
      },
      "outputs": [
        {
          "output_type": "stream",
          "name": "stdout",
          "text": [
            "List of unwanted column indexes are  [3, 4, 6, 7, 9, 10, 12, 13, 15, 16, 18, 19, 21, 22, 24, 25, 27, 28, 30, 31, 33, 34, 36, 37]\n"
          ]
        }
      ],
      "source": [
        "# I just want \"W.sale Avg.Price\" price of month and want to delete both \"Retail Avg. Price\"\tand \"Total Arrival\"\tcolumns \n",
        "\n",
        "list1 = [0,1,2,38,39] # Selecting list of column indexes to delete unwanted columns \n",
        "# Creating a list of unwanted columns from the dataframe \n",
        "for i in range(1,12):\n",
        "  list1.append(((i)*(3))+2)\n",
        "list_rem = list(range(0,40))\n",
        "for i in list1:\n",
        "  if i in list_rem:\n",
        "    list_rem.remove(i)\n",
        "print(\"List of unwanted column indexes are \", list_rem) \n"
      ]
    },
    {
      "cell_type": "code",
      "execution_count": 48,
      "metadata": {
        "id": "GMlj_nRYw-Uz"
      },
      "outputs": [],
      "source": [
        "list_col_names =[]\n",
        "for i in list_rem:\n",
        "  list_col_names.append(sp_df_samp1.columns[i])"
      ]
    },
    {
      "cell_type": "code",
      "execution_count": 49,
      "metadata": {
        "id": "QH6IbyNg4eir"
      },
      "outputs": [],
      "source": [
        "df_i = pd.read_excel(xlsx_files[0][0]) # Reading a pirticular food crop into a dataframe named df2\n",
        "df_i = df_i.astype('str')\n",
        "df_samp1 = sqlContext.createDataFrame(df_i)\n",
        "year = df_samp1.collect()[1][0][-4:]\n",
        "df_samp1 = df_samp1.withColumn(\"Year\",lit(year))# Creatiing a new column named Year\n",
        "Crop_variety = df_samp1.collect()[4][0][14:]\n",
        "df_samp1 = df_samp1.withColumn(\"Crop_Variety\",lit(Crop_variety))# Creating a new column named Crop\n",
        "df_samp1 = df_samp1.withColumn(\"id\", monotonically_increasing_id())\n",
        "df_samp1 = df_samp1.where(df_samp1.id>5)  # Removing top 6 unwanted rows\n",
        "df_samp1 = df_samp1.drop(*list_col_names) # Dropping unwanted columns using the \"list_rem\" ceated above\n",
        "head_tuple = df_samp1.collect()[1][0:2]# Selecting cell values for header values\n",
        "tuple2 = df_samp1.collect()[0][2:14] \n",
        "tuple3 = df_samp1.collect()[0][-3:-1]\n",
        "list3 = []# Modifying the string value for better understanding\n",
        "for i in head_tuple:\n",
        "  list3.append(i)\n",
        "for j in tuple2:\n",
        "  list3.append(\"Price_in_\" + j)\n",
        "for k in tuple3:\n",
        "  list3.append(k)\n",
        "list3 = list3+[\"ID\"]\n",
        "df_samp1 = df_samp1.toDF(*list3)"
      ]
    },
    {
      "cell_type": "code",
      "execution_count": 50,
      "metadata": {
        "colab": {
          "base_uri": "https://localhost:8080/"
        },
        "id": "d_YzOVGp5iLy",
        "outputId": "0b0a712b-7e5e-408e-e067-fcef9aa225f5"
      },
      "outputs": [
        {
          "output_type": "stream",
          "name": "stdout",
          "text": [
            "+-----+--------------------+----------------+-----------------+----------------+----------------+----------------+----------------+----------------+----------------+------------------+----------------+-----------------+-----------------+----+-------------+----------+\n",
            "|S.No.|         Center Name|Price_in_January|Price_in_February|  Price_in_March|  Price_in_April|    Price_in_May|   Price_in_June|   Price_in_July| Price_in_August|Price_in_September|Price_in_October|Price_in_November|Price_in_December|2011| BITTER GOURD|        ID|\n",
            "+-----+--------------------+----------------+-----------------+----------------+----------------+----------------+----------------+----------------+----------------+------------------+----------------+-----------------+-----------------+----+-------------+----------+\n",
            "|  nan|                 nan|         January|         February|           March|           April|             May|            June|            July|          August|         September|         October|         November|         December|2011| BITTER GOURD|         6|\n",
            "|S.No.|         Center Name|W.sale Avg.Price| W.sale Avg.Price|W.sale Avg.Price|W.sale Avg.Price|W.sale Avg.Price|W.sale Avg.Price|W.sale Avg.Price|W.sale Avg.Price|  W.sale Avg.Price|W.sale Avg.Price| W.sale Avg.Price| W.sale Avg.Price|2011| BITTER GOURD|         7|\n",
            "|    1|AHMEDABAD / अहमदाबाद|               0|                0|            1307|            1119|             751|            1729|            1164|            1173|              1139|             960|              800|                0|2011| BITTER GOURD|         8|\n",
            "|    2|   AMRITSAR / अमृतसर|               0|                0|               0|               0|            1179|             640|             942|            1083|              1269|            1076|                0|                0|2011| BITTER GOURD|         9|\n",
            "|    3|BANGALURU / बेंगलुरू|            1410|             1073|             965|             932|            1546|            1660|            1589|            1542|              1659|            1716|             1563|             1539|2011| BITTER GOURD|        10|\n",
            "|    4|       BARAUT / बड़ौत|               0|                0|               0|            1370|            1018|             750|            1231|            1061|                 0|               0|                0|                0|2011| BITTER GOURD|        11|\n",
            "|    5|      BHOPAL / भोपाल|               0|                0|            2546|            1907|            1298|            1462|            2262|            1576|              1448|            1035|             1608|             1596|2011| BITTER GOURD|        12|\n",
            "|    6|BHUBANESHWAR / भु...|            2540|             2339|            1630|             847|             795|            1498|            1723|            1648|              2105|            1926|             1635|             1480|2011| BITTER GOURD|        13|\n",
            "|    7| CHANDIGARH / चंडीगढ़|               0|                0|               0|               0|            1488|             869|             996|            1148|              1359|            1457|                0|                0|2011| BITTER GOURD|        14|\n",
            "|    8|    CHENNAI / चेन्नई|            1908|             1387|            1222|            1013|            1276|            1248|            1546|            1447|              1486|            1500|             1378|             1420|2011| BITTER GOURD|        15|\n",
            "|    9| DEHRADUN / देहरादून|               0|                0|               0|            2632|             719|             828|             899|             810|              1306|            1242|             1746|             2338|2011| BITTER GOURD|        16|\n",
            "|   10|      DELHI / दिल्ली|            2342|             2358|            2321|            2027|             914|             601|             883|             923|              1346|            1162|             1386|             1598|2011| BITTER GOURD|8589934592|\n",
            "|   11|   GANGATOK / गंगटोक|            2419|             3364|               0|            2021|            1376|            1199|            1447|            2118|              2750|            2598|             2140|             2081|2011| BITTER GOURD|8589934593|\n",
            "|   12| GUWAHATI / गुवाहाटी|               0|                0|               0|            1445|             653|             596|             752|            1006|              1523|               0|                0|                0|2011| BITTER GOURD|8589934594|\n",
            "|   13|HYDERABAD / हैदराबाद|            1229|              986|             530|             576|             584|             744|            1006|            1207|               833|             767|              848|              950|2011| BITTER GOURD|8589934595|\n",
            "|   14|      JAIPUR / जयपुर|               0|                0|               0|               0|               0|            1126|            1086|            1170|              1161|            1117|              987|                0|2011| BITTER GOURD|8589934596|\n",
            "|   15|       JAMMU / जम्मू|            3373|             2474|            2452|            2245|            1172|             706|            1106|            1044|              1104|             930|             1135|             1681|2011| BITTER GOURD|8589934597|\n",
            "|   16|   KOLKATA / कोलकाता|            2567|                0|               0|            1317|            1155|            1481|            2271|            2746|              3268|            2142|             1834|             1505|2011| BITTER GOURD|8589934598|\n",
            "|   17|      LUCKNOW / लखनऊ|               0|                0|               0|            2333|            1011|             769|            1128|            1211|              1216|            1219|              921|                0|2011| BITTER GOURD|8589934599|\n",
            "|   18|      MUMBAI / मुंबई|            1413|             1430|            1379|            1027|             724|            1079|            1188|             967|               900|             858|             1163|              996|2011| BITTER GOURD|8589934600|\n",
            "+-----+--------------------+----------------+-----------------+----------------+----------------+----------------+----------------+----------------+----------------+------------------+----------------+-----------------+-----------------+----+-------------+----------+\n",
            "only showing top 20 rows\n",
            "\n"
          ]
        }
      ],
      "source": [
        "df_samp1.show()"
      ]
    },
    {
      "cell_type": "code",
      "execution_count": 51,
      "metadata": {
        "id": "XgXcQ75A6o-D"
      },
      "outputs": [],
      "source": [
        "schema_crops  = StructType([StructField(\"S.No\",IntegerType(),True),StructField(\"Center_Name\",StringType(),True),StructField(\"Price_in_January\",IntegerType(),True),StructField(\"Price_in_February\",IntegerType(),True),StructField(\"Price_in_March\",IntegerType(),True),StructField(\"Price_in_April\",IntegerType(),True),StructField(\"Price_in_May\",IntegerType(),True),StructField(\"Price_in_June\",IntegerType(),True),StructField(\"Price_in_July\",IntegerType(),True),StructField(\"Price_in_August\",IntegerType(),True),StructField(\"Price_in_September\",IntegerType(),True),StructField(\"Price_in_October\",IntegerType(),True),StructField(\"Price_in_November\",IntegerType(),True),StructField(\"Price_in_December\",IntegerType(),True),StructField(\"Year\",IntegerType(),True),StructField(\"Crop_Variety\",StringType(),True),StructField(\"ID\",IntegerType(),True)])"
      ]
    },
    {
      "cell_type": "code",
      "execution_count": 52,
      "metadata": {
        "id": "g4nxO9AHj_28"
      },
      "outputs": [],
      "source": [
        "df_crops_final = sqlContext.createDataFrame([],schema_crops)\n",
        "for i in range(0,10): # value of \"i\" in range of no:of food crops\n",
        "  for j in range(0,11): # value of \"j\" in range of no:of individual excel files in a pirticular food crop\n",
        "    df_pandas = pd.read_excel(xlsx_files[i][j]) # Reading a pirticular food crop into a dataframe named df2\n",
        "    df_pandas = df_pandas.astype('str')\n",
        "    df_samp1 = sqlContext.createDataFrame(df_pandas)\n",
        "    year = df_samp1.collect()[1][0][-4:]\n",
        "    df_samp1 = df_samp1.withColumn(\"Year\",lit(year))# Creatiing a new column named Year\n",
        "    Crop_variety = df_samp1.collect()[4][0][14:]\n",
        "    df_samp1 = df_samp1.withColumn(\"Crop_Variety\",lit(Crop_variety))# Creating a new column named Crop\n",
        "    df_samp1 = df_samp1.withColumn(\"id\", monotonically_increasing_id())\n",
        "    df_samp1 = df_samp1.where(df_samp1.id>5)  # Removing top 6 unwanted rows\n",
        "    df_samp1 = df_samp1.drop(*list_col_names) # Dropping unwanted columns using the \"list_rem\" ceated above\n",
        "    head_tuple = df_samp1.collect()[1][0:2]# Selecting cell values for header values\n",
        "    tuple2 = df_samp1.collect()[0][2:14] \n",
        "    tuple3 = df_samp1.collect()[0][-3:]\n",
        "    list3 = []# Modifying the string value for better understanding\n",
        "    #print(Crop_variety)\n",
        "    for p in head_tuple:\n",
        "      list3.append(p)\n",
        "    for q in tuple2:\n",
        "      list3.append(\"Price in \" + q)\n",
        "    for r in tuple3:\n",
        "      list3.append(r)\n",
        "    #print(list3)\n",
        "    #df_samp1 = df_samp1.toDF(*list3)# Assigning head_list values to header column values\n",
        "    #df_i = df_i.drop(labels=[6,7],axis = 0) # Removing unwanted rows\n",
        "    #df_i= df_i.reset_index(drop= True) # Resetting the index value starting from \"0\"\n",
        "    #df_crops_final = df_final.append(df_i, ignore_index = True) # # Appending df_i to df_final dataframe \n",
        "    df_samp1 = df_samp1.where(df_samp1.id>7)\n",
        "    df_crops_final = unionAll(*[df_crops_final,df_samp1])\n",
        "\n"
      ]
    },
    {
      "cell_type": "code",
      "execution_count": 53,
      "metadata": {
        "colab": {
          "base_uri": "https://localhost:8080/"
        },
        "id": "V0Qj7iReveSs",
        "outputId": "2411269a-86cb-46f1-8f33-b04caac6da71"
      },
      "outputs": [
        {
          "output_type": "stream",
          "name": "stdout",
          "text": [
            "+----+--------------------+----------------+-----------------+--------------+--------------+------------+-------------+-------------+---------------+------------------+----------------+-----------------+-----------------+----+-------------+----------+\n",
            "|S.No|         Center_Name|Price_in_January|Price_in_February|Price_in_March|Price_in_April|Price_in_May|Price_in_June|Price_in_July|Price_in_August|Price_in_September|Price_in_October|Price_in_November|Price_in_December|Year| Crop_Variety|        ID|\n",
            "+----+--------------------+----------------+-----------------+--------------+--------------+------------+-------------+-------------+---------------+------------------+----------------+-----------------+-----------------+----+-------------+----------+\n",
            "|   1|AHMEDABAD / अहमदाबाद|               0|                0|          1307|          1119|         751|         1729|         1164|           1173|              1139|             960|              800|                0|2011| BITTER GOURD|         8|\n",
            "|   2|   AMRITSAR / अमृतसर|               0|                0|             0|             0|        1179|          640|          942|           1083|              1269|            1076|                0|                0|2011| BITTER GOURD|         9|\n",
            "|   3|BANGALURU / बेंगलुरू|            1410|             1073|           965|           932|        1546|         1660|         1589|           1542|              1659|            1716|             1563|             1539|2011| BITTER GOURD|        10|\n",
            "|   4|       BARAUT / बड़ौत|               0|                0|             0|          1370|        1018|          750|         1231|           1061|                 0|               0|                0|                0|2011| BITTER GOURD|        11|\n",
            "|   5|      BHOPAL / भोपाल|               0|                0|          2546|          1907|        1298|         1462|         2262|           1576|              1448|            1035|             1608|             1596|2011| BITTER GOURD|        12|\n",
            "|   6|BHUBANESHWAR / भु...|            2540|             2339|          1630|           847|         795|         1498|         1723|           1648|              2105|            1926|             1635|             1480|2011| BITTER GOURD|        13|\n",
            "|   7| CHANDIGARH / चंडीगढ़|               0|                0|             0|             0|        1488|          869|          996|           1148|              1359|            1457|                0|                0|2011| BITTER GOURD|        14|\n",
            "|   8|    CHENNAI / चेन्नई|            1908|             1387|          1222|          1013|        1276|         1248|         1546|           1447|              1486|            1500|             1378|             1420|2011| BITTER GOURD|        15|\n",
            "|   9| DEHRADUN / देहरादून|               0|                0|             0|          2632|         719|          828|          899|            810|              1306|            1242|             1746|             2338|2011| BITTER GOURD|        16|\n",
            "|  10|      DELHI / दिल्ली|            2342|             2358|          2321|          2027|         914|          601|          883|            923|              1346|            1162|             1386|             1598|2011| BITTER GOURD|8589934592|\n",
            "|  11|   GANGATOK / गंगटोक|            2419|             3364|             0|          2021|        1376|         1199|         1447|           2118|              2750|            2598|             2140|             2081|2011| BITTER GOURD|8589934593|\n",
            "|  12| GUWAHATI / गुवाहाटी|               0|                0|             0|          1445|         653|          596|          752|           1006|              1523|               0|                0|                0|2011| BITTER GOURD|8589934594|\n",
            "|  13|HYDERABAD / हैदराबाद|            1229|              986|           530|           576|         584|          744|         1006|           1207|               833|             767|              848|              950|2011| BITTER GOURD|8589934595|\n",
            "|  14|      JAIPUR / जयपुर|               0|                0|             0|             0|           0|         1126|         1086|           1170|              1161|            1117|              987|                0|2011| BITTER GOURD|8589934596|\n",
            "|  15|       JAMMU / जम्मू|            3373|             2474|          2452|          2245|        1172|          706|         1106|           1044|              1104|             930|             1135|             1681|2011| BITTER GOURD|8589934597|\n",
            "|  16|   KOLKATA / कोलकाता|            2567|                0|             0|          1317|        1155|         1481|         2271|           2746|              3268|            2142|             1834|             1505|2011| BITTER GOURD|8589934598|\n",
            "|  17|      LUCKNOW / लखनऊ|               0|                0|             0|          2333|        1011|          769|         1128|           1211|              1216|            1219|              921|                0|2011| BITTER GOURD|8589934599|\n",
            "|  18|      MUMBAI / मुंबई|            1413|             1430|          1379|          1027|         724|         1079|         1188|            967|               900|             858|             1163|              996|2011| BITTER GOURD|8589934600|\n",
            "|  19|     NAGPUR / नागपुर|            2602|             1772|          1523|          1036|         936|         1024|         1546|            955|              1576|            1981|             1579|             1530|2011| BITTER GOURD|8589934601|\n",
            "|  20|       NASIK / नाशिक|            2049|             2333|          1838|          1260|        1068|          966|         1252|           1197|              1355|             620|             1358|             1727|2011| BITTER GOURD|8589934602|\n",
            "+----+--------------------+----------------+-----------------+--------------+--------------+------------+-------------+-------------+---------------+------------------+----------------+-----------------+-----------------+----+-------------+----------+\n",
            "only showing top 20 rows\n",
            "\n"
          ]
        }
      ],
      "source": [
        "df_crops_final.show()"
      ]
    },
    {
      "cell_type": "code",
      "execution_count": 54,
      "metadata": {
        "colab": {
          "base_uri": "https://localhost:8080/"
        },
        "id": "ok5nj3-pQpdV",
        "outputId": "b63dfadc-7e6a-4f30-c258-8aa5d5e5d8a0"
      },
      "outputs": [
        {
          "output_type": "stream",
          "name": "stdout",
          "text": [
            "2755\n"
          ]
        }
      ],
      "source": [
        "print(df_crops_final.count())"
      ]
    },
    {
      "cell_type": "code",
      "execution_count": 55,
      "metadata": {
        "id": "rjMe_1y6z1VI"
      },
      "outputs": [],
      "source": [
        "list_crops = df_crops_final.select(\"Crop_variety\").distinct().collect()"
      ]
    },
    {
      "cell_type": "code",
      "execution_count": 56,
      "metadata": {
        "colab": {
          "base_uri": "https://localhost:8080/"
        },
        "id": "9RTvc9aypL9J",
        "outputId": "03d81833-115a-4ab0-8dea-a40a740fd180"
      },
      "outputs": [
        {
          "output_type": "execute_result",
          "data": {
            "text/plain": [
              "[Row(Crop_variety=' BITTER GOURD'),\n",
              " Row(Crop_variety=' BRINJAL LONG'),\n",
              " Row(Crop_variety=' CABBAGE'),\n",
              " Row(Crop_variety=' Select Variety'),\n",
              " Row(Crop_variety=' CAULIFLOWER'),\n",
              " Row(Crop_variety=' CHILLY'),\n",
              " Row(Crop_variety=' OKRA'),\n",
              " Row(Crop_variety=' ONION'),\n",
              " Row(Crop_variety=' PEAS'),\n",
              " Row(Crop_variety=' TOMATO HYBRID'),\n",
              " Row(Crop_variety=' TOMATO LOCAL')]"
            ]
          },
          "metadata": {},
          "execution_count": 56
        }
      ],
      "source": [
        "list_crops"
      ]
    },
    {
      "cell_type": "code",
      "execution_count": 57,
      "metadata": {
        "id": "IUfNPxtNpr8C"
      },
      "outputs": [],
      "source": [
        "list_year = df_crops_final.select(\"Year\").distinct().collect()"
      ]
    },
    {
      "cell_type": "code",
      "execution_count": 58,
      "metadata": {
        "colab": {
          "base_uri": "https://localhost:8080/"
        },
        "id": "KQ8_4enwp7vj",
        "outputId": "1a316450-d209-4cc1-cc25-74f26391bd92"
      },
      "outputs": [
        {
          "output_type": "execute_result",
          "data": {
            "text/plain": [
              "[Row(Year='2011'),\n",
              " Row(Year='2012'),\n",
              " Row(Year='2013'),\n",
              " Row(Year='2014'),\n",
              " Row(Year='2015'),\n",
              " Row(Year='2016'),\n",
              " Row(Year='2017'),\n",
              " Row(Year='2018'),\n",
              " Row(Year='2020'),\n",
              " Row(Year='2019'),\n",
              " Row(Year='2021'),\n",
              " Row(Year='2022')]"
            ]
          },
          "metadata": {},
          "execution_count": 58
        }
      ],
      "source": [
        "list_year"
      ]
    },
    {
      "cell_type": "code",
      "execution_count": 59,
      "metadata": {
        "colab": {
          "base_uri": "https://localhost:8080/"
        },
        "id": "lKXRCqS5qQJZ",
        "outputId": "5b72c56e-ffaa-41e6-a131-d6283cb3ab93"
      },
      "outputs": [
        {
          "output_type": "execute_result",
          "data": {
            "text/plain": [
              "[[35, 35, 33, 33, 32, 32, 36, 35, 29, 34, 30],\n",
              " [25, 27, 29, 29, 29, 25, 28, 28, 29, 29, 28],\n",
              " [37, 36, 36, 37, 35, 34, 25, 25, 35, 25, 32],\n",
              " [32, 37, 37, 36, 36, 34, 35, 35, 35, 36, 35],\n",
              " [34, 34, 35, 37, 36, 37, 32, 35, 35, 36, 36],\n",
              " [36, 32, 36, 31, 35, 34, 36, 33, 36, 33, 35],\n",
              " [32, 37, 37, 38, 37, 37, 37, 37, 38, 36, 37],\n",
              " [33, 32, 31, 31, 31, 27, 32, 34, 32, 36, 35],\n",
              " [33, 35, 35, 38, 36, 36, 38, 35, 38, 36, 37],\n",
              " [24, 24, 26, 27, 29, 28, 30, 31, 25, 29, 29]]"
            ]
          },
          "metadata": {},
          "execution_count": 59
        }
      ],
      "source": [
        "list_row"
      ]
    },
    {
      "cell_type": "code",
      "execution_count": 60,
      "metadata": {
        "id": "EjAwMSxHqRdC"
      },
      "outputs": [],
      "source": [
        "# # Sum of all the individual dataframes lengths\n",
        "# sum1 = 0\n",
        "# for i in list_row:\n",
        "#   sum1 = sum1+sum(i)"
      ]
    },
    {
      "cell_type": "code",
      "execution_count": 61,
      "metadata": {
        "id": "UoqZIkpgFxY5"
      },
      "outputs": [],
      "source": [
        "# Checking wether sum of lenths of individual datasets minus no:of rows delted is equal to df_final row length \n",
        "# len(df_final): Final data frame row length \n",
        "# we deleted 8 rows from each 11 individual files of 10 different crops so total no:of rows deleted = (8*10*11)\n",
        "#sum1  == ((df_crops_final.count()))+(8)*(10)*(11)"
      ]
    },
    {
      "cell_type": "code",
      "execution_count": 62,
      "metadata": {
        "id": "5AO__HGOFzu-"
      },
      "outputs": [],
      "source": [
        "df_crops_final = df_crops_final.where(df_crops_final.Crop_Variety != \" Select Variety\")"
      ]
    },
    {
      "cell_type": "code",
      "execution_count": 63,
      "metadata": {
        "id": "rxd9ap1mIFmd"
      },
      "outputs": [],
      "source": [
        "list_Cities = df_crops_final.select('Center_Name').rdd.flatMap(lambda x: x).collect()\n",
        "# Taking all the cell values from \"Center_Name\" into a list\n",
        "#list_Cities # all the center names in our dataframe"
      ]
    },
    {
      "cell_type": "code",
      "execution_count": 64,
      "metadata": {
        "colab": {
          "base_uri": "https://localhost:8080/"
        },
        "id": "nUxCqc_KJsJ8",
        "outputId": "ac331f5f-9777-4284-ab27-1c367e3064c6"
      },
      "outputs": [
        {
          "output_type": "execute_result",
          "data": {
            "text/plain": [
              "2704"
            ]
          },
          "metadata": {},
          "execution_count": 64
        }
      ],
      "source": [
        "len(list_Cities)"
      ]
    },
    {
      "cell_type": "code",
      "execution_count": 65,
      "metadata": {
        "id": "rDQmUCs9IYHb"
      },
      "outputs": [],
      "source": [
        "def rename(x):\n",
        "  list_Cities = df_crops_final.select(x).rdd.flatMap(lambda x: x).collect()\n",
        "  list_Cities1 = []# Taking an empty list \"list_Cities1\"\n",
        "  for i in list_Cities:# for every center name in list_Citites\n",
        "    list_Cities1.append(re.sub('[^a-zA-Z]+', '', i)) # Returning the string consisting of only english alphabets and appending it to a new list\n",
        "  return list_Cities1"
      ]
    },
    {
      "cell_type": "code",
      "execution_count": 66,
      "metadata": {
        "id": "5HYeYO16Ohjr"
      },
      "outputs": [],
      "source": [
        "list_Cities1 = rename(\"Center_Name\")"
      ]
    },
    {
      "cell_type": "code",
      "execution_count": 67,
      "metadata": {
        "id": "1sdFie14cZXo"
      },
      "outputs": [],
      "source": [
        "df_crops_final = df_crops_final.replace(list_Cities, list_Cities1, 'Center_Name')"
      ]
    },
    {
      "cell_type": "code",
      "execution_count": 68,
      "metadata": {
        "colab": {
          "base_uri": "https://localhost:8080/"
        },
        "id": "hVUkmVKPck8N",
        "outputId": "f32fea6e-d630-466b-9c49-2d797649104c"
      },
      "outputs": [
        {
          "output_type": "execute_result",
          "data": {
            "text/plain": [
              "2704"
            ]
          },
          "metadata": {},
          "execution_count": 68
        }
      ],
      "source": [
        "df_crops_final.count()"
      ]
    },
    {
      "cell_type": "code",
      "execution_count": 69,
      "metadata": {
        "colab": {
          "base_uri": "https://localhost:8080/"
        },
        "id": "0LY87FuGc__v",
        "outputId": "6755adea-5144-4652-b36c-9505143b2ff5"
      },
      "outputs": [
        {
          "output_type": "execute_result",
          "data": {
            "text/plain": [
              "{'AHMEDABAD',\n",
              " 'AMRITSAR',\n",
              " 'BANGALURU',\n",
              " 'BARAUT',\n",
              " 'BHOPAL',\n",
              " 'BHUBANESHWAR',\n",
              " 'CHANDIGARH',\n",
              " 'CHENNAI',\n",
              " 'DEHRADUN',\n",
              " 'DELHI',\n",
              " 'GANGATOK',\n",
              " 'GUWAHATI',\n",
              " 'HYDERABAD',\n",
              " 'JAIPUR',\n",
              " 'JAMMU',\n",
              " 'KOLKATA',\n",
              " 'LASALGAON',\n",
              " 'LUCKNOW',\n",
              " 'MUMBAI',\n",
              " 'NAGPUR',\n",
              " 'NASIK',\n",
              " 'PATNA',\n",
              " 'PIMPALGAON',\n",
              " 'PUNE',\n",
              " 'RAIPUR',\n",
              " 'RANCHI',\n",
              " 'SHIMLA',\n",
              " 'SRINAGAR',\n",
              " 'TRIVENDRUM',\n",
              " 'VARANASI',\n",
              " 'VIJAYAWADA'}"
            ]
          },
          "metadata": {},
          "execution_count": 69
        }
      ],
      "source": [
        "set(list_Cities1)"
      ]
    },
    {
      "cell_type": "code",
      "execution_count": 70,
      "metadata": {
        "id": "r8yDlW1tQWkW"
      },
      "outputs": [],
      "source": [
        "list_cities = []\n",
        "x= set(list_Cities1)\n",
        "for i in x:\n",
        "  list_cities.append(i)\n",
        "list_cities.sort()\n"
      ]
    },
    {
      "cell_type": "code",
      "execution_count": 71,
      "metadata": {
        "colab": {
          "base_uri": "https://localhost:8080/"
        },
        "id": "0qHAsJzZddyF",
        "outputId": "1e7bc9d3-fff7-4922-f54d-2d290588b56d"
      },
      "outputs": [
        {
          "output_type": "execute_result",
          "data": {
            "text/plain": [
              "['AHMEDABAD',\n",
              " 'AMRITSAR',\n",
              " 'BANGALURU',\n",
              " 'BARAUT',\n",
              " 'BHOPAL',\n",
              " 'BHUBANESHWAR',\n",
              " 'CHANDIGARH',\n",
              " 'CHENNAI',\n",
              " 'DEHRADUN',\n",
              " 'DELHI',\n",
              " 'GANGATOK',\n",
              " 'GUWAHATI',\n",
              " 'HYDERABAD',\n",
              " 'JAIPUR',\n",
              " 'JAMMU',\n",
              " 'KOLKATA',\n",
              " 'LASALGAON',\n",
              " 'LUCKNOW',\n",
              " 'MUMBAI',\n",
              " 'NAGPUR',\n",
              " 'NASIK',\n",
              " 'PATNA',\n",
              " 'PIMPALGAON',\n",
              " 'PUNE',\n",
              " 'RAIPUR',\n",
              " 'RANCHI',\n",
              " 'SHIMLA',\n",
              " 'SRINAGAR',\n",
              " 'TRIVENDRUM',\n",
              " 'VARANASI',\n",
              " 'VIJAYAWADA']"
            ]
          },
          "metadata": {},
          "execution_count": 71
        }
      ],
      "source": [
        "list_cities"
      ]
    },
    {
      "cell_type": "code",
      "execution_count": 72,
      "metadata": {
        "id": "0VZ9m-XSQofe"
      },
      "outputs": [],
      "source": [
        "# I tried to download a new excel files consisting of city names and their respecive states and replace thee Center_Name column values with respective state names \n",
        "    # I encountered following problems \n",
        "      # 1)some of the citiy names are having different spelling from our current dataset\n",
        "      # 2) A city name is present in two or three different states\n",
        "# Therefore I created a new list of states manually corresponding the city names from \"set(list_Cities1)\" values \"\"\""
      ]
    },
    {
      "cell_type": "code",
      "execution_count": 73,
      "metadata": {
        "id": "sgerlzM-QzXa"
      },
      "outputs": [],
      "source": [
        "# List of \n",
        "\n",
        "list_States  = ['Gujarat','Punjab','Karnataka','Uttar Pradesh','Madhya Pradesh','Odisha','Chhattisgarh','Tamil Nadu','Uttarakhand','New Delhi','Sikkim','Assam','Andhra Pradesh','Rajasthan','Jhammu & Kashmir','West Bengal','Maharashtra','Gujarat','Maharashtra','Madhya Pradesh','Maharashtra','Maharashtra','Maharashtra','Jharkhand','Chhattisgarh','Jharkhand','Jhammu & Kashmir','Jhammu & Kashmir','Kerala','Uttar Pradesh',\"Andhra Pradesh\"]\n",
        "for i in range(len(list_States)):\n",
        "  df_crops_final = df_crops_final.withColumn('Center_Name', regexp_replace('Center_Name', list_cities[i],list_States[i]))\n",
        "#df_crops_final1 = df_crops_final1.replace(list_cities, list_States, 'Center_Name') # Replacing city names with its state values "
      ]
    },
    {
      "cell_type": "code",
      "execution_count": 74,
      "metadata": {
        "colab": {
          "base_uri": "https://localhost:8080/"
        },
        "id": "0k7Of3w5WRJs",
        "outputId": "7b6bd70c-c649-4c29-cdaa-12ebab861271"
      },
      "outputs": [
        {
          "output_type": "stream",
          "name": "stdout",
          "text": [
            "+----+----------------+----------------+-----------------+--------------+--------------+------------+-------------+-------------+---------------+------------------+----------------+-----------------+-----------------+----+-------------+----------+\n",
            "|S.No|     Center_Name|Price_in_January|Price_in_February|Price_in_March|Price_in_April|Price_in_May|Price_in_June|Price_in_July|Price_in_August|Price_in_September|Price_in_October|Price_in_November|Price_in_December|Year| Crop_Variety|        ID|\n",
            "+----+----------------+----------------+-----------------+--------------+--------------+------------+-------------+-------------+---------------+------------------+----------------+-----------------+-----------------+----+-------------+----------+\n",
            "|   1|         Gujarat|               0|                0|          1307|          1119|         751|         1729|         1164|           1173|              1139|             960|              800|                0|2011| BITTER GOURD|         8|\n",
            "|   2|          Punjab|               0|                0|             0|             0|        1179|          640|          942|           1083|              1269|            1076|                0|                0|2011| BITTER GOURD|         9|\n",
            "|   3|       Karnataka|            1410|             1073|           965|           932|        1546|         1660|         1589|           1542|              1659|            1716|             1563|             1539|2011| BITTER GOURD|        10|\n",
            "|   4|   Uttar Pradesh|               0|                0|             0|          1370|        1018|          750|         1231|           1061|                 0|               0|                0|                0|2011| BITTER GOURD|        11|\n",
            "|   5|  Madhya Pradesh|               0|                0|          2546|          1907|        1298|         1462|         2262|           1576|              1448|            1035|             1608|             1596|2011| BITTER GOURD|        12|\n",
            "|   6|          Odisha|            2540|             2339|          1630|           847|         795|         1498|         1723|           1648|              2105|            1926|             1635|             1480|2011| BITTER GOURD|        13|\n",
            "|   7|    Chhattisgarh|               0|                0|             0|             0|        1488|          869|          996|           1148|              1359|            1457|                0|                0|2011| BITTER GOURD|        14|\n",
            "|   8|      Tamil Nadu|            1908|             1387|          1222|          1013|        1276|         1248|         1546|           1447|              1486|            1500|             1378|             1420|2011| BITTER GOURD|        15|\n",
            "|   9|     Uttarakhand|               0|                0|             0|          2632|         719|          828|          899|            810|              1306|            1242|             1746|             2338|2011| BITTER GOURD|        16|\n",
            "|  10|       New Delhi|            2342|             2358|          2321|          2027|         914|          601|          883|            923|              1346|            1162|             1386|             1598|2011| BITTER GOURD|8589934592|\n",
            "|  11|          Sikkim|            2419|             3364|             0|          2021|        1376|         1199|         1447|           2118|              2750|            2598|             2140|             2081|2011| BITTER GOURD|8589934593|\n",
            "|  12|           Assam|               0|                0|             0|          1445|         653|          596|          752|           1006|              1523|               0|                0|                0|2011| BITTER GOURD|8589934594|\n",
            "|  13|  Andhra Pradesh|            1229|              986|           530|           576|         584|          744|         1006|           1207|               833|             767|              848|              950|2011| BITTER GOURD|8589934595|\n",
            "|  14|       Rajasthan|               0|                0|             0|             0|           0|         1126|         1086|           1170|              1161|            1117|              987|                0|2011| BITTER GOURD|8589934596|\n",
            "|  15|Jhammu & Kashmir|            3373|             2474|          2452|          2245|        1172|          706|         1106|           1044|              1104|             930|             1135|             1681|2011| BITTER GOURD|8589934597|\n",
            "|  16|     West Bengal|            2567|                0|             0|          1317|        1155|         1481|         2271|           2746|              3268|            2142|             1834|             1505|2011| BITTER GOURD|8589934598|\n",
            "|  17|         Gujarat|               0|                0|             0|          2333|        1011|          769|         1128|           1211|              1216|            1219|              921|                0|2011| BITTER GOURD|8589934599|\n",
            "|  18|     Maharashtra|            1413|             1430|          1379|          1027|         724|         1079|         1188|            967|               900|             858|             1163|              996|2011| BITTER GOURD|8589934600|\n",
            "|  19|  Madhya Pradesh|            2602|             1772|          1523|          1036|         936|         1024|         1546|            955|              1576|            1981|             1579|             1530|2011| BITTER GOURD|8589934601|\n",
            "|  20|     Maharashtra|            2049|             2333|          1838|          1260|        1068|          966|         1252|           1197|              1355|             620|             1358|             1727|2011| BITTER GOURD|8589934602|\n",
            "+----+----------------+----------------+-----------------+--------------+--------------+------------+-------------+-------------+---------------+------------------+----------------+-----------------+-----------------+----+-------------+----------+\n",
            "only showing top 20 rows\n",
            "\n"
          ]
        }
      ],
      "source": [
        "df_crops_final.show()"
      ]
    },
    {
      "cell_type": "code",
      "execution_count": 75,
      "metadata": {
        "colab": {
          "base_uri": "https://localhost:8080/"
        },
        "id": "WURzUHG6RK9M",
        "outputId": "44949017-cb65-4755-ace3-3739d3d5a3c0"
      },
      "outputs": [
        {
          "output_type": "execute_result",
          "data": {
            "text/plain": [
              "True"
            ]
          },
          "metadata": {},
          "execution_count": 75
        }
      ],
      "source": [
        "df_crops_final.select(\"Center_Name\").distinct().count() == len(set(list_States))"
      ]
    },
    {
      "cell_type": "code",
      "execution_count": 76,
      "metadata": {
        "id": "zMnz9cERjJ29"
      },
      "outputs": [],
      "source": [
        "df_crops_final1 = df_crops_final"
      ]
    },
    {
      "cell_type": "code",
      "execution_count": 77,
      "metadata": {
        "id": "J2-BBGiUk2tB"
      },
      "outputs": [],
      "source": [
        "\n",
        "df_crops_final = df_crops_final.drop(\"ID\",\"S.No\")"
      ]
    },
    {
      "cell_type": "code",
      "execution_count": 78,
      "metadata": {
        "id": "sH-6L007pWf0"
      },
      "outputs": [],
      "source": [
        "\n",
        "df_crops_final=df_crops_final.select([when(col(c)==0, df_crops_final.select(mean(col(c))).collect()[0][0]).otherwise(col(c)).alias(c) for c in df_crops_final.columns])"
      ]
    },
    {
      "cell_type": "code",
      "execution_count": 79,
      "metadata": {
        "id": "Jycnox9a1okm"
      },
      "outputs": [],
      "source": [
        "df_crops_final=df_crops_final.select([when(col(c)==0,np.nan).otherwise(col(c)).alias(c) for c in df_crops_final.columns])"
      ]
    },
    {
      "cell_type": "code",
      "execution_count": 80,
      "metadata": {
        "colab": {
          "base_uri": "https://localhost:8080/"
        },
        "id": "NkgQwAw2UDnQ",
        "outputId": "da339f95-1c41-4811-993e-5e92e7efd6b3"
      },
      "outputs": [
        {
          "output_type": "stream",
          "name": "stdout",
          "text": [
            "+-----------+----------------+-----------------+--------------+--------------+------------+-------------+-------------+---------------+------------------+----------------+-----------------+-----------------+----+------------+\n",
            "|Center_Name|Price_in_January|Price_in_February|Price_in_March|Price_in_April|Price_in_May|Price_in_June|Price_in_July|Price_in_August|Price_in_September|Price_in_October|Price_in_November|Price_in_December|Year|Crop_Variety|\n",
            "+-----------+----------------+-----------------+--------------+--------------+------------+-------------+-------------+---------------+------------------+----------------+-----------------+-----------------+----+------------+\n",
            "|          0|               0|                0|             0|             0|           0|            0|            0|              0|                 0|               0|                0|                0|   0|           0|\n",
            "+-----------+----------------+-----------------+--------------+--------------+------------+-------------+-------------+---------------+------------------+----------------+-----------------+-----------------+----+------------+\n",
            "\n"
          ]
        }
      ],
      "source": [
        "df_crops_final.select([count(when(isnan(c) | col(c).isNull(), c)).alias(c) for c in df_crops_final.columns]).show()"
      ]
    },
    {
      "cell_type": "code",
      "execution_count": 81,
      "metadata": {
        "id": "94geH-Uq4D6o"
      },
      "outputs": [],
      "source": [
        "#df_crops_final.write.format(\"csv\").save(\"/content/drive/MyDrive/Capstone/Datasets/Final_Datasets/Final_Crops_Dataset\")"
      ]
    },
    {
      "cell_type": "markdown",
      "metadata": {
        "id": "jCrhR5du4TRZ"
      },
      "source": [
        "# _____COMBINED DATASETS_______"
      ]
    },
    {
      "cell_type": "code",
      "execution_count": 82,
      "metadata": {
        "id": "8FZF-JcZ4tTw"
      },
      "outputs": [],
      "source": [
        "df_crops  = df_crops_final"
      ]
    },
    {
      "cell_type": "code",
      "execution_count": 83,
      "metadata": {
        "id": "QFMExIWEFDsV"
      },
      "outputs": [],
      "source": [
        "df_weather = df_original"
      ]
    },
    {
      "cell_type": "code",
      "execution_count": 84,
      "metadata": {
        "colab": {
          "base_uri": "https://localhost:8080/"
        },
        "id": "X789Kc1YFj28",
        "outputId": "135b0142-cb01-4668-f4d4-ac8d86d6a711"
      },
      "outputs": [
        {
          "output_type": "stream",
          "name": "stdout",
          "text": [
            "+-------+--------------+------------------+------------------+------------------+------------------+------------------+------------------+------------------+------------------+------------------+------------------+------------------+------------------+------------------+-------------+\n",
            "|summary|   Center_Name|  Price_in_January| Price_in_February|    Price_in_March|    Price_in_April|      Price_in_May|     Price_in_June|     Price_in_July|   Price_in_August|Price_in_September|  Price_in_October| Price_in_November| Price_in_December|              Year| Crop_Variety|\n",
            "+-------+--------------+------------------+------------------+------------------+------------------+------------------+------------------+------------------+------------------+------------------+------------------+------------------+------------------+------------------+-------------+\n",
            "|  count|          2704|              2704|              2704|              2704|              2704|              2704|              2704|              2704|              2704|              2704|              2704|              2704|              2704|              2704|         2704|\n",
            "|   mean|          null|1779.3111733438939| 1641.996450579461|1714.3069414476906|1720.4065585501194|1671.5026182994293|1839.2386512092514| 2231.526181353066|2195.1358561499947| 2115.528072727014|2347.7310863973144| 2363.398545547252|1999.2534908835478|2016.0506656804735|         null|\n",
            "| stddev|          null|1053.7809726895082|1051.8733643310604|1076.2634377913764| 1054.479934876824|1063.1662147423413|1133.9674895662515|1221.7425928418888| 1180.730534480769|1308.5436702813925|1484.3638366871116|1453.5694417543098|1244.3487823974435|  3.11275696746525|         null|\n",
            "|    min|Andhra Pradesh|              1000|              1002|              1000|              1000|              1000|              1000|              1000|              1006|              1000|             10000|              1000|              1000|              2011| BITTER GOURD|\n",
            "|    25%|          null|            1068.0|             908.0|             939.0|            1066.0|            1167.0|            1316.0|            1643.0|            1619.0|            1456.0|            1637.0|            1509.0|            1284.0|            2013.0|         null|\n",
            "|    50%|          null|1527.8683431952663|1411.7514792899408|1509.4386094674555|1401.1985946745563|1312.3528106508875|1441.5366124260354|1781.0055473372781|1752.4792899408285|1705.0336538461538|1909.2525887573966| 1983.435650887574|1695.7281804733727|            2016.0|         null|\n",
            "|    75%|          null|            2240.0|            2073.0|            2213.0|            2125.0|            1911.0|            2104.0|            2591.0|            2519.0|            2323.0|            2608.0|            2778.0|            2400.0|            2019.0|         null|\n",
            "|    max|   West Bengal|               999|               998|               999|               996|               999|               999|               996|               999|               999|               999|               998|               999|              2022| TOMATO LOCAL|\n",
            "+-------+--------------+------------------+------------------+------------------+------------------+------------------+------------------+------------------+------------------+------------------+------------------+------------------+------------------+------------------+-------------+\n",
            "\n"
          ]
        }
      ],
      "source": [
        "df_crops.summary().show()"
      ]
    },
    {
      "cell_type": "code",
      "execution_count": 85,
      "metadata": {
        "id": "M3AAxutdV2e0"
      },
      "outputs": [],
      "source": [
        "df_crops = df_crops.withColumnRenamed(\"Center_Name\",\"State\")"
      ]
    },
    {
      "cell_type": "code",
      "source": [
        "df_crops.show(10)"
      ],
      "metadata": {
        "colab": {
          "base_uri": "https://localhost:8080/"
        },
        "id": "ooSSugHxiXLp",
        "outputId": "e0074464-0f61-4416-95a4-2c58df258b48"
      },
      "execution_count": 86,
      "outputs": [
        {
          "output_type": "stream",
          "name": "stdout",
          "text": [
            "+--------------+------------------+------------------+------------------+------------------+------------+-------------+-------------+---------------+------------------+------------------+-----------------+------------------+----+-------------+\n",
            "|         State|  Price_in_January| Price_in_February|    Price_in_March|    Price_in_April|Price_in_May|Price_in_June|Price_in_July|Price_in_August|Price_in_September|  Price_in_October|Price_in_November| Price_in_December|Year| Crop_Variety|\n",
            "+--------------+------------------+------------------+------------------+------------------+------------+-------------+-------------+---------------+------------------+------------------+-----------------+------------------+----+-------------+\n",
            "|       Gujarat|1527.8683431952663|1411.7514792899408|              1307|              1119|         751|         1729|         1164|           1173|              1139|               960|              800|1695.7281804733727|2011| BITTER GOURD|\n",
            "|        Punjab|1527.8683431952663|1411.7514792899408|1509.4386094674555|1401.1985946745563|        1179|          640|          942|           1083|              1269|              1076|1983.435650887574|1695.7281804733727|2011| BITTER GOURD|\n",
            "|     Karnataka|              1410|              1073|               965|               932|        1546|         1660|         1589|           1542|              1659|              1716|             1563|              1539|2011| BITTER GOURD|\n",
            "| Uttar Pradesh|1527.8683431952663|1411.7514792899408|1509.4386094674555|              1370|        1018|          750|         1231|           1061|1705.0336538461538|1909.2525887573966|1983.435650887574|1695.7281804733727|2011| BITTER GOURD|\n",
            "|Madhya Pradesh|1527.8683431952663|1411.7514792899408|              2546|              1907|        1298|         1462|         2262|           1576|              1448|              1035|             1608|              1596|2011| BITTER GOURD|\n",
            "|        Odisha|              2540|              2339|              1630|               847|         795|         1498|         1723|           1648|              2105|              1926|             1635|              1480|2011| BITTER GOURD|\n",
            "|  Chhattisgarh|1527.8683431952663|1411.7514792899408|1509.4386094674555|1401.1985946745563|        1488|          869|          996|           1148|              1359|              1457|1983.435650887574|1695.7281804733727|2011| BITTER GOURD|\n",
            "|    Tamil Nadu|              1908|              1387|              1222|              1013|        1276|         1248|         1546|           1447|              1486|              1500|             1378|              1420|2011| BITTER GOURD|\n",
            "|   Uttarakhand|1527.8683431952663|1411.7514792899408|1509.4386094674555|              2632|         719|          828|          899|            810|              1306|              1242|             1746|              2338|2011| BITTER GOURD|\n",
            "|     New Delhi|              2342|              2358|              2321|              2027|         914|          601|          883|            923|              1346|              1162|             1386|              1598|2011| BITTER GOURD|\n",
            "+--------------+------------------+------------------+------------------+------------------+------------+-------------+-------------+---------------+------------------+------------------+-----------------+------------------+----+-------------+\n",
            "only showing top 10 rows\n",
            "\n"
          ]
        }
      ]
    },
    {
      "cell_type": "code",
      "source": [
        "pd_crops = df_crops.toPandas()"
      ],
      "metadata": {
        "id": "mo2UspVOrNhr"
      },
      "execution_count": 87,
      "outputs": []
    },
    {
      "cell_type": "code",
      "source": [
        "df_crops_final = pd.DataFrame()"
      ],
      "metadata": {
        "id": "9KWKHHN6y3r8"
      },
      "execution_count": 88,
      "outputs": []
    },
    {
      "cell_type": "code",
      "source": [
        "pd_crops.columns.values.tolist()[1:-2]"
      ],
      "metadata": {
        "colab": {
          "base_uri": "https://localhost:8080/"
        },
        "id": "Va-8c40ycuC7",
        "outputId": "6c0a059c-3872-44c1-ced4-4c4986e31bb0"
      },
      "execution_count": 89,
      "outputs": [
        {
          "output_type": "execute_result",
          "data": {
            "text/plain": [
              "['Price_in_January',\n",
              " 'Price_in_February',\n",
              " 'Price_in_March',\n",
              " 'Price_in_April',\n",
              " 'Price_in_May',\n",
              " 'Price_in_June',\n",
              " 'Price_in_July',\n",
              " 'Price_in_August',\n",
              " 'Price_in_September',\n",
              " 'Price_in_October',\n",
              " 'Price_in_November',\n",
              " 'Price_in_December']"
            ]
          },
          "metadata": {},
          "execution_count": 89
        }
      ]
    },
    {
      "cell_type": "code",
      "source": [
        "# In the below code I am converting the above dataframe by adding Month column and Price column and inserting a months price in respective cell\n",
        "list_crops_header = pd_crops.columns.values.tolist()[1:-2] # Taking required header values \n",
        "for i in list_crops_header:\n",
        "  df_crops_final1 = pd_crops[[\"State\",\"Crop_Variety\",\t\"Year\"]] # Coping required column values from above dataframe\n",
        "  df_crops_final1[\"Month\"] =  i[9:] # Adding values to Month column \n",
        "  df_crops_final1[\"Price\"] = pd_crops[i] # Copying price values from df_crops column and adding it to respective df_crops_final1 cells\n",
        "  df_crops_final = df_crops_final.append(df_crops_final1)"
      ],
      "metadata": {
        "id": "SRnDxvK6iXxC",
        "colab": {
          "base_uri": "https://localhost:8080/"
        },
        "outputId": "2da6fa80-1843-4e59-a791-9bebe27e0fe4"
      },
      "execution_count": 90,
      "outputs": [
        {
          "output_type": "stream",
          "name": "stderr",
          "text": [
            "/usr/local/lib/python3.7/dist-packages/ipykernel_launcher.py:5: SettingWithCopyWarning: \n",
            "A value is trying to be set on a copy of a slice from a DataFrame.\n",
            "Try using .loc[row_indexer,col_indexer] = value instead\n",
            "\n",
            "See the caveats in the documentation: https://pandas.pydata.org/pandas-docs/stable/user_guide/indexing.html#returning-a-view-versus-a-copy\n",
            "  \"\"\"\n",
            "/usr/local/lib/python3.7/dist-packages/ipykernel_launcher.py:6: SettingWithCopyWarning: \n",
            "A value is trying to be set on a copy of a slice from a DataFrame.\n",
            "Try using .loc[row_indexer,col_indexer] = value instead\n",
            "\n",
            "See the caveats in the documentation: https://pandas.pydata.org/pandas-docs/stable/user_guide/indexing.html#returning-a-view-versus-a-copy\n",
            "  \n"
          ]
        }
      ]
    },
    {
      "cell_type": "code",
      "source": [
        "df_crops_final"
      ],
      "metadata": {
        "colab": {
          "base_uri": "https://localhost:8080/",
          "height": 424
        },
        "id": "01uhu-lGb7Fu",
        "outputId": "fbe75d85-d242-4ba3-b46b-0dd2dd5a6ccb"
      },
      "execution_count": 91,
      "outputs": [
        {
          "output_type": "execute_result",
          "data": {
            "text/plain": [
              "               State   Crop_Variety  Year     Month               Price\n",
              "0            Gujarat   BITTER GOURD  2011   January  1527.8683431952663\n",
              "1             Punjab   BITTER GOURD  2011   January  1527.8683431952663\n",
              "2          Karnataka   BITTER GOURD  2011   January                1410\n",
              "3      Uttar Pradesh   BITTER GOURD  2011   January  1527.8683431952663\n",
              "4     Madhya Pradesh   BITTER GOURD  2011   January  1527.8683431952663\n",
              "...              ...            ...   ...       ...                 ...\n",
              "2699     Maharashtra   TOMATO LOCAL  2012  December                 825\n",
              "2700       Jharkhand   TOMATO LOCAL  2012  December                 450\n",
              "2701    Chhattisgarh   TOMATO LOCAL  2012  December                 567\n",
              "2702       Jharkhand   TOMATO LOCAL  2012  December                 675\n",
              "2703          Kerala   TOMATO LOCAL  2012  December  1695.7281804733727\n",
              "\n",
              "[32448 rows x 5 columns]"
            ],
            "text/html": [
              "\n",
              "  <div id=\"df-afe6b9d8-9b06-4c7f-8eb4-68572071f5c3\">\n",
              "    <div class=\"colab-df-container\">\n",
              "      <div>\n",
              "<style scoped>\n",
              "    .dataframe tbody tr th:only-of-type {\n",
              "        vertical-align: middle;\n",
              "    }\n",
              "\n",
              "    .dataframe tbody tr th {\n",
              "        vertical-align: top;\n",
              "    }\n",
              "\n",
              "    .dataframe thead th {\n",
              "        text-align: right;\n",
              "    }\n",
              "</style>\n",
              "<table border=\"1\" class=\"dataframe\">\n",
              "  <thead>\n",
              "    <tr style=\"text-align: right;\">\n",
              "      <th></th>\n",
              "      <th>State</th>\n",
              "      <th>Crop_Variety</th>\n",
              "      <th>Year</th>\n",
              "      <th>Month</th>\n",
              "      <th>Price</th>\n",
              "    </tr>\n",
              "  </thead>\n",
              "  <tbody>\n",
              "    <tr>\n",
              "      <th>0</th>\n",
              "      <td>Gujarat</td>\n",
              "      <td>BITTER GOURD</td>\n",
              "      <td>2011</td>\n",
              "      <td>January</td>\n",
              "      <td>1527.8683431952663</td>\n",
              "    </tr>\n",
              "    <tr>\n",
              "      <th>1</th>\n",
              "      <td>Punjab</td>\n",
              "      <td>BITTER GOURD</td>\n",
              "      <td>2011</td>\n",
              "      <td>January</td>\n",
              "      <td>1527.8683431952663</td>\n",
              "    </tr>\n",
              "    <tr>\n",
              "      <th>2</th>\n",
              "      <td>Karnataka</td>\n",
              "      <td>BITTER GOURD</td>\n",
              "      <td>2011</td>\n",
              "      <td>January</td>\n",
              "      <td>1410</td>\n",
              "    </tr>\n",
              "    <tr>\n",
              "      <th>3</th>\n",
              "      <td>Uttar Pradesh</td>\n",
              "      <td>BITTER GOURD</td>\n",
              "      <td>2011</td>\n",
              "      <td>January</td>\n",
              "      <td>1527.8683431952663</td>\n",
              "    </tr>\n",
              "    <tr>\n",
              "      <th>4</th>\n",
              "      <td>Madhya Pradesh</td>\n",
              "      <td>BITTER GOURD</td>\n",
              "      <td>2011</td>\n",
              "      <td>January</td>\n",
              "      <td>1527.8683431952663</td>\n",
              "    </tr>\n",
              "    <tr>\n",
              "      <th>...</th>\n",
              "      <td>...</td>\n",
              "      <td>...</td>\n",
              "      <td>...</td>\n",
              "      <td>...</td>\n",
              "      <td>...</td>\n",
              "    </tr>\n",
              "    <tr>\n",
              "      <th>2699</th>\n",
              "      <td>Maharashtra</td>\n",
              "      <td>TOMATO LOCAL</td>\n",
              "      <td>2012</td>\n",
              "      <td>December</td>\n",
              "      <td>825</td>\n",
              "    </tr>\n",
              "    <tr>\n",
              "      <th>2700</th>\n",
              "      <td>Jharkhand</td>\n",
              "      <td>TOMATO LOCAL</td>\n",
              "      <td>2012</td>\n",
              "      <td>December</td>\n",
              "      <td>450</td>\n",
              "    </tr>\n",
              "    <tr>\n",
              "      <th>2701</th>\n",
              "      <td>Chhattisgarh</td>\n",
              "      <td>TOMATO LOCAL</td>\n",
              "      <td>2012</td>\n",
              "      <td>December</td>\n",
              "      <td>567</td>\n",
              "    </tr>\n",
              "    <tr>\n",
              "      <th>2702</th>\n",
              "      <td>Jharkhand</td>\n",
              "      <td>TOMATO LOCAL</td>\n",
              "      <td>2012</td>\n",
              "      <td>December</td>\n",
              "      <td>675</td>\n",
              "    </tr>\n",
              "    <tr>\n",
              "      <th>2703</th>\n",
              "      <td>Kerala</td>\n",
              "      <td>TOMATO LOCAL</td>\n",
              "      <td>2012</td>\n",
              "      <td>December</td>\n",
              "      <td>1695.7281804733727</td>\n",
              "    </tr>\n",
              "  </tbody>\n",
              "</table>\n",
              "<p>32448 rows × 5 columns</p>\n",
              "</div>\n",
              "      <button class=\"colab-df-convert\" onclick=\"convertToInteractive('df-afe6b9d8-9b06-4c7f-8eb4-68572071f5c3')\"\n",
              "              title=\"Convert this dataframe to an interactive table.\"\n",
              "              style=\"display:none;\">\n",
              "        \n",
              "  <svg xmlns=\"http://www.w3.org/2000/svg\" height=\"24px\"viewBox=\"0 0 24 24\"\n",
              "       width=\"24px\">\n",
              "    <path d=\"M0 0h24v24H0V0z\" fill=\"none\"/>\n",
              "    <path d=\"M18.56 5.44l.94 2.06.94-2.06 2.06-.94-2.06-.94-.94-2.06-.94 2.06-2.06.94zm-11 1L8.5 8.5l.94-2.06 2.06-.94-2.06-.94L8.5 2.5l-.94 2.06-2.06.94zm10 10l.94 2.06.94-2.06 2.06-.94-2.06-.94-.94-2.06-.94 2.06-2.06.94z\"/><path d=\"M17.41 7.96l-1.37-1.37c-.4-.4-.92-.59-1.43-.59-.52 0-1.04.2-1.43.59L10.3 9.45l-7.72 7.72c-.78.78-.78 2.05 0 2.83L4 21.41c.39.39.9.59 1.41.59.51 0 1.02-.2 1.41-.59l7.78-7.78 2.81-2.81c.8-.78.8-2.07 0-2.86zM5.41 20L4 18.59l7.72-7.72 1.47 1.35L5.41 20z\"/>\n",
              "  </svg>\n",
              "      </button>\n",
              "      \n",
              "  <style>\n",
              "    .colab-df-container {\n",
              "      display:flex;\n",
              "      flex-wrap:wrap;\n",
              "      gap: 12px;\n",
              "    }\n",
              "\n",
              "    .colab-df-convert {\n",
              "      background-color: #E8F0FE;\n",
              "      border: none;\n",
              "      border-radius: 50%;\n",
              "      cursor: pointer;\n",
              "      display: none;\n",
              "      fill: #1967D2;\n",
              "      height: 32px;\n",
              "      padding: 0 0 0 0;\n",
              "      width: 32px;\n",
              "    }\n",
              "\n",
              "    .colab-df-convert:hover {\n",
              "      background-color: #E2EBFA;\n",
              "      box-shadow: 0px 1px 2px rgba(60, 64, 67, 0.3), 0px 1px 3px 1px rgba(60, 64, 67, 0.15);\n",
              "      fill: #174EA6;\n",
              "    }\n",
              "\n",
              "    [theme=dark] .colab-df-convert {\n",
              "      background-color: #3B4455;\n",
              "      fill: #D2E3FC;\n",
              "    }\n",
              "\n",
              "    [theme=dark] .colab-df-convert:hover {\n",
              "      background-color: #434B5C;\n",
              "      box-shadow: 0px 1px 3px 1px rgba(0, 0, 0, 0.15);\n",
              "      filter: drop-shadow(0px 1px 2px rgba(0, 0, 0, 0.3));\n",
              "      fill: #FFFFFF;\n",
              "    }\n",
              "  </style>\n",
              "\n",
              "      <script>\n",
              "        const buttonEl =\n",
              "          document.querySelector('#df-afe6b9d8-9b06-4c7f-8eb4-68572071f5c3 button.colab-df-convert');\n",
              "        buttonEl.style.display =\n",
              "          google.colab.kernel.accessAllowed ? 'block' : 'none';\n",
              "\n",
              "        async function convertToInteractive(key) {\n",
              "          const element = document.querySelector('#df-afe6b9d8-9b06-4c7f-8eb4-68572071f5c3');\n",
              "          const dataTable =\n",
              "            await google.colab.kernel.invokeFunction('convertToInteractive',\n",
              "                                                     [key], {});\n",
              "          if (!dataTable) return;\n",
              "\n",
              "          const docLinkHtml = 'Like what you see? Visit the ' +\n",
              "            '<a target=\"_blank\" href=https://colab.research.google.com/notebooks/data_table.ipynb>data table notebook</a>'\n",
              "            + ' to learn more about interactive tables.';\n",
              "          element.innerHTML = '';\n",
              "          dataTable['output_type'] = 'display_data';\n",
              "          await google.colab.output.renderOutput(dataTable, element);\n",
              "          const docLink = document.createElement('div');\n",
              "          docLink.innerHTML = docLinkHtml;\n",
              "          element.appendChild(docLink);\n",
              "        }\n",
              "      </script>\n",
              "    </div>\n",
              "  </div>\n",
              "  "
            ]
          },
          "metadata": {},
          "execution_count": 91
        }
      ]
    },
    {
      "cell_type": "code",
      "source": [
        "df_crops_final[df_crops_final.Month==\"January\"].Year.unique()# Checking unique year values "
      ],
      "metadata": {
        "colab": {
          "base_uri": "https://localhost:8080/"
        },
        "id": "S_1Tl8SSu6aT",
        "outputId": "53418fa7-f853-42da-b61f-6e1ad56b4ea5"
      },
      "execution_count": 92,
      "outputs": [
        {
          "output_type": "execute_result",
          "data": {
            "text/plain": [
              "array(['2011', '2012', '2013', '2014', '2015', '2016', '2017', '2018',\n",
              "       '2020', '2019', '2021', '2022'], dtype=object)"
            ]
          },
          "metadata": {},
          "execution_count": 92
        }
      ]
    },
    {
      "cell_type": "code",
      "source": [
        "len(df_crops_final) == len(pd_crops)* (12) # Checking wether the dataframe df_crops_final consists of espected number of rows"
      ],
      "metadata": {
        "id": "P3q5qamkvEqw",
        "colab": {
          "base_uri": "https://localhost:8080/"
        },
        "outputId": "4d0c4679-c463-46d4-b824-45cf250a81ba"
      },
      "execution_count": 93,
      "outputs": [
        {
          "output_type": "execute_result",
          "data": {
            "text/plain": [
              "True"
            ]
          },
          "metadata": {},
          "execution_count": 93
        }
      ]
    },
    {
      "cell_type": "code",
      "source": [
        "list_Months = df_crops_final.Month.unique().tolist() # Taking month values into list "
      ],
      "metadata": {
        "id": "kC5KgmlubSBn"
      },
      "execution_count": 94,
      "outputs": []
    },
    {
      "cell_type": "code",
      "execution_count": 95,
      "metadata": {
        "colab": {
          "base_uri": "https://localhost:8080/"
        },
        "id": "AnM16y_NF5gx",
        "outputId": "05d40b74-c342-4cd7-8d12-afda737e585c"
      },
      "outputs": [
        {
          "output_type": "stream",
          "name": "stdout",
          "text": [
            "+-------+------------------+------------------+------------------+------------------+------------------+------------------+------------------+------------------+-----------------+------------------+------------------+------------------+------------------+------------------+------------------+-------------------+--------------+\n",
            "|summary|         PARAMETER|              YEAR|               JAN|               FEB|               MAR|               APR|               MAY|               JUN|              JUL|               AUG|               SEP|               OCT|               NOV|               DEC|               ANN|                 ID|         STATE|\n",
            "+-------+------------------+------------------+------------------+------------------+------------------+------------------+------------------+------------------+-----------------+------------------+------------------+------------------+------------------+------------------+------------------+-------------------+--------------+\n",
            "|  count|              3480|              3480|              3480|              3480|              3480|              3480|              3480|              3480|             3480|              3480|              3480|              3480|              3480|              3480|              3480|               3480|          3480|\n",
            "|   mean|              null|            2015.5| 13.33112643678161|15.314011494252874|17.803040229885053|20.581022988505755|22.551681034482762|23.847933908045967|23.92917528735632|23.479810344827584| 21.87372701149425|18.328919540229887|14.915959770114945|13.345830459770108| 19.08519827586207|5.082378006016666E9|          null|\n",
            "| stddev|              null|2.8726940963290044|22.366096552976437|25.840865558193844|29.625492978431765|  32.4435055471335|33.608827320114436|31.976699552034816| 30.7040631855189| 30.25933425941779|28.910293121886653|26.168794813667827|  22.8388861532853|21.203964370611754|27.858534152241045|4.222777825444749E9|          null|\n",
            "|    min|ALLSKY_SFC_PAR_TOT|              2011|             -0.02|             -0.02|             -0.21|             -0.02|              -4.8|             -0.78|            -0.03|             -0.16|             -2.82|             -0.02|              -0.1|             -0.01|             -0.01|                 21|Andhra Pradesh|\n",
            "|    25%|              null|            2013.0|              0.47|              0.45|              0.46|               0.5|              0.54|              0.64|             0.78|              0.85|              0.85|              0.77|              0.62|              0.51|              0.65|                 50|          null|\n",
            "|    50%|              null|            2015.0|              3.17|              4.27|              5.09|               6.1|              7.53|             10.74|            13.46|             12.46|             10.11|               6.4|              4.46|              3.65|              6.37|         8589934602|          null|\n",
            "|    75%|              null|            2018.0|             16.54|             17.09|             18.87|             22.73|             25.06|             27.22|            26.07|             25.99|             25.22|             22.03|             17.92|             17.91|             20.83|         8589934632|          null|\n",
            "|    max|          WS2M_MIN|              2020|             99.23|             99.98|             99.69|             99.94|             99.93|             99.79|            99.52|              99.8|             99.95|             99.48|             97.28|             95.61|             99.98|         8589934662|   West Bengal|\n",
            "+-------+------------------+------------------+------------------+------------------+------------------+------------------+------------------+------------------+-----------------+------------------+------------------+------------------+------------------+------------------+------------------+-------------------+--------------+\n",
            "\n"
          ]
        }
      ],
      "source": [
        "df_weather.summary().show()"
      ]
    },
    {
      "cell_type": "code",
      "source": [
        "df_weather =df_weather.drop(col(\"ID\"))"
      ],
      "metadata": {
        "id": "lvH3DsCFeLUk"
      },
      "execution_count": 96,
      "outputs": []
    },
    {
      "cell_type": "code",
      "source": [
        "pd_weather = df_weather.toPandas()"
      ],
      "metadata": {
        "id": "VKKfQfSqiLXU"
      },
      "execution_count": 97,
      "outputs": []
    },
    {
      "cell_type": "code",
      "source": [
        "pd_weather.columns = [\"Parameter\",\"Year\"]+list_Months+[\"Ann\",\"State\"] # Modifying the header values with respect to crops dataframe "
      ],
      "metadata": {
        "id": "pBoPPGHhiKQP"
      },
      "execution_count": 98,
      "outputs": []
    },
    {
      "cell_type": "code",
      "source": [
        "list_parameters = pd_weather.Parameter.unique().tolist() # Taking unique parameters values into list\n",
        "list_Year = pd_weather.Year.unique().tolist() # Taking unique Years values into list\n",
        "list_State = pd_weather.State.unique().tolist() # Taking unique State column values into list"
      ],
      "metadata": {
        "id": "TaUe6MbqiJ59"
      },
      "execution_count": 99,
      "outputs": []
    },
    {
      "cell_type": "code",
      "source": [
        "list_parameters, \"No:of Parameters = {}\" .format(len(list_parameters)) # Checking the list of parameters"
      ],
      "metadata": {
        "colab": {
          "base_uri": "https://localhost:8080/"
        },
        "id": "s-7zigAKehJj",
        "outputId": "b0889478-c677-4139-a448-b506fa0717f3"
      },
      "execution_count": 100,
      "outputs": [
        {
          "output_type": "execute_result",
          "data": {
            "text/plain": [
              "(['QV2M',\n",
              "  'T2MDEW',\n",
              "  'GWETTOP',\n",
              "  'T2M_MAX',\n",
              "  'T2M_MIN',\n",
              "  'GWETPROF',\n",
              "  'GWETROOT',\n",
              "  'WS2M_MAX',\n",
              "  'WS2M_MIN',\n",
              "  'CLOUD_AMT',\n",
              "  'PRECTOTCORR',\n",
              "  'ALLSKY_SFC_PAR_TOT'],\n",
              " 'No:of Parameters = 12')"
            ]
          },
          "metadata": {},
          "execution_count": 100
        }
      ]
    },
    {
      "cell_type": "code",
      "source": [
        "list_Year, \"No:of Years = {}\" .format(len(list_Year)) # Checking the list of year values"
      ],
      "metadata": {
        "colab": {
          "base_uri": "https://localhost:8080/"
        },
        "id": "4RAeIRlGejmG",
        "outputId": "27111517-9385-4f01-8c3d-5cd9830a45f9"
      },
      "execution_count": 101,
      "outputs": [
        {
          "output_type": "execute_result",
          "data": {
            "text/plain": [
              "(['2011',\n",
              "  '2012',\n",
              "  '2013',\n",
              "  '2014',\n",
              "  '2015',\n",
              "  '2016',\n",
              "  '2017',\n",
              "  '2018',\n",
              "  '2019',\n",
              "  '2020'],\n",
              " 'No:of Years = 10')"
            ]
          },
          "metadata": {},
          "execution_count": 101
        }
      ]
    },
    {
      "cell_type": "code",
      "source": [
        "list_State, \"No:of States = {}\" .format(len(list_State)) # Checking the list of state values "
      ],
      "metadata": {
        "colab": {
          "base_uri": "https://localhost:8080/"
        },
        "id": "-eEOUlpYelo_",
        "outputId": "b5e70dfd-a8f6-444b-9926-bcab78d658cd"
      },
      "execution_count": 102,
      "outputs": [
        {
          "output_type": "execute_result",
          "data": {
            "text/plain": [
              "(['Andhra Pradesh',\n",
              "  'Maharashtra',\n",
              "  'Madhya Pradesh',\n",
              "  'Kerala',\n",
              "  'Jharkhand',\n",
              "  'Arunachal Pradesh',\n",
              "  'Gujarat',\n",
              "  'West Bengal',\n",
              "  'Haryana',\n",
              "  'Assam',\n",
              "  'Goa',\n",
              "  'Chhattisgarh',\n",
              "  'Himachal Pradesh',\n",
              "  'Jhammu & Kashmir',\n",
              "  'Karnataka',\n",
              "  'Bihar',\n",
              "  'Manipur',\n",
              "  'Meghalaya',\n",
              "  'Mizoram',\n",
              "  'Nagaland',\n",
              "  'Odisha',\n",
              "  'Punjab',\n",
              "  'Rajasthan',\n",
              "  'Sikkim',\n",
              "  'Tamil Nadu',\n",
              "  'Telangana',\n",
              "  'Tripura',\n",
              "  'Uttar Pradesh',\n",
              "  'Uttarakhand'],\n",
              " 'No:of States = 29')"
            ]
          },
          "metadata": {},
          "execution_count": 102
        }
      ]
    },
    {
      "cell_type": "code",
      "source": [
        "year_Value = 0\n",
        "parameter_Value = 0\n",
        "for i in list_State: # for each State\n",
        "  df_samp1 = pd_weather[pd_weather.State == i] # Dataframe with a unique state value\n",
        "  if df_samp1.Year.unique().tolist() == list_Year: # If it contains all the years \n",
        "    year_Value =year_Value+1 # Increament year_Value by 1\n",
        "\n",
        "    if df_samp1.Parameter.unique().tolist() == list_parameters: # If dataframe contains all the unique parameters \n",
        "      parameter_Value = parameter_Value+1 # Increament parameter_Value by 1\n",
        "\n",
        "\n",
        "if (((year_Value) == len(list_State)) and ((parameter_Value) ==len(list_State))): # If All the individual dataframe contains year values from 2011 to 2020 and all 29 states print True\n",
        "  print (True)\n",
        "\n",
        "\n"
      ],
      "metadata": {
        "colab": {
          "base_uri": "https://localhost:8080/"
        },
        "id": "-Z_vxO49elfM",
        "outputId": "7564a219-5cee-4a4b-ab3b-2daa49e176e2"
      },
      "execution_count": 103,
      "outputs": [
        {
          "output_type": "stream",
          "name": "stdout",
          "text": [
            "True\n"
          ]
        }
      ]
    },
    {
      "cell_type": "code",
      "source": [
        "df_weather_final = pd.DataFrame(pd.np.empty((0, 15)))     # Creading a empty dataframe with 15 columns"
      ],
      "metadata": {
        "colab": {
          "base_uri": "https://localhost:8080/"
        },
        "id": "snFUu17DelW3",
        "outputId": "881cc9ac-a239-4580-a983-a4bee317ae03"
      },
      "execution_count": 104,
      "outputs": [
        {
          "output_type": "stream",
          "name": "stderr",
          "text": [
            "/usr/local/lib/python3.7/dist-packages/ipykernel_launcher.py:1: FutureWarning: The pandas.np module is deprecated and will be removed from pandas in a future version. Import numpy directly instead\n",
            "  \"\"\"Entry point for launching an IPython kernel.\n"
          ]
        }
      ]
    },
    {
      "cell_type": "code",
      "source": [
        "pd_weather.sort_values(by =[\"State\",\"Year\",\"Parameter\"]) # Soting the dataframe based on \"State\", \"Year\" and \"Parameter\" values respectively"
      ],
      "metadata": {
        "colab": {
          "base_uri": "https://localhost:8080/",
          "height": 661
        },
        "id": "gYMO4nSdelOp",
        "outputId": "46c2e220-b3d8-4c0b-9e4a-8a81e58d15a6"
      },
      "execution_count": 105,
      "outputs": [
        {
          "output_type": "execute_result",
          "data": {
            "text/plain": [
              "              Parameter  Year January February   March   April     May  \\\n",
              "110  ALLSKY_SFC_PAR_TOT  2011   93.48    99.05  121.91  123.12  120.71   \n",
              "90            CLOUD_AMT  2011   29.55    36.66    23.9   37.52   49.23   \n",
              "50             GWETPROF  2011    0.68     0.59    0.54    0.52    0.52   \n",
              "60             GWETROOT  2011    0.69     0.59    0.54    0.52    0.52   \n",
              "20              GWETTOP  2011    0.68     0.55    0.34    0.28    0.32   \n",
              "..                  ...   ...     ...      ...     ...     ...     ...   \n",
              "859              T2MDEW  2020   11.27    11.17    15.8   18.55   23.33   \n",
              "879             T2M_MAX  2020   26.44    30.43   37.95   41.52   40.58   \n",
              "889             T2M_MIN  2020    6.02        8   15.55    19.3   23.51   \n",
              "919            WS2M_MAX  2020    3.67     3.63    5.04    4.12   11.84   \n",
              "929            WS2M_MIN  2020    0.06     0.09    0.02     0.1    0.18   \n",
              "\n",
              "       June   July August September October November December     Ann  \\\n",
              "110  108.98  96.83  94.05    101.48   87.77    86.81     76.8  100.89   \n",
              "90    83.91  85.12  89.55     74.22    58.2    39.62     49.7   54.87   \n",
              "50     0.53   0.55   0.59      0.61    0.59     0.65     0.58    0.58   \n",
              "60     0.53   0.55    0.6      0.62    0.59     0.66     0.58    0.59   \n",
              "20     0.41   0.52    0.6      0.59    0.59     0.64     0.54    0.51   \n",
              "..      ...    ...    ...       ...     ...      ...      ...     ...   \n",
              "859   26.21  26.44  26.72     26.22   24.53    17.63    12.46   20.05   \n",
              "879   34.23   33.4   33.4     32.99   32.75    30.08     26.4   41.52   \n",
              "889   25.69  24.67  25.23     24.08   17.67    10.89      6.3    6.02   \n",
              "919     5.2   5.02   6.79      5.37    3.74     3.33     3.31   11.84   \n",
              "929    0.18   0.55   0.19      0.05    0.07     0.19     0.07    0.02   \n",
              "\n",
              "              State  \n",
              "110  Andhra Pradesh  \n",
              "90   Andhra Pradesh  \n",
              "50   Andhra Pradesh  \n",
              "60   Andhra Pradesh  \n",
              "20   Andhra Pradesh  \n",
              "..              ...  \n",
              "859     West Bengal  \n",
              "879     West Bengal  \n",
              "889     West Bengal  \n",
              "919     West Bengal  \n",
              "929     West Bengal  \n",
              "\n",
              "[3480 rows x 16 columns]"
            ],
            "text/html": [
              "\n",
              "  <div id=\"df-483e2749-c74f-4086-a82a-a122e939b00a\">\n",
              "    <div class=\"colab-df-container\">\n",
              "      <div>\n",
              "<style scoped>\n",
              "    .dataframe tbody tr th:only-of-type {\n",
              "        vertical-align: middle;\n",
              "    }\n",
              "\n",
              "    .dataframe tbody tr th {\n",
              "        vertical-align: top;\n",
              "    }\n",
              "\n",
              "    .dataframe thead th {\n",
              "        text-align: right;\n",
              "    }\n",
              "</style>\n",
              "<table border=\"1\" class=\"dataframe\">\n",
              "  <thead>\n",
              "    <tr style=\"text-align: right;\">\n",
              "      <th></th>\n",
              "      <th>Parameter</th>\n",
              "      <th>Year</th>\n",
              "      <th>January</th>\n",
              "      <th>February</th>\n",
              "      <th>March</th>\n",
              "      <th>April</th>\n",
              "      <th>May</th>\n",
              "      <th>June</th>\n",
              "      <th>July</th>\n",
              "      <th>August</th>\n",
              "      <th>September</th>\n",
              "      <th>October</th>\n",
              "      <th>November</th>\n",
              "      <th>December</th>\n",
              "      <th>Ann</th>\n",
              "      <th>State</th>\n",
              "    </tr>\n",
              "  </thead>\n",
              "  <tbody>\n",
              "    <tr>\n",
              "      <th>110</th>\n",
              "      <td>ALLSKY_SFC_PAR_TOT</td>\n",
              "      <td>2011</td>\n",
              "      <td>93.48</td>\n",
              "      <td>99.05</td>\n",
              "      <td>121.91</td>\n",
              "      <td>123.12</td>\n",
              "      <td>120.71</td>\n",
              "      <td>108.98</td>\n",
              "      <td>96.83</td>\n",
              "      <td>94.05</td>\n",
              "      <td>101.48</td>\n",
              "      <td>87.77</td>\n",
              "      <td>86.81</td>\n",
              "      <td>76.8</td>\n",
              "      <td>100.89</td>\n",
              "      <td>Andhra Pradesh</td>\n",
              "    </tr>\n",
              "    <tr>\n",
              "      <th>90</th>\n",
              "      <td>CLOUD_AMT</td>\n",
              "      <td>2011</td>\n",
              "      <td>29.55</td>\n",
              "      <td>36.66</td>\n",
              "      <td>23.9</td>\n",
              "      <td>37.52</td>\n",
              "      <td>49.23</td>\n",
              "      <td>83.91</td>\n",
              "      <td>85.12</td>\n",
              "      <td>89.55</td>\n",
              "      <td>74.22</td>\n",
              "      <td>58.2</td>\n",
              "      <td>39.62</td>\n",
              "      <td>49.7</td>\n",
              "      <td>54.87</td>\n",
              "      <td>Andhra Pradesh</td>\n",
              "    </tr>\n",
              "    <tr>\n",
              "      <th>50</th>\n",
              "      <td>GWETPROF</td>\n",
              "      <td>2011</td>\n",
              "      <td>0.68</td>\n",
              "      <td>0.59</td>\n",
              "      <td>0.54</td>\n",
              "      <td>0.52</td>\n",
              "      <td>0.52</td>\n",
              "      <td>0.53</td>\n",
              "      <td>0.55</td>\n",
              "      <td>0.59</td>\n",
              "      <td>0.61</td>\n",
              "      <td>0.59</td>\n",
              "      <td>0.65</td>\n",
              "      <td>0.58</td>\n",
              "      <td>0.58</td>\n",
              "      <td>Andhra Pradesh</td>\n",
              "    </tr>\n",
              "    <tr>\n",
              "      <th>60</th>\n",
              "      <td>GWETROOT</td>\n",
              "      <td>2011</td>\n",
              "      <td>0.69</td>\n",
              "      <td>0.59</td>\n",
              "      <td>0.54</td>\n",
              "      <td>0.52</td>\n",
              "      <td>0.52</td>\n",
              "      <td>0.53</td>\n",
              "      <td>0.55</td>\n",
              "      <td>0.6</td>\n",
              "      <td>0.62</td>\n",
              "      <td>0.59</td>\n",
              "      <td>0.66</td>\n",
              "      <td>0.58</td>\n",
              "      <td>0.59</td>\n",
              "      <td>Andhra Pradesh</td>\n",
              "    </tr>\n",
              "    <tr>\n",
              "      <th>20</th>\n",
              "      <td>GWETTOP</td>\n",
              "      <td>2011</td>\n",
              "      <td>0.68</td>\n",
              "      <td>0.55</td>\n",
              "      <td>0.34</td>\n",
              "      <td>0.28</td>\n",
              "      <td>0.32</td>\n",
              "      <td>0.41</td>\n",
              "      <td>0.52</td>\n",
              "      <td>0.6</td>\n",
              "      <td>0.59</td>\n",
              "      <td>0.59</td>\n",
              "      <td>0.64</td>\n",
              "      <td>0.54</td>\n",
              "      <td>0.51</td>\n",
              "      <td>Andhra Pradesh</td>\n",
              "    </tr>\n",
              "    <tr>\n",
              "      <th>...</th>\n",
              "      <td>...</td>\n",
              "      <td>...</td>\n",
              "      <td>...</td>\n",
              "      <td>...</td>\n",
              "      <td>...</td>\n",
              "      <td>...</td>\n",
              "      <td>...</td>\n",
              "      <td>...</td>\n",
              "      <td>...</td>\n",
              "      <td>...</td>\n",
              "      <td>...</td>\n",
              "      <td>...</td>\n",
              "      <td>...</td>\n",
              "      <td>...</td>\n",
              "      <td>...</td>\n",
              "      <td>...</td>\n",
              "    </tr>\n",
              "    <tr>\n",
              "      <th>859</th>\n",
              "      <td>T2MDEW</td>\n",
              "      <td>2020</td>\n",
              "      <td>11.27</td>\n",
              "      <td>11.17</td>\n",
              "      <td>15.8</td>\n",
              "      <td>18.55</td>\n",
              "      <td>23.33</td>\n",
              "      <td>26.21</td>\n",
              "      <td>26.44</td>\n",
              "      <td>26.72</td>\n",
              "      <td>26.22</td>\n",
              "      <td>24.53</td>\n",
              "      <td>17.63</td>\n",
              "      <td>12.46</td>\n",
              "      <td>20.05</td>\n",
              "      <td>West Bengal</td>\n",
              "    </tr>\n",
              "    <tr>\n",
              "      <th>879</th>\n",
              "      <td>T2M_MAX</td>\n",
              "      <td>2020</td>\n",
              "      <td>26.44</td>\n",
              "      <td>30.43</td>\n",
              "      <td>37.95</td>\n",
              "      <td>41.52</td>\n",
              "      <td>40.58</td>\n",
              "      <td>34.23</td>\n",
              "      <td>33.4</td>\n",
              "      <td>33.4</td>\n",
              "      <td>32.99</td>\n",
              "      <td>32.75</td>\n",
              "      <td>30.08</td>\n",
              "      <td>26.4</td>\n",
              "      <td>41.52</td>\n",
              "      <td>West Bengal</td>\n",
              "    </tr>\n",
              "    <tr>\n",
              "      <th>889</th>\n",
              "      <td>T2M_MIN</td>\n",
              "      <td>2020</td>\n",
              "      <td>6.02</td>\n",
              "      <td>8</td>\n",
              "      <td>15.55</td>\n",
              "      <td>19.3</td>\n",
              "      <td>23.51</td>\n",
              "      <td>25.69</td>\n",
              "      <td>24.67</td>\n",
              "      <td>25.23</td>\n",
              "      <td>24.08</td>\n",
              "      <td>17.67</td>\n",
              "      <td>10.89</td>\n",
              "      <td>6.3</td>\n",
              "      <td>6.02</td>\n",
              "      <td>West Bengal</td>\n",
              "    </tr>\n",
              "    <tr>\n",
              "      <th>919</th>\n",
              "      <td>WS2M_MAX</td>\n",
              "      <td>2020</td>\n",
              "      <td>3.67</td>\n",
              "      <td>3.63</td>\n",
              "      <td>5.04</td>\n",
              "      <td>4.12</td>\n",
              "      <td>11.84</td>\n",
              "      <td>5.2</td>\n",
              "      <td>5.02</td>\n",
              "      <td>6.79</td>\n",
              "      <td>5.37</td>\n",
              "      <td>3.74</td>\n",
              "      <td>3.33</td>\n",
              "      <td>3.31</td>\n",
              "      <td>11.84</td>\n",
              "      <td>West Bengal</td>\n",
              "    </tr>\n",
              "    <tr>\n",
              "      <th>929</th>\n",
              "      <td>WS2M_MIN</td>\n",
              "      <td>2020</td>\n",
              "      <td>0.06</td>\n",
              "      <td>0.09</td>\n",
              "      <td>0.02</td>\n",
              "      <td>0.1</td>\n",
              "      <td>0.18</td>\n",
              "      <td>0.18</td>\n",
              "      <td>0.55</td>\n",
              "      <td>0.19</td>\n",
              "      <td>0.05</td>\n",
              "      <td>0.07</td>\n",
              "      <td>0.19</td>\n",
              "      <td>0.07</td>\n",
              "      <td>0.02</td>\n",
              "      <td>West Bengal</td>\n",
              "    </tr>\n",
              "  </tbody>\n",
              "</table>\n",
              "<p>3480 rows × 16 columns</p>\n",
              "</div>\n",
              "      <button class=\"colab-df-convert\" onclick=\"convertToInteractive('df-483e2749-c74f-4086-a82a-a122e939b00a')\"\n",
              "              title=\"Convert this dataframe to an interactive table.\"\n",
              "              style=\"display:none;\">\n",
              "        \n",
              "  <svg xmlns=\"http://www.w3.org/2000/svg\" height=\"24px\"viewBox=\"0 0 24 24\"\n",
              "       width=\"24px\">\n",
              "    <path d=\"M0 0h24v24H0V0z\" fill=\"none\"/>\n",
              "    <path d=\"M18.56 5.44l.94 2.06.94-2.06 2.06-.94-2.06-.94-.94-2.06-.94 2.06-2.06.94zm-11 1L8.5 8.5l.94-2.06 2.06-.94-2.06-.94L8.5 2.5l-.94 2.06-2.06.94zm10 10l.94 2.06.94-2.06 2.06-.94-2.06-.94-.94-2.06-.94 2.06-2.06.94z\"/><path d=\"M17.41 7.96l-1.37-1.37c-.4-.4-.92-.59-1.43-.59-.52 0-1.04.2-1.43.59L10.3 9.45l-7.72 7.72c-.78.78-.78 2.05 0 2.83L4 21.41c.39.39.9.59 1.41.59.51 0 1.02-.2 1.41-.59l7.78-7.78 2.81-2.81c.8-.78.8-2.07 0-2.86zM5.41 20L4 18.59l7.72-7.72 1.47 1.35L5.41 20z\"/>\n",
              "  </svg>\n",
              "      </button>\n",
              "      \n",
              "  <style>\n",
              "    .colab-df-container {\n",
              "      display:flex;\n",
              "      flex-wrap:wrap;\n",
              "      gap: 12px;\n",
              "    }\n",
              "\n",
              "    .colab-df-convert {\n",
              "      background-color: #E8F0FE;\n",
              "      border: none;\n",
              "      border-radius: 50%;\n",
              "      cursor: pointer;\n",
              "      display: none;\n",
              "      fill: #1967D2;\n",
              "      height: 32px;\n",
              "      padding: 0 0 0 0;\n",
              "      width: 32px;\n",
              "    }\n",
              "\n",
              "    .colab-df-convert:hover {\n",
              "      background-color: #E2EBFA;\n",
              "      box-shadow: 0px 1px 2px rgba(60, 64, 67, 0.3), 0px 1px 3px 1px rgba(60, 64, 67, 0.15);\n",
              "      fill: #174EA6;\n",
              "    }\n",
              "\n",
              "    [theme=dark] .colab-df-convert {\n",
              "      background-color: #3B4455;\n",
              "      fill: #D2E3FC;\n",
              "    }\n",
              "\n",
              "    [theme=dark] .colab-df-convert:hover {\n",
              "      background-color: #434B5C;\n",
              "      box-shadow: 0px 1px 3px 1px rgba(0, 0, 0, 0.15);\n",
              "      filter: drop-shadow(0px 1px 2px rgba(0, 0, 0, 0.3));\n",
              "      fill: #FFFFFF;\n",
              "    }\n",
              "  </style>\n",
              "\n",
              "      <script>\n",
              "        const buttonEl =\n",
              "          document.querySelector('#df-483e2749-c74f-4086-a82a-a122e939b00a button.colab-df-convert');\n",
              "        buttonEl.style.display =\n",
              "          google.colab.kernel.accessAllowed ? 'block' : 'none';\n",
              "\n",
              "        async function convertToInteractive(key) {\n",
              "          const element = document.querySelector('#df-483e2749-c74f-4086-a82a-a122e939b00a');\n",
              "          const dataTable =\n",
              "            await google.colab.kernel.invokeFunction('convertToInteractive',\n",
              "                                                     [key], {});\n",
              "          if (!dataTable) return;\n",
              "\n",
              "          const docLinkHtml = 'Like what you see? Visit the ' +\n",
              "            '<a target=\"_blank\" href=https://colab.research.google.com/notebooks/data_table.ipynb>data table notebook</a>'\n",
              "            + ' to learn more about interactive tables.';\n",
              "          element.innerHTML = '';\n",
              "          dataTable['output_type'] = 'display_data';\n",
              "          await google.colab.output.renderOutput(dataTable, element);\n",
              "          const docLink = document.createElement('div');\n",
              "          docLink.innerHTML = docLinkHtml;\n",
              "          element.appendChild(docLink);\n",
              "        }\n",
              "      </script>\n",
              "    </div>\n",
              "  </div>\n",
              "  "
            ]
          },
          "metadata": {},
          "execution_count": 105
        }
      ]
    },
    {
      "cell_type": "code",
      "source": [
        "head_list_weather = [\"Year\",\"Month\"]+sorted(list_parameters)+[\"State\"] # List for column headers "
      ],
      "metadata": {
        "id": "7S2vQptlek1K"
      },
      "execution_count": 106,
      "outputs": []
    },
    {
      "cell_type": "code",
      "source": [
        "df_weather_final.columns = head_list_weather # Assigning head_list_weater values to header \n",
        "df_weather_final"
      ],
      "metadata": {
        "colab": {
          "base_uri": "https://localhost:8080/",
          "height": 113
        },
        "id": "qxHJKbYJekaa",
        "outputId": "57f74bc5-c2fb-48e1-c05b-afa6804232bc"
      },
      "execution_count": 107,
      "outputs": [
        {
          "output_type": "execute_result",
          "data": {
            "text/plain": [
              "Empty DataFrame\n",
              "Columns: [Year, Month, ALLSKY_SFC_PAR_TOT, CLOUD_AMT, GWETPROF, GWETROOT, GWETTOP, PRECTOTCORR, QV2M, T2MDEW, T2M_MAX, T2M_MIN, WS2M_MAX, WS2M_MIN, State]\n",
              "Index: []"
            ],
            "text/html": [
              "\n",
              "  <div id=\"df-dbc12975-e3d3-46cf-81b8-f01a5c929103\">\n",
              "    <div class=\"colab-df-container\">\n",
              "      <div>\n",
              "<style scoped>\n",
              "    .dataframe tbody tr th:only-of-type {\n",
              "        vertical-align: middle;\n",
              "    }\n",
              "\n",
              "    .dataframe tbody tr th {\n",
              "        vertical-align: top;\n",
              "    }\n",
              "\n",
              "    .dataframe thead th {\n",
              "        text-align: right;\n",
              "    }\n",
              "</style>\n",
              "<table border=\"1\" class=\"dataframe\">\n",
              "  <thead>\n",
              "    <tr style=\"text-align: right;\">\n",
              "      <th></th>\n",
              "      <th>Year</th>\n",
              "      <th>Month</th>\n",
              "      <th>ALLSKY_SFC_PAR_TOT</th>\n",
              "      <th>CLOUD_AMT</th>\n",
              "      <th>GWETPROF</th>\n",
              "      <th>GWETROOT</th>\n",
              "      <th>GWETTOP</th>\n",
              "      <th>PRECTOTCORR</th>\n",
              "      <th>QV2M</th>\n",
              "      <th>T2MDEW</th>\n",
              "      <th>T2M_MAX</th>\n",
              "      <th>T2M_MIN</th>\n",
              "      <th>WS2M_MAX</th>\n",
              "      <th>WS2M_MIN</th>\n",
              "      <th>State</th>\n",
              "    </tr>\n",
              "  </thead>\n",
              "  <tbody>\n",
              "  </tbody>\n",
              "</table>\n",
              "</div>\n",
              "      <button class=\"colab-df-convert\" onclick=\"convertToInteractive('df-dbc12975-e3d3-46cf-81b8-f01a5c929103')\"\n",
              "              title=\"Convert this dataframe to an interactive table.\"\n",
              "              style=\"display:none;\">\n",
              "        \n",
              "  <svg xmlns=\"http://www.w3.org/2000/svg\" height=\"24px\"viewBox=\"0 0 24 24\"\n",
              "       width=\"24px\">\n",
              "    <path d=\"M0 0h24v24H0V0z\" fill=\"none\"/>\n",
              "    <path d=\"M18.56 5.44l.94 2.06.94-2.06 2.06-.94-2.06-.94-.94-2.06-.94 2.06-2.06.94zm-11 1L8.5 8.5l.94-2.06 2.06-.94-2.06-.94L8.5 2.5l-.94 2.06-2.06.94zm10 10l.94 2.06.94-2.06 2.06-.94-2.06-.94-.94-2.06-.94 2.06-2.06.94z\"/><path d=\"M17.41 7.96l-1.37-1.37c-.4-.4-.92-.59-1.43-.59-.52 0-1.04.2-1.43.59L10.3 9.45l-7.72 7.72c-.78.78-.78 2.05 0 2.83L4 21.41c.39.39.9.59 1.41.59.51 0 1.02-.2 1.41-.59l7.78-7.78 2.81-2.81c.8-.78.8-2.07 0-2.86zM5.41 20L4 18.59l7.72-7.72 1.47 1.35L5.41 20z\"/>\n",
              "  </svg>\n",
              "      </button>\n",
              "      \n",
              "  <style>\n",
              "    .colab-df-container {\n",
              "      display:flex;\n",
              "      flex-wrap:wrap;\n",
              "      gap: 12px;\n",
              "    }\n",
              "\n",
              "    .colab-df-convert {\n",
              "      background-color: #E8F0FE;\n",
              "      border: none;\n",
              "      border-radius: 50%;\n",
              "      cursor: pointer;\n",
              "      display: none;\n",
              "      fill: #1967D2;\n",
              "      height: 32px;\n",
              "      padding: 0 0 0 0;\n",
              "      width: 32px;\n",
              "    }\n",
              "\n",
              "    .colab-df-convert:hover {\n",
              "      background-color: #E2EBFA;\n",
              "      box-shadow: 0px 1px 2px rgba(60, 64, 67, 0.3), 0px 1px 3px 1px rgba(60, 64, 67, 0.15);\n",
              "      fill: #174EA6;\n",
              "    }\n",
              "\n",
              "    [theme=dark] .colab-df-convert {\n",
              "      background-color: #3B4455;\n",
              "      fill: #D2E3FC;\n",
              "    }\n",
              "\n",
              "    [theme=dark] .colab-df-convert:hover {\n",
              "      background-color: #434B5C;\n",
              "      box-shadow: 0px 1px 3px 1px rgba(0, 0, 0, 0.15);\n",
              "      filter: drop-shadow(0px 1px 2px rgba(0, 0, 0, 0.3));\n",
              "      fill: #FFFFFF;\n",
              "    }\n",
              "  </style>\n",
              "\n",
              "      <script>\n",
              "        const buttonEl =\n",
              "          document.querySelector('#df-dbc12975-e3d3-46cf-81b8-f01a5c929103 button.colab-df-convert');\n",
              "        buttonEl.style.display =\n",
              "          google.colab.kernel.accessAllowed ? 'block' : 'none';\n",
              "\n",
              "        async function convertToInteractive(key) {\n",
              "          const element = document.querySelector('#df-dbc12975-e3d3-46cf-81b8-f01a5c929103');\n",
              "          const dataTable =\n",
              "            await google.colab.kernel.invokeFunction('convertToInteractive',\n",
              "                                                     [key], {});\n",
              "          if (!dataTable) return;\n",
              "\n",
              "          const docLinkHtml = 'Like what you see? Visit the ' +\n",
              "            '<a target=\"_blank\" href=https://colab.research.google.com/notebooks/data_table.ipynb>data table notebook</a>'\n",
              "            + ' to learn more about interactive tables.';\n",
              "          element.innerHTML = '';\n",
              "          dataTable['output_type'] = 'display_data';\n",
              "          await google.colab.output.renderOutput(dataTable, element);\n",
              "          const docLink = document.createElement('div');\n",
              "          docLink.innerHTML = docLinkHtml;\n",
              "          element.appendChild(docLink);\n",
              "        }\n",
              "      </script>\n",
              "    </div>\n",
              "  </div>\n",
              "  "
            ]
          },
          "metadata": {},
          "execution_count": 107
        }
      ]
    },
    {
      "cell_type": "code",
      "source": [
        "len(list_State) # No:of states"
      ],
      "metadata": {
        "colab": {
          "base_uri": "https://localhost:8080/"
        },
        "id": "PR07737oa3Zj",
        "outputId": "349b83be-1f0a-463f-f807-1dd82841f861"
      },
      "execution_count": 108,
      "outputs": [
        {
          "output_type": "execute_result",
          "data": {
            "text/plain": [
              "29"
            ]
          },
          "metadata": {},
          "execution_count": 108
        }
      ]
    },
    {
      "cell_type": "code",
      "source": [
        "len(list_Year) # No:of years "
      ],
      "metadata": {
        "colab": {
          "base_uri": "https://localhost:8080/"
        },
        "id": "Xa8Y7H_neHB0",
        "outputId": "ce43c4ef-fb6f-4aec-f745-c6f001ee91c0"
      },
      "execution_count": 109,
      "outputs": [
        {
          "output_type": "execute_result",
          "data": {
            "text/plain": [
              "10"
            ]
          },
          "metadata": {},
          "execution_count": 109
        }
      ]
    },
    {
      "cell_type": "code",
      "source": [
        "len(list_Months) # No:of months "
      ],
      "metadata": {
        "colab": {
          "base_uri": "https://localhost:8080/"
        },
        "id": "yBWrzHs3eSj_",
        "outputId": "983850d8-e6d4-4155-a997-175fd2e2b13c"
      },
      "execution_count": 110,
      "outputs": [
        {
          "output_type": "execute_result",
          "data": {
            "text/plain": [
              "12"
            ]
          },
          "metadata": {},
          "execution_count": 110
        }
      ]
    },
    {
      "cell_type": "code",
      "source": [
        "list_State"
      ],
      "metadata": {
        "colab": {
          "base_uri": "https://localhost:8080/"
        },
        "id": "nYoWyLgzeaIK",
        "outputId": "e17a9f25-9fb3-46e3-a487-902a599320bd"
      },
      "execution_count": 111,
      "outputs": [
        {
          "output_type": "execute_result",
          "data": {
            "text/plain": [
              "['Andhra Pradesh',\n",
              " 'Maharashtra',\n",
              " 'Madhya Pradesh',\n",
              " 'Kerala',\n",
              " 'Jharkhand',\n",
              " 'Arunachal Pradesh',\n",
              " 'Gujarat',\n",
              " 'West Bengal',\n",
              " 'Haryana',\n",
              " 'Assam',\n",
              " 'Goa',\n",
              " 'Chhattisgarh',\n",
              " 'Himachal Pradesh',\n",
              " 'Jhammu & Kashmir',\n",
              " 'Karnataka',\n",
              " 'Bihar',\n",
              " 'Manipur',\n",
              " 'Meghalaya',\n",
              " 'Mizoram',\n",
              " 'Nagaland',\n",
              " 'Odisha',\n",
              " 'Punjab',\n",
              " 'Rajasthan',\n",
              " 'Sikkim',\n",
              " 'Tamil Nadu',\n",
              " 'Telangana',\n",
              " 'Tripura',\n",
              " 'Uttar Pradesh',\n",
              " 'Uttarakhand']"
            ]
          },
          "metadata": {},
          "execution_count": 111
        }
      ]
    },
    {
      "cell_type": "code",
      "source": [
        "list_State1 = sorted(list_State*120) # New list of states so that the no:of rows for a pirticular state is equal to (no:of years * no:of months) = 12*10"
      ],
      "metadata": {
        "id": "Pv5LOHX9ee5B"
      },
      "execution_count": 112,
      "outputs": []
    },
    {
      "cell_type": "code",
      "source": [
        "df_weather_final[\"State\"] = list_State1 # list_State1 values into \"State\" column values "
      ],
      "metadata": {
        "id": "a2edPUcoeoNl"
      },
      "execution_count": 113,
      "outputs": []
    },
    {
      "cell_type": "code",
      "source": [
        "len(df_weather_final.State.unique().tolist()) # Checking unnique state values in new dataframe"
      ],
      "metadata": {
        "colab": {
          "base_uri": "https://localhost:8080/"
        },
        "id": "UOrM52Dzf1VX",
        "outputId": "fef07cca-558f-42c1-8977-547360223ae2"
      },
      "execution_count": 114,
      "outputs": [
        {
          "output_type": "execute_result",
          "data": {
            "text/plain": [
              "29"
            ]
          },
          "metadata": {},
          "execution_count": 114
        }
      ]
    },
    {
      "cell_type": "code",
      "source": [
        "#df_weather_final[\"Year\"] = df_weather_final[\"Year\"].astype(str).astype(int)"
      ],
      "metadata": {
        "id": "L61gEUPoiLgo"
      },
      "execution_count": 115,
      "outputs": []
    },
    {
      "cell_type": "code",
      "source": [
        "list_Year1 = sorted(list_Year*12)*29 # New list of years so that the no:of rows for a pirticular year is equal to (no:of moonths * no:of states) = 12*29"
      ],
      "metadata": {
        "id": "Ezf67kUEf9Bl"
      },
      "execution_count": 116,
      "outputs": []
    },
    {
      "cell_type": "code",
      "source": [
        "df_weather_final[\"Year\"] = list_Year1 # list_Year1 values into \"Year\" column values"
      ],
      "metadata": {
        "id": "QBheGRDZgVAG"
      },
      "execution_count": 117,
      "outputs": []
    },
    {
      "cell_type": "code",
      "source": [
        "list_Months1 = list_Months*10*29  # New list of months so that the no:of rows for a pirticular month is equal to (no:of years * no:of states) = 10*29"
      ],
      "metadata": {
        "id": "9ZXGjjZuhP1X"
      },
      "execution_count": 118,
      "outputs": []
    },
    {
      "cell_type": "code",
      "source": [
        "df_weather_final[\"Month\"] = list_Months1 # list_Month1 values into \"Month\" column "
      ],
      "metadata": {
        "id": "WBT2sklViVCr"
      },
      "execution_count": 119,
      "outputs": []
    },
    {
      "cell_type": "code",
      "source": [
        "len(df_weather_final) # No:of rows in original weather dataframe "
      ],
      "metadata": {
        "colab": {
          "base_uri": "https://localhost:8080/"
        },
        "id": "MYhldD_0kaZk",
        "outputId": "1ca2452b-2030-444a-a764-77d57d6b56b4"
      },
      "execution_count": 120,
      "outputs": [
        {
          "output_type": "execute_result",
          "data": {
            "text/plain": [
              "3480"
            ]
          },
          "metadata": {},
          "execution_count": 120
        }
      ]
    },
    {
      "cell_type": "code",
      "source": [
        "df_weather # Viewing original weather dataframe"
      ],
      "metadata": {
        "colab": {
          "base_uri": "https://localhost:8080/"
        },
        "id": "7jrJeHsmkd-1",
        "outputId": "b3332508-0242-4352-dd69-d5b1a89a9870"
      },
      "execution_count": 121,
      "outputs": [
        {
          "output_type": "execute_result",
          "data": {
            "text/plain": [
              "DataFrame[PARAMETER: string, YEAR: string, JAN: string, FEB: string, MAR: string, APR: string, MAY: string, JUN: string, JUL: string, AUG: string, SEP: string, OCT: string, NOV: string, DEC: string, ANN: string, STATE: string]"
            ]
          },
          "metadata": {},
          "execution_count": 121
        }
      ]
    },
    {
      "cell_type": "code",
      "source": [
        "len(list_parameters) # No:of parameters"
      ],
      "metadata": {
        "colab": {
          "base_uri": "https://localhost:8080/"
        },
        "id": "J3kEWYxZkgYQ",
        "outputId": "3d117a15-0fd2-4905-e4a8-20a335de4a04"
      },
      "execution_count": 122,
      "outputs": [
        {
          "output_type": "execute_result",
          "data": {
            "text/plain": [
              "12"
            ]
          },
          "metadata": {},
          "execution_count": 122
        }
      ]
    },
    {
      "cell_type": "code",
      "source": [
        "df_weather1  = pd_weather.sort_values(by =[\"State\",\"Year\",\"Parameter\"]) #  # Soting the dataframe based on \"State\", \"Year\" and \"Parameter\" values respectively"
      ],
      "metadata": {
        "id": "cOf-b2tdkrSc"
      },
      "execution_count": 123,
      "outputs": []
    },
    {
      "cell_type": "code",
      "source": [
        "len(df_weather1) # Length of new dataframe"
      ],
      "metadata": {
        "colab": {
          "base_uri": "https://localhost:8080/"
        },
        "id": "lw7NZeOFk2og",
        "outputId": "e33a7e0d-251e-4a59-ba8b-ad2735256b0e"
      },
      "execution_count": 124,
      "outputs": [
        {
          "output_type": "execute_result",
          "data": {
            "text/plain": [
              "3480"
            ]
          },
          "metadata": {},
          "execution_count": 124
        }
      ]
    },
    {
      "cell_type": "code",
      "source": [
        "df_weather_final # New dataframe "
      ],
      "metadata": {
        "colab": {
          "base_uri": "https://localhost:8080/",
          "height": 661
        },
        "id": "NWPvfzMok34X",
        "outputId": "9ef95367-636a-4907-8f2a-bf3ad55c8dea"
      },
      "execution_count": 125,
      "outputs": [
        {
          "output_type": "execute_result",
          "data": {
            "text/plain": [
              "      Year      Month  ALLSKY_SFC_PAR_TOT  CLOUD_AMT  GWETPROF  GWETROOT  \\\n",
              "0     2011    January                 NaN        NaN       NaN       NaN   \n",
              "1     2011   February                 NaN        NaN       NaN       NaN   \n",
              "2     2011      March                 NaN        NaN       NaN       NaN   \n",
              "3     2011      April                 NaN        NaN       NaN       NaN   \n",
              "4     2011        May                 NaN        NaN       NaN       NaN   \n",
              "...    ...        ...                 ...        ...       ...       ...   \n",
              "3475  2020     August                 NaN        NaN       NaN       NaN   \n",
              "3476  2020  September                 NaN        NaN       NaN       NaN   \n",
              "3477  2020    October                 NaN        NaN       NaN       NaN   \n",
              "3478  2020   November                 NaN        NaN       NaN       NaN   \n",
              "3479  2020   December                 NaN        NaN       NaN       NaN   \n",
              "\n",
              "      GWETTOP  PRECTOTCORR  QV2M  T2MDEW  T2M_MAX  T2M_MIN  WS2M_MAX  \\\n",
              "0         NaN          NaN   NaN     NaN      NaN      NaN       NaN   \n",
              "1         NaN          NaN   NaN     NaN      NaN      NaN       NaN   \n",
              "2         NaN          NaN   NaN     NaN      NaN      NaN       NaN   \n",
              "3         NaN          NaN   NaN     NaN      NaN      NaN       NaN   \n",
              "4         NaN          NaN   NaN     NaN      NaN      NaN       NaN   \n",
              "...       ...          ...   ...     ...      ...      ...       ...   \n",
              "3475      NaN          NaN   NaN     NaN      NaN      NaN       NaN   \n",
              "3476      NaN          NaN   NaN     NaN      NaN      NaN       NaN   \n",
              "3477      NaN          NaN   NaN     NaN      NaN      NaN       NaN   \n",
              "3478      NaN          NaN   NaN     NaN      NaN      NaN       NaN   \n",
              "3479      NaN          NaN   NaN     NaN      NaN      NaN       NaN   \n",
              "\n",
              "      WS2M_MIN           State  \n",
              "0          NaN  Andhra Pradesh  \n",
              "1          NaN  Andhra Pradesh  \n",
              "2          NaN  Andhra Pradesh  \n",
              "3          NaN  Andhra Pradesh  \n",
              "4          NaN  Andhra Pradesh  \n",
              "...        ...             ...  \n",
              "3475       NaN     West Bengal  \n",
              "3476       NaN     West Bengal  \n",
              "3477       NaN     West Bengal  \n",
              "3478       NaN     West Bengal  \n",
              "3479       NaN     West Bengal  \n",
              "\n",
              "[3480 rows x 15 columns]"
            ],
            "text/html": [
              "\n",
              "  <div id=\"df-d0aafe62-3cf6-4bcf-8283-ea5df41d6e1b\">\n",
              "    <div class=\"colab-df-container\">\n",
              "      <div>\n",
              "<style scoped>\n",
              "    .dataframe tbody tr th:only-of-type {\n",
              "        vertical-align: middle;\n",
              "    }\n",
              "\n",
              "    .dataframe tbody tr th {\n",
              "        vertical-align: top;\n",
              "    }\n",
              "\n",
              "    .dataframe thead th {\n",
              "        text-align: right;\n",
              "    }\n",
              "</style>\n",
              "<table border=\"1\" class=\"dataframe\">\n",
              "  <thead>\n",
              "    <tr style=\"text-align: right;\">\n",
              "      <th></th>\n",
              "      <th>Year</th>\n",
              "      <th>Month</th>\n",
              "      <th>ALLSKY_SFC_PAR_TOT</th>\n",
              "      <th>CLOUD_AMT</th>\n",
              "      <th>GWETPROF</th>\n",
              "      <th>GWETROOT</th>\n",
              "      <th>GWETTOP</th>\n",
              "      <th>PRECTOTCORR</th>\n",
              "      <th>QV2M</th>\n",
              "      <th>T2MDEW</th>\n",
              "      <th>T2M_MAX</th>\n",
              "      <th>T2M_MIN</th>\n",
              "      <th>WS2M_MAX</th>\n",
              "      <th>WS2M_MIN</th>\n",
              "      <th>State</th>\n",
              "    </tr>\n",
              "  </thead>\n",
              "  <tbody>\n",
              "    <tr>\n",
              "      <th>0</th>\n",
              "      <td>2011</td>\n",
              "      <td>January</td>\n",
              "      <td>NaN</td>\n",
              "      <td>NaN</td>\n",
              "      <td>NaN</td>\n",
              "      <td>NaN</td>\n",
              "      <td>NaN</td>\n",
              "      <td>NaN</td>\n",
              "      <td>NaN</td>\n",
              "      <td>NaN</td>\n",
              "      <td>NaN</td>\n",
              "      <td>NaN</td>\n",
              "      <td>NaN</td>\n",
              "      <td>NaN</td>\n",
              "      <td>Andhra Pradesh</td>\n",
              "    </tr>\n",
              "    <tr>\n",
              "      <th>1</th>\n",
              "      <td>2011</td>\n",
              "      <td>February</td>\n",
              "      <td>NaN</td>\n",
              "      <td>NaN</td>\n",
              "      <td>NaN</td>\n",
              "      <td>NaN</td>\n",
              "      <td>NaN</td>\n",
              "      <td>NaN</td>\n",
              "      <td>NaN</td>\n",
              "      <td>NaN</td>\n",
              "      <td>NaN</td>\n",
              "      <td>NaN</td>\n",
              "      <td>NaN</td>\n",
              "      <td>NaN</td>\n",
              "      <td>Andhra Pradesh</td>\n",
              "    </tr>\n",
              "    <tr>\n",
              "      <th>2</th>\n",
              "      <td>2011</td>\n",
              "      <td>March</td>\n",
              "      <td>NaN</td>\n",
              "      <td>NaN</td>\n",
              "      <td>NaN</td>\n",
              "      <td>NaN</td>\n",
              "      <td>NaN</td>\n",
              "      <td>NaN</td>\n",
              "      <td>NaN</td>\n",
              "      <td>NaN</td>\n",
              "      <td>NaN</td>\n",
              "      <td>NaN</td>\n",
              "      <td>NaN</td>\n",
              "      <td>NaN</td>\n",
              "      <td>Andhra Pradesh</td>\n",
              "    </tr>\n",
              "    <tr>\n",
              "      <th>3</th>\n",
              "      <td>2011</td>\n",
              "      <td>April</td>\n",
              "      <td>NaN</td>\n",
              "      <td>NaN</td>\n",
              "      <td>NaN</td>\n",
              "      <td>NaN</td>\n",
              "      <td>NaN</td>\n",
              "      <td>NaN</td>\n",
              "      <td>NaN</td>\n",
              "      <td>NaN</td>\n",
              "      <td>NaN</td>\n",
              "      <td>NaN</td>\n",
              "      <td>NaN</td>\n",
              "      <td>NaN</td>\n",
              "      <td>Andhra Pradesh</td>\n",
              "    </tr>\n",
              "    <tr>\n",
              "      <th>4</th>\n",
              "      <td>2011</td>\n",
              "      <td>May</td>\n",
              "      <td>NaN</td>\n",
              "      <td>NaN</td>\n",
              "      <td>NaN</td>\n",
              "      <td>NaN</td>\n",
              "      <td>NaN</td>\n",
              "      <td>NaN</td>\n",
              "      <td>NaN</td>\n",
              "      <td>NaN</td>\n",
              "      <td>NaN</td>\n",
              "      <td>NaN</td>\n",
              "      <td>NaN</td>\n",
              "      <td>NaN</td>\n",
              "      <td>Andhra Pradesh</td>\n",
              "    </tr>\n",
              "    <tr>\n",
              "      <th>...</th>\n",
              "      <td>...</td>\n",
              "      <td>...</td>\n",
              "      <td>...</td>\n",
              "      <td>...</td>\n",
              "      <td>...</td>\n",
              "      <td>...</td>\n",
              "      <td>...</td>\n",
              "      <td>...</td>\n",
              "      <td>...</td>\n",
              "      <td>...</td>\n",
              "      <td>...</td>\n",
              "      <td>...</td>\n",
              "      <td>...</td>\n",
              "      <td>...</td>\n",
              "      <td>...</td>\n",
              "    </tr>\n",
              "    <tr>\n",
              "      <th>3475</th>\n",
              "      <td>2020</td>\n",
              "      <td>August</td>\n",
              "      <td>NaN</td>\n",
              "      <td>NaN</td>\n",
              "      <td>NaN</td>\n",
              "      <td>NaN</td>\n",
              "      <td>NaN</td>\n",
              "      <td>NaN</td>\n",
              "      <td>NaN</td>\n",
              "      <td>NaN</td>\n",
              "      <td>NaN</td>\n",
              "      <td>NaN</td>\n",
              "      <td>NaN</td>\n",
              "      <td>NaN</td>\n",
              "      <td>West Bengal</td>\n",
              "    </tr>\n",
              "    <tr>\n",
              "      <th>3476</th>\n",
              "      <td>2020</td>\n",
              "      <td>September</td>\n",
              "      <td>NaN</td>\n",
              "      <td>NaN</td>\n",
              "      <td>NaN</td>\n",
              "      <td>NaN</td>\n",
              "      <td>NaN</td>\n",
              "      <td>NaN</td>\n",
              "      <td>NaN</td>\n",
              "      <td>NaN</td>\n",
              "      <td>NaN</td>\n",
              "      <td>NaN</td>\n",
              "      <td>NaN</td>\n",
              "      <td>NaN</td>\n",
              "      <td>West Bengal</td>\n",
              "    </tr>\n",
              "    <tr>\n",
              "      <th>3477</th>\n",
              "      <td>2020</td>\n",
              "      <td>October</td>\n",
              "      <td>NaN</td>\n",
              "      <td>NaN</td>\n",
              "      <td>NaN</td>\n",
              "      <td>NaN</td>\n",
              "      <td>NaN</td>\n",
              "      <td>NaN</td>\n",
              "      <td>NaN</td>\n",
              "      <td>NaN</td>\n",
              "      <td>NaN</td>\n",
              "      <td>NaN</td>\n",
              "      <td>NaN</td>\n",
              "      <td>NaN</td>\n",
              "      <td>West Bengal</td>\n",
              "    </tr>\n",
              "    <tr>\n",
              "      <th>3478</th>\n",
              "      <td>2020</td>\n",
              "      <td>November</td>\n",
              "      <td>NaN</td>\n",
              "      <td>NaN</td>\n",
              "      <td>NaN</td>\n",
              "      <td>NaN</td>\n",
              "      <td>NaN</td>\n",
              "      <td>NaN</td>\n",
              "      <td>NaN</td>\n",
              "      <td>NaN</td>\n",
              "      <td>NaN</td>\n",
              "      <td>NaN</td>\n",
              "      <td>NaN</td>\n",
              "      <td>NaN</td>\n",
              "      <td>West Bengal</td>\n",
              "    </tr>\n",
              "    <tr>\n",
              "      <th>3479</th>\n",
              "      <td>2020</td>\n",
              "      <td>December</td>\n",
              "      <td>NaN</td>\n",
              "      <td>NaN</td>\n",
              "      <td>NaN</td>\n",
              "      <td>NaN</td>\n",
              "      <td>NaN</td>\n",
              "      <td>NaN</td>\n",
              "      <td>NaN</td>\n",
              "      <td>NaN</td>\n",
              "      <td>NaN</td>\n",
              "      <td>NaN</td>\n",
              "      <td>NaN</td>\n",
              "      <td>NaN</td>\n",
              "      <td>West Bengal</td>\n",
              "    </tr>\n",
              "  </tbody>\n",
              "</table>\n",
              "<p>3480 rows × 15 columns</p>\n",
              "</div>\n",
              "      <button class=\"colab-df-convert\" onclick=\"convertToInteractive('df-d0aafe62-3cf6-4bcf-8283-ea5df41d6e1b')\"\n",
              "              title=\"Convert this dataframe to an interactive table.\"\n",
              "              style=\"display:none;\">\n",
              "        \n",
              "  <svg xmlns=\"http://www.w3.org/2000/svg\" height=\"24px\"viewBox=\"0 0 24 24\"\n",
              "       width=\"24px\">\n",
              "    <path d=\"M0 0h24v24H0V0z\" fill=\"none\"/>\n",
              "    <path d=\"M18.56 5.44l.94 2.06.94-2.06 2.06-.94-2.06-.94-.94-2.06-.94 2.06-2.06.94zm-11 1L8.5 8.5l.94-2.06 2.06-.94-2.06-.94L8.5 2.5l-.94 2.06-2.06.94zm10 10l.94 2.06.94-2.06 2.06-.94-2.06-.94-.94-2.06-.94 2.06-2.06.94z\"/><path d=\"M17.41 7.96l-1.37-1.37c-.4-.4-.92-.59-1.43-.59-.52 0-1.04.2-1.43.59L10.3 9.45l-7.72 7.72c-.78.78-.78 2.05 0 2.83L4 21.41c.39.39.9.59 1.41.59.51 0 1.02-.2 1.41-.59l7.78-7.78 2.81-2.81c.8-.78.8-2.07 0-2.86zM5.41 20L4 18.59l7.72-7.72 1.47 1.35L5.41 20z\"/>\n",
              "  </svg>\n",
              "      </button>\n",
              "      \n",
              "  <style>\n",
              "    .colab-df-container {\n",
              "      display:flex;\n",
              "      flex-wrap:wrap;\n",
              "      gap: 12px;\n",
              "    }\n",
              "\n",
              "    .colab-df-convert {\n",
              "      background-color: #E8F0FE;\n",
              "      border: none;\n",
              "      border-radius: 50%;\n",
              "      cursor: pointer;\n",
              "      display: none;\n",
              "      fill: #1967D2;\n",
              "      height: 32px;\n",
              "      padding: 0 0 0 0;\n",
              "      width: 32px;\n",
              "    }\n",
              "\n",
              "    .colab-df-convert:hover {\n",
              "      background-color: #E2EBFA;\n",
              "      box-shadow: 0px 1px 2px rgba(60, 64, 67, 0.3), 0px 1px 3px 1px rgba(60, 64, 67, 0.15);\n",
              "      fill: #174EA6;\n",
              "    }\n",
              "\n",
              "    [theme=dark] .colab-df-convert {\n",
              "      background-color: #3B4455;\n",
              "      fill: #D2E3FC;\n",
              "    }\n",
              "\n",
              "    [theme=dark] .colab-df-convert:hover {\n",
              "      background-color: #434B5C;\n",
              "      box-shadow: 0px 1px 3px 1px rgba(0, 0, 0, 0.15);\n",
              "      filter: drop-shadow(0px 1px 2px rgba(0, 0, 0, 0.3));\n",
              "      fill: #FFFFFF;\n",
              "    }\n",
              "  </style>\n",
              "\n",
              "      <script>\n",
              "        const buttonEl =\n",
              "          document.querySelector('#df-d0aafe62-3cf6-4bcf-8283-ea5df41d6e1b button.colab-df-convert');\n",
              "        buttonEl.style.display =\n",
              "          google.colab.kernel.accessAllowed ? 'block' : 'none';\n",
              "\n",
              "        async function convertToInteractive(key) {\n",
              "          const element = document.querySelector('#df-d0aafe62-3cf6-4bcf-8283-ea5df41d6e1b');\n",
              "          const dataTable =\n",
              "            await google.colab.kernel.invokeFunction('convertToInteractive',\n",
              "                                                     [key], {});\n",
              "          if (!dataTable) return;\n",
              "\n",
              "          const docLinkHtml = 'Like what you see? Visit the ' +\n",
              "            '<a target=\"_blank\" href=https://colab.research.google.com/notebooks/data_table.ipynb>data table notebook</a>'\n",
              "            + ' to learn more about interactive tables.';\n",
              "          element.innerHTML = '';\n",
              "          dataTable['output_type'] = 'display_data';\n",
              "          await google.colab.output.renderOutput(dataTable, element);\n",
              "          const docLink = document.createElement('div');\n",
              "          docLink.innerHTML = docLinkHtml;\n",
              "          element.appendChild(docLink);\n",
              "        }\n",
              "      </script>\n",
              "    </div>\n",
              "  </div>\n",
              "  "
            ]
          },
          "metadata": {},
          "execution_count": 125
        }
      ]
    },
    {
      "cell_type": "code",
      "source": [
        "a= 0 \n",
        "b= 12 \n",
        "for i in range(0,len(df_weather1)):  \n",
        "  x = df_weather1.iloc[i].tolist() # Taking list of each row values \n",
        "  if (i == 0): # If row value is \"0\"\n",
        "    df_weather_final.iloc[a:b,2] = x[2:-2] # Add first rows parameter values into new dataframe 2nd column from 0 to 12 rows\n",
        "  else:\n",
        "    \n",
        "      if(i%12)==0: # For every 12th row \n",
        "        a=a+12 # Increment row starting value by 12\n",
        "        b=b+12 # Increment row ending value by 12\n",
        "      \n",
        "        df_weather_final.iloc[a:b,(i%12)+2] = x[2:-2] #Add rows parameter values into new dataframes respective column from \"a\" to \"b\" rows\n",
        "        #print(a)\n",
        "      else :\n",
        "        df_weather_final.iloc[a:b,(i%12)+2] = x[2:-2] #Add rows parameter values into new dataframes respective column from \"a\" to \"b\" rows\n",
        "\n",
        "\n",
        "    \n",
        "  "
      ],
      "metadata": {
        "id": "PR-5yWYflMhn"
      },
      "execution_count": 126,
      "outputs": []
    },
    {
      "cell_type": "code",
      "source": [
        "df_weather_final.head(20) # New modified final weather dataframe "
      ],
      "metadata": {
        "colab": {
          "base_uri": "https://localhost:8080/",
          "height": 1000
        },
        "id": "DVFsZfg1mMHy",
        "outputId": "e1ca5dbb-e19e-427a-eb77-d86f07dd3635"
      },
      "execution_count": 127,
      "outputs": [
        {
          "output_type": "execute_result",
          "data": {
            "text/plain": [
              "    Year      Month ALLSKY_SFC_PAR_TOT CLOUD_AMT GWETPROF GWETROOT GWETTOP  \\\n",
              "0   2011    January              93.48     29.55     0.68     0.69    0.68   \n",
              "1   2011   February              99.05     36.66     0.59     0.59    0.55   \n",
              "2   2011      March             121.91      23.9     0.54     0.54    0.34   \n",
              "3   2011      April             123.12     37.52     0.52     0.52    0.28   \n",
              "4   2011        May             120.71     49.23     0.52     0.52    0.32   \n",
              "5   2011       June             108.98     83.91     0.53     0.53    0.41   \n",
              "6   2011       July              96.83     85.12     0.55     0.55    0.52   \n",
              "7   2011     August              94.05     89.55     0.59      0.6     0.6   \n",
              "8   2011  September             101.48     74.22     0.61     0.62    0.59   \n",
              "9   2011    October              87.77      58.2     0.59     0.59    0.59   \n",
              "10  2011   November              86.81     39.62     0.65     0.66    0.64   \n",
              "11  2011   December               76.8      49.7     0.58     0.58    0.54   \n",
              "12  2012    January              89.98      36.6     0.57     0.57    0.53   \n",
              "13  2012   February             103.48      43.5     0.53     0.53    0.29   \n",
              "14  2012      March             116.95     38.16     0.52     0.52    0.18   \n",
              "15  2012      April             122.89      47.8     0.52     0.51     0.2   \n",
              "16  2012        May             117.22     64.63     0.52     0.52    0.31   \n",
              "17  2012       June             107.34     76.95     0.53     0.53    0.37   \n",
              "18  2012       July              89.39     88.12     0.57     0.58    0.55   \n",
              "19  2012     August             100.46     85.73     0.59     0.59    0.57   \n",
              "\n",
              "   PRECTOTCORR   QV2M T2MDEW T2M_MAX T2M_MIN WS2M_MAX WS2M_MIN           State  \n",
              "0         0.01  13.24  18.41    29.9   14.91     5.29      0.2  Andhra Pradesh  \n",
              "1         0.93  13.85  19.04   31.81    18.9     5.54     0.33  Andhra Pradesh  \n",
              "2            0  14.22  19.19   37.87   21.02     5.71      0.3  Andhra Pradesh  \n",
              "3         0.89  16.78  21.94    38.8   24.57     7.19      0.4  Andhra Pradesh  \n",
              "4         0.77  17.15  22.19   42.73   27.11     7.99     0.19  Andhra Pradesh  \n",
              "5         1.35   16.3  21.55   38.39   25.19     8.87      0.2  Andhra Pradesh  \n",
              "6         3.07  16.91  22.17   36.83   24.94     8.59     0.15  Andhra Pradesh  \n",
              "7         4.43  17.76  23.03   35.54    24.7     7.92      0.2  Andhra Pradesh  \n",
              "8         1.47  17.82   23.1   36.23   24.57     7.04     0.06  Andhra Pradesh  \n",
              "9         4.62  17.33  22.71   35.65   22.87     6.38     0.09  Andhra Pradesh  \n",
              "10        2.21   15.2   20.6   31.62   21.11     7.16     0.16  Andhra Pradesh  \n",
              "11        0.81  14.16  19.34   31.23   18.29     6.57      0.2  Andhra Pradesh  \n",
              "12        1.05  13.43  18.44   31.02   16.32     5.23      0.2  Andhra Pradesh  \n",
              "13           0  12.45   17.1   37.33   20.23     5.18     0.34  Andhra Pradesh  \n",
              "14        0.05  15.14  19.98   38.44   22.62     5.98     0.24  Andhra Pradesh  \n",
              "15        0.28  16.78   21.9   39.02   24.23     6.16     0.82  Andhra Pradesh  \n",
              "16        0.86  16.48  21.36   42.87   27.79     7.78     0.04  Andhra Pradesh  \n",
              "17        2.06  15.75   20.9   42.62    25.2      9.8     0.23  Andhra Pradesh  \n",
              "18        2.95  17.21  22.51   37.65   25.27      8.2      0.2  Andhra Pradesh  \n",
              "19        3.06  17.21  22.51   36.23   24.37      8.1     0.27  Andhra Pradesh  "
            ],
            "text/html": [
              "\n",
              "  <div id=\"df-e4a8618b-d2d8-4b8f-803d-a09e614b2cfb\">\n",
              "    <div class=\"colab-df-container\">\n",
              "      <div>\n",
              "<style scoped>\n",
              "    .dataframe tbody tr th:only-of-type {\n",
              "        vertical-align: middle;\n",
              "    }\n",
              "\n",
              "    .dataframe tbody tr th {\n",
              "        vertical-align: top;\n",
              "    }\n",
              "\n",
              "    .dataframe thead th {\n",
              "        text-align: right;\n",
              "    }\n",
              "</style>\n",
              "<table border=\"1\" class=\"dataframe\">\n",
              "  <thead>\n",
              "    <tr style=\"text-align: right;\">\n",
              "      <th></th>\n",
              "      <th>Year</th>\n",
              "      <th>Month</th>\n",
              "      <th>ALLSKY_SFC_PAR_TOT</th>\n",
              "      <th>CLOUD_AMT</th>\n",
              "      <th>GWETPROF</th>\n",
              "      <th>GWETROOT</th>\n",
              "      <th>GWETTOP</th>\n",
              "      <th>PRECTOTCORR</th>\n",
              "      <th>QV2M</th>\n",
              "      <th>T2MDEW</th>\n",
              "      <th>T2M_MAX</th>\n",
              "      <th>T2M_MIN</th>\n",
              "      <th>WS2M_MAX</th>\n",
              "      <th>WS2M_MIN</th>\n",
              "      <th>State</th>\n",
              "    </tr>\n",
              "  </thead>\n",
              "  <tbody>\n",
              "    <tr>\n",
              "      <th>0</th>\n",
              "      <td>2011</td>\n",
              "      <td>January</td>\n",
              "      <td>93.48</td>\n",
              "      <td>29.55</td>\n",
              "      <td>0.68</td>\n",
              "      <td>0.69</td>\n",
              "      <td>0.68</td>\n",
              "      <td>0.01</td>\n",
              "      <td>13.24</td>\n",
              "      <td>18.41</td>\n",
              "      <td>29.9</td>\n",
              "      <td>14.91</td>\n",
              "      <td>5.29</td>\n",
              "      <td>0.2</td>\n",
              "      <td>Andhra Pradesh</td>\n",
              "    </tr>\n",
              "    <tr>\n",
              "      <th>1</th>\n",
              "      <td>2011</td>\n",
              "      <td>February</td>\n",
              "      <td>99.05</td>\n",
              "      <td>36.66</td>\n",
              "      <td>0.59</td>\n",
              "      <td>0.59</td>\n",
              "      <td>0.55</td>\n",
              "      <td>0.93</td>\n",
              "      <td>13.85</td>\n",
              "      <td>19.04</td>\n",
              "      <td>31.81</td>\n",
              "      <td>18.9</td>\n",
              "      <td>5.54</td>\n",
              "      <td>0.33</td>\n",
              "      <td>Andhra Pradesh</td>\n",
              "    </tr>\n",
              "    <tr>\n",
              "      <th>2</th>\n",
              "      <td>2011</td>\n",
              "      <td>March</td>\n",
              "      <td>121.91</td>\n",
              "      <td>23.9</td>\n",
              "      <td>0.54</td>\n",
              "      <td>0.54</td>\n",
              "      <td>0.34</td>\n",
              "      <td>0</td>\n",
              "      <td>14.22</td>\n",
              "      <td>19.19</td>\n",
              "      <td>37.87</td>\n",
              "      <td>21.02</td>\n",
              "      <td>5.71</td>\n",
              "      <td>0.3</td>\n",
              "      <td>Andhra Pradesh</td>\n",
              "    </tr>\n",
              "    <tr>\n",
              "      <th>3</th>\n",
              "      <td>2011</td>\n",
              "      <td>April</td>\n",
              "      <td>123.12</td>\n",
              "      <td>37.52</td>\n",
              "      <td>0.52</td>\n",
              "      <td>0.52</td>\n",
              "      <td>0.28</td>\n",
              "      <td>0.89</td>\n",
              "      <td>16.78</td>\n",
              "      <td>21.94</td>\n",
              "      <td>38.8</td>\n",
              "      <td>24.57</td>\n",
              "      <td>7.19</td>\n",
              "      <td>0.4</td>\n",
              "      <td>Andhra Pradesh</td>\n",
              "    </tr>\n",
              "    <tr>\n",
              "      <th>4</th>\n",
              "      <td>2011</td>\n",
              "      <td>May</td>\n",
              "      <td>120.71</td>\n",
              "      <td>49.23</td>\n",
              "      <td>0.52</td>\n",
              "      <td>0.52</td>\n",
              "      <td>0.32</td>\n",
              "      <td>0.77</td>\n",
              "      <td>17.15</td>\n",
              "      <td>22.19</td>\n",
              "      <td>42.73</td>\n",
              "      <td>27.11</td>\n",
              "      <td>7.99</td>\n",
              "      <td>0.19</td>\n",
              "      <td>Andhra Pradesh</td>\n",
              "    </tr>\n",
              "    <tr>\n",
              "      <th>5</th>\n",
              "      <td>2011</td>\n",
              "      <td>June</td>\n",
              "      <td>108.98</td>\n",
              "      <td>83.91</td>\n",
              "      <td>0.53</td>\n",
              "      <td>0.53</td>\n",
              "      <td>0.41</td>\n",
              "      <td>1.35</td>\n",
              "      <td>16.3</td>\n",
              "      <td>21.55</td>\n",
              "      <td>38.39</td>\n",
              "      <td>25.19</td>\n",
              "      <td>8.87</td>\n",
              "      <td>0.2</td>\n",
              "      <td>Andhra Pradesh</td>\n",
              "    </tr>\n",
              "    <tr>\n",
              "      <th>6</th>\n",
              "      <td>2011</td>\n",
              "      <td>July</td>\n",
              "      <td>96.83</td>\n",
              "      <td>85.12</td>\n",
              "      <td>0.55</td>\n",
              "      <td>0.55</td>\n",
              "      <td>0.52</td>\n",
              "      <td>3.07</td>\n",
              "      <td>16.91</td>\n",
              "      <td>22.17</td>\n",
              "      <td>36.83</td>\n",
              "      <td>24.94</td>\n",
              "      <td>8.59</td>\n",
              "      <td>0.15</td>\n",
              "      <td>Andhra Pradesh</td>\n",
              "    </tr>\n",
              "    <tr>\n",
              "      <th>7</th>\n",
              "      <td>2011</td>\n",
              "      <td>August</td>\n",
              "      <td>94.05</td>\n",
              "      <td>89.55</td>\n",
              "      <td>0.59</td>\n",
              "      <td>0.6</td>\n",
              "      <td>0.6</td>\n",
              "      <td>4.43</td>\n",
              "      <td>17.76</td>\n",
              "      <td>23.03</td>\n",
              "      <td>35.54</td>\n",
              "      <td>24.7</td>\n",
              "      <td>7.92</td>\n",
              "      <td>0.2</td>\n",
              "      <td>Andhra Pradesh</td>\n",
              "    </tr>\n",
              "    <tr>\n",
              "      <th>8</th>\n",
              "      <td>2011</td>\n",
              "      <td>September</td>\n",
              "      <td>101.48</td>\n",
              "      <td>74.22</td>\n",
              "      <td>0.61</td>\n",
              "      <td>0.62</td>\n",
              "      <td>0.59</td>\n",
              "      <td>1.47</td>\n",
              "      <td>17.82</td>\n",
              "      <td>23.1</td>\n",
              "      <td>36.23</td>\n",
              "      <td>24.57</td>\n",
              "      <td>7.04</td>\n",
              "      <td>0.06</td>\n",
              "      <td>Andhra Pradesh</td>\n",
              "    </tr>\n",
              "    <tr>\n",
              "      <th>9</th>\n",
              "      <td>2011</td>\n",
              "      <td>October</td>\n",
              "      <td>87.77</td>\n",
              "      <td>58.2</td>\n",
              "      <td>0.59</td>\n",
              "      <td>0.59</td>\n",
              "      <td>0.59</td>\n",
              "      <td>4.62</td>\n",
              "      <td>17.33</td>\n",
              "      <td>22.71</td>\n",
              "      <td>35.65</td>\n",
              "      <td>22.87</td>\n",
              "      <td>6.38</td>\n",
              "      <td>0.09</td>\n",
              "      <td>Andhra Pradesh</td>\n",
              "    </tr>\n",
              "    <tr>\n",
              "      <th>10</th>\n",
              "      <td>2011</td>\n",
              "      <td>November</td>\n",
              "      <td>86.81</td>\n",
              "      <td>39.62</td>\n",
              "      <td>0.65</td>\n",
              "      <td>0.66</td>\n",
              "      <td>0.64</td>\n",
              "      <td>2.21</td>\n",
              "      <td>15.2</td>\n",
              "      <td>20.6</td>\n",
              "      <td>31.62</td>\n",
              "      <td>21.11</td>\n",
              "      <td>7.16</td>\n",
              "      <td>0.16</td>\n",
              "      <td>Andhra Pradesh</td>\n",
              "    </tr>\n",
              "    <tr>\n",
              "      <th>11</th>\n",
              "      <td>2011</td>\n",
              "      <td>December</td>\n",
              "      <td>76.8</td>\n",
              "      <td>49.7</td>\n",
              "      <td>0.58</td>\n",
              "      <td>0.58</td>\n",
              "      <td>0.54</td>\n",
              "      <td>0.81</td>\n",
              "      <td>14.16</td>\n",
              "      <td>19.34</td>\n",
              "      <td>31.23</td>\n",
              "      <td>18.29</td>\n",
              "      <td>6.57</td>\n",
              "      <td>0.2</td>\n",
              "      <td>Andhra Pradesh</td>\n",
              "    </tr>\n",
              "    <tr>\n",
              "      <th>12</th>\n",
              "      <td>2012</td>\n",
              "      <td>January</td>\n",
              "      <td>89.98</td>\n",
              "      <td>36.6</td>\n",
              "      <td>0.57</td>\n",
              "      <td>0.57</td>\n",
              "      <td>0.53</td>\n",
              "      <td>1.05</td>\n",
              "      <td>13.43</td>\n",
              "      <td>18.44</td>\n",
              "      <td>31.02</td>\n",
              "      <td>16.32</td>\n",
              "      <td>5.23</td>\n",
              "      <td>0.2</td>\n",
              "      <td>Andhra Pradesh</td>\n",
              "    </tr>\n",
              "    <tr>\n",
              "      <th>13</th>\n",
              "      <td>2012</td>\n",
              "      <td>February</td>\n",
              "      <td>103.48</td>\n",
              "      <td>43.5</td>\n",
              "      <td>0.53</td>\n",
              "      <td>0.53</td>\n",
              "      <td>0.29</td>\n",
              "      <td>0</td>\n",
              "      <td>12.45</td>\n",
              "      <td>17.1</td>\n",
              "      <td>37.33</td>\n",
              "      <td>20.23</td>\n",
              "      <td>5.18</td>\n",
              "      <td>0.34</td>\n",
              "      <td>Andhra Pradesh</td>\n",
              "    </tr>\n",
              "    <tr>\n",
              "      <th>14</th>\n",
              "      <td>2012</td>\n",
              "      <td>March</td>\n",
              "      <td>116.95</td>\n",
              "      <td>38.16</td>\n",
              "      <td>0.52</td>\n",
              "      <td>0.52</td>\n",
              "      <td>0.18</td>\n",
              "      <td>0.05</td>\n",
              "      <td>15.14</td>\n",
              "      <td>19.98</td>\n",
              "      <td>38.44</td>\n",
              "      <td>22.62</td>\n",
              "      <td>5.98</td>\n",
              "      <td>0.24</td>\n",
              "      <td>Andhra Pradesh</td>\n",
              "    </tr>\n",
              "    <tr>\n",
              "      <th>15</th>\n",
              "      <td>2012</td>\n",
              "      <td>April</td>\n",
              "      <td>122.89</td>\n",
              "      <td>47.8</td>\n",
              "      <td>0.52</td>\n",
              "      <td>0.51</td>\n",
              "      <td>0.2</td>\n",
              "      <td>0.28</td>\n",
              "      <td>16.78</td>\n",
              "      <td>21.9</td>\n",
              "      <td>39.02</td>\n",
              "      <td>24.23</td>\n",
              "      <td>6.16</td>\n",
              "      <td>0.82</td>\n",
              "      <td>Andhra Pradesh</td>\n",
              "    </tr>\n",
              "    <tr>\n",
              "      <th>16</th>\n",
              "      <td>2012</td>\n",
              "      <td>May</td>\n",
              "      <td>117.22</td>\n",
              "      <td>64.63</td>\n",
              "      <td>0.52</td>\n",
              "      <td>0.52</td>\n",
              "      <td>0.31</td>\n",
              "      <td>0.86</td>\n",
              "      <td>16.48</td>\n",
              "      <td>21.36</td>\n",
              "      <td>42.87</td>\n",
              "      <td>27.79</td>\n",
              "      <td>7.78</td>\n",
              "      <td>0.04</td>\n",
              "      <td>Andhra Pradesh</td>\n",
              "    </tr>\n",
              "    <tr>\n",
              "      <th>17</th>\n",
              "      <td>2012</td>\n",
              "      <td>June</td>\n",
              "      <td>107.34</td>\n",
              "      <td>76.95</td>\n",
              "      <td>0.53</td>\n",
              "      <td>0.53</td>\n",
              "      <td>0.37</td>\n",
              "      <td>2.06</td>\n",
              "      <td>15.75</td>\n",
              "      <td>20.9</td>\n",
              "      <td>42.62</td>\n",
              "      <td>25.2</td>\n",
              "      <td>9.8</td>\n",
              "      <td>0.23</td>\n",
              "      <td>Andhra Pradesh</td>\n",
              "    </tr>\n",
              "    <tr>\n",
              "      <th>18</th>\n",
              "      <td>2012</td>\n",
              "      <td>July</td>\n",
              "      <td>89.39</td>\n",
              "      <td>88.12</td>\n",
              "      <td>0.57</td>\n",
              "      <td>0.58</td>\n",
              "      <td>0.55</td>\n",
              "      <td>2.95</td>\n",
              "      <td>17.21</td>\n",
              "      <td>22.51</td>\n",
              "      <td>37.65</td>\n",
              "      <td>25.27</td>\n",
              "      <td>8.2</td>\n",
              "      <td>0.2</td>\n",
              "      <td>Andhra Pradesh</td>\n",
              "    </tr>\n",
              "    <tr>\n",
              "      <th>19</th>\n",
              "      <td>2012</td>\n",
              "      <td>August</td>\n",
              "      <td>100.46</td>\n",
              "      <td>85.73</td>\n",
              "      <td>0.59</td>\n",
              "      <td>0.59</td>\n",
              "      <td>0.57</td>\n",
              "      <td>3.06</td>\n",
              "      <td>17.21</td>\n",
              "      <td>22.51</td>\n",
              "      <td>36.23</td>\n",
              "      <td>24.37</td>\n",
              "      <td>8.1</td>\n",
              "      <td>0.27</td>\n",
              "      <td>Andhra Pradesh</td>\n",
              "    </tr>\n",
              "  </tbody>\n",
              "</table>\n",
              "</div>\n",
              "      <button class=\"colab-df-convert\" onclick=\"convertToInteractive('df-e4a8618b-d2d8-4b8f-803d-a09e614b2cfb')\"\n",
              "              title=\"Convert this dataframe to an interactive table.\"\n",
              "              style=\"display:none;\">\n",
              "        \n",
              "  <svg xmlns=\"http://www.w3.org/2000/svg\" height=\"24px\"viewBox=\"0 0 24 24\"\n",
              "       width=\"24px\">\n",
              "    <path d=\"M0 0h24v24H0V0z\" fill=\"none\"/>\n",
              "    <path d=\"M18.56 5.44l.94 2.06.94-2.06 2.06-.94-2.06-.94-.94-2.06-.94 2.06-2.06.94zm-11 1L8.5 8.5l.94-2.06 2.06-.94-2.06-.94L8.5 2.5l-.94 2.06-2.06.94zm10 10l.94 2.06.94-2.06 2.06-.94-2.06-.94-.94-2.06-.94 2.06-2.06.94z\"/><path d=\"M17.41 7.96l-1.37-1.37c-.4-.4-.92-.59-1.43-.59-.52 0-1.04.2-1.43.59L10.3 9.45l-7.72 7.72c-.78.78-.78 2.05 0 2.83L4 21.41c.39.39.9.59 1.41.59.51 0 1.02-.2 1.41-.59l7.78-7.78 2.81-2.81c.8-.78.8-2.07 0-2.86zM5.41 20L4 18.59l7.72-7.72 1.47 1.35L5.41 20z\"/>\n",
              "  </svg>\n",
              "      </button>\n",
              "      \n",
              "  <style>\n",
              "    .colab-df-container {\n",
              "      display:flex;\n",
              "      flex-wrap:wrap;\n",
              "      gap: 12px;\n",
              "    }\n",
              "\n",
              "    .colab-df-convert {\n",
              "      background-color: #E8F0FE;\n",
              "      border: none;\n",
              "      border-radius: 50%;\n",
              "      cursor: pointer;\n",
              "      display: none;\n",
              "      fill: #1967D2;\n",
              "      height: 32px;\n",
              "      padding: 0 0 0 0;\n",
              "      width: 32px;\n",
              "    }\n",
              "\n",
              "    .colab-df-convert:hover {\n",
              "      background-color: #E2EBFA;\n",
              "      box-shadow: 0px 1px 2px rgba(60, 64, 67, 0.3), 0px 1px 3px 1px rgba(60, 64, 67, 0.15);\n",
              "      fill: #174EA6;\n",
              "    }\n",
              "\n",
              "    [theme=dark] .colab-df-convert {\n",
              "      background-color: #3B4455;\n",
              "      fill: #D2E3FC;\n",
              "    }\n",
              "\n",
              "    [theme=dark] .colab-df-convert:hover {\n",
              "      background-color: #434B5C;\n",
              "      box-shadow: 0px 1px 3px 1px rgba(0, 0, 0, 0.15);\n",
              "      filter: drop-shadow(0px 1px 2px rgba(0, 0, 0, 0.3));\n",
              "      fill: #FFFFFF;\n",
              "    }\n",
              "  </style>\n",
              "\n",
              "      <script>\n",
              "        const buttonEl =\n",
              "          document.querySelector('#df-e4a8618b-d2d8-4b8f-803d-a09e614b2cfb button.colab-df-convert');\n",
              "        buttonEl.style.display =\n",
              "          google.colab.kernel.accessAllowed ? 'block' : 'none';\n",
              "\n",
              "        async function convertToInteractive(key) {\n",
              "          const element = document.querySelector('#df-e4a8618b-d2d8-4b8f-803d-a09e614b2cfb');\n",
              "          const dataTable =\n",
              "            await google.colab.kernel.invokeFunction('convertToInteractive',\n",
              "                                                     [key], {});\n",
              "          if (!dataTable) return;\n",
              "\n",
              "          const docLinkHtml = 'Like what you see? Visit the ' +\n",
              "            '<a target=\"_blank\" href=https://colab.research.google.com/notebooks/data_table.ipynb>data table notebook</a>'\n",
              "            + ' to learn more about interactive tables.';\n",
              "          element.innerHTML = '';\n",
              "          dataTable['output_type'] = 'display_data';\n",
              "          await google.colab.output.renderOutput(dataTable, element);\n",
              "          const docLink = document.createElement('div');\n",
              "          docLink.innerHTML = docLinkHtml;\n",
              "          element.appendChild(docLink);\n",
              "        }\n",
              "      </script>\n",
              "    </div>\n",
              "  </div>\n",
              "  "
            ]
          },
          "metadata": {},
          "execution_count": 127
        }
      ]
    },
    {
      "cell_type": "code",
      "source": [
        "pd_weather.isnull().sum() # Checking for null values "
      ],
      "metadata": {
        "colab": {
          "base_uri": "https://localhost:8080/"
        },
        "id": "P00lPLkY_NP8",
        "outputId": "93b9f680-25f3-4df1-daec-2f7ab9c23f26"
      },
      "execution_count": 128,
      "outputs": [
        {
          "output_type": "execute_result",
          "data": {
            "text/plain": [
              "Parameter    0\n",
              "Year         0\n",
              "January      0\n",
              "February     0\n",
              "March        0\n",
              "April        0\n",
              "May          0\n",
              "June         0\n",
              "July         0\n",
              "August       0\n",
              "September    0\n",
              "October      0\n",
              "November     0\n",
              "December     0\n",
              "Ann          0\n",
              "State        0\n",
              "dtype: int64"
            ]
          },
          "metadata": {},
          "execution_count": 128
        }
      ]
    },
    {
      "cell_type": "code",
      "source": [
        "df_crops_final # Viewing final crops dataframe "
      ],
      "metadata": {
        "colab": {
          "base_uri": "https://localhost:8080/",
          "height": 424
        },
        "id": "NQ8pOECxo4U0",
        "outputId": "5f2a09a1-c3c0-46eb-dd78-f9c6a2c39f03"
      },
      "execution_count": 129,
      "outputs": [
        {
          "output_type": "execute_result",
          "data": {
            "text/plain": [
              "               State   Crop_Variety  Year     Month               Price\n",
              "0            Gujarat   BITTER GOURD  2011   January  1527.8683431952663\n",
              "1             Punjab   BITTER GOURD  2011   January  1527.8683431952663\n",
              "2          Karnataka   BITTER GOURD  2011   January                1410\n",
              "3      Uttar Pradesh   BITTER GOURD  2011   January  1527.8683431952663\n",
              "4     Madhya Pradesh   BITTER GOURD  2011   January  1527.8683431952663\n",
              "...              ...            ...   ...       ...                 ...\n",
              "2699     Maharashtra   TOMATO LOCAL  2012  December                 825\n",
              "2700       Jharkhand   TOMATO LOCAL  2012  December                 450\n",
              "2701    Chhattisgarh   TOMATO LOCAL  2012  December                 567\n",
              "2702       Jharkhand   TOMATO LOCAL  2012  December                 675\n",
              "2703          Kerala   TOMATO LOCAL  2012  December  1695.7281804733727\n",
              "\n",
              "[32448 rows x 5 columns]"
            ],
            "text/html": [
              "\n",
              "  <div id=\"df-a10d83e9-86fa-4b30-b022-382a4ec06e4a\">\n",
              "    <div class=\"colab-df-container\">\n",
              "      <div>\n",
              "<style scoped>\n",
              "    .dataframe tbody tr th:only-of-type {\n",
              "        vertical-align: middle;\n",
              "    }\n",
              "\n",
              "    .dataframe tbody tr th {\n",
              "        vertical-align: top;\n",
              "    }\n",
              "\n",
              "    .dataframe thead th {\n",
              "        text-align: right;\n",
              "    }\n",
              "</style>\n",
              "<table border=\"1\" class=\"dataframe\">\n",
              "  <thead>\n",
              "    <tr style=\"text-align: right;\">\n",
              "      <th></th>\n",
              "      <th>State</th>\n",
              "      <th>Crop_Variety</th>\n",
              "      <th>Year</th>\n",
              "      <th>Month</th>\n",
              "      <th>Price</th>\n",
              "    </tr>\n",
              "  </thead>\n",
              "  <tbody>\n",
              "    <tr>\n",
              "      <th>0</th>\n",
              "      <td>Gujarat</td>\n",
              "      <td>BITTER GOURD</td>\n",
              "      <td>2011</td>\n",
              "      <td>January</td>\n",
              "      <td>1527.8683431952663</td>\n",
              "    </tr>\n",
              "    <tr>\n",
              "      <th>1</th>\n",
              "      <td>Punjab</td>\n",
              "      <td>BITTER GOURD</td>\n",
              "      <td>2011</td>\n",
              "      <td>January</td>\n",
              "      <td>1527.8683431952663</td>\n",
              "    </tr>\n",
              "    <tr>\n",
              "      <th>2</th>\n",
              "      <td>Karnataka</td>\n",
              "      <td>BITTER GOURD</td>\n",
              "      <td>2011</td>\n",
              "      <td>January</td>\n",
              "      <td>1410</td>\n",
              "    </tr>\n",
              "    <tr>\n",
              "      <th>3</th>\n",
              "      <td>Uttar Pradesh</td>\n",
              "      <td>BITTER GOURD</td>\n",
              "      <td>2011</td>\n",
              "      <td>January</td>\n",
              "      <td>1527.8683431952663</td>\n",
              "    </tr>\n",
              "    <tr>\n",
              "      <th>4</th>\n",
              "      <td>Madhya Pradesh</td>\n",
              "      <td>BITTER GOURD</td>\n",
              "      <td>2011</td>\n",
              "      <td>January</td>\n",
              "      <td>1527.8683431952663</td>\n",
              "    </tr>\n",
              "    <tr>\n",
              "      <th>...</th>\n",
              "      <td>...</td>\n",
              "      <td>...</td>\n",
              "      <td>...</td>\n",
              "      <td>...</td>\n",
              "      <td>...</td>\n",
              "    </tr>\n",
              "    <tr>\n",
              "      <th>2699</th>\n",
              "      <td>Maharashtra</td>\n",
              "      <td>TOMATO LOCAL</td>\n",
              "      <td>2012</td>\n",
              "      <td>December</td>\n",
              "      <td>825</td>\n",
              "    </tr>\n",
              "    <tr>\n",
              "      <th>2700</th>\n",
              "      <td>Jharkhand</td>\n",
              "      <td>TOMATO LOCAL</td>\n",
              "      <td>2012</td>\n",
              "      <td>December</td>\n",
              "      <td>450</td>\n",
              "    </tr>\n",
              "    <tr>\n",
              "      <th>2701</th>\n",
              "      <td>Chhattisgarh</td>\n",
              "      <td>TOMATO LOCAL</td>\n",
              "      <td>2012</td>\n",
              "      <td>December</td>\n",
              "      <td>567</td>\n",
              "    </tr>\n",
              "    <tr>\n",
              "      <th>2702</th>\n",
              "      <td>Jharkhand</td>\n",
              "      <td>TOMATO LOCAL</td>\n",
              "      <td>2012</td>\n",
              "      <td>December</td>\n",
              "      <td>675</td>\n",
              "    </tr>\n",
              "    <tr>\n",
              "      <th>2703</th>\n",
              "      <td>Kerala</td>\n",
              "      <td>TOMATO LOCAL</td>\n",
              "      <td>2012</td>\n",
              "      <td>December</td>\n",
              "      <td>1695.7281804733727</td>\n",
              "    </tr>\n",
              "  </tbody>\n",
              "</table>\n",
              "<p>32448 rows × 5 columns</p>\n",
              "</div>\n",
              "      <button class=\"colab-df-convert\" onclick=\"convertToInteractive('df-a10d83e9-86fa-4b30-b022-382a4ec06e4a')\"\n",
              "              title=\"Convert this dataframe to an interactive table.\"\n",
              "              style=\"display:none;\">\n",
              "        \n",
              "  <svg xmlns=\"http://www.w3.org/2000/svg\" height=\"24px\"viewBox=\"0 0 24 24\"\n",
              "       width=\"24px\">\n",
              "    <path d=\"M0 0h24v24H0V0z\" fill=\"none\"/>\n",
              "    <path d=\"M18.56 5.44l.94 2.06.94-2.06 2.06-.94-2.06-.94-.94-2.06-.94 2.06-2.06.94zm-11 1L8.5 8.5l.94-2.06 2.06-.94-2.06-.94L8.5 2.5l-.94 2.06-2.06.94zm10 10l.94 2.06.94-2.06 2.06-.94-2.06-.94-.94-2.06-.94 2.06-2.06.94z\"/><path d=\"M17.41 7.96l-1.37-1.37c-.4-.4-.92-.59-1.43-.59-.52 0-1.04.2-1.43.59L10.3 9.45l-7.72 7.72c-.78.78-.78 2.05 0 2.83L4 21.41c.39.39.9.59 1.41.59.51 0 1.02-.2 1.41-.59l7.78-7.78 2.81-2.81c.8-.78.8-2.07 0-2.86zM5.41 20L4 18.59l7.72-7.72 1.47 1.35L5.41 20z\"/>\n",
              "  </svg>\n",
              "      </button>\n",
              "      \n",
              "  <style>\n",
              "    .colab-df-container {\n",
              "      display:flex;\n",
              "      flex-wrap:wrap;\n",
              "      gap: 12px;\n",
              "    }\n",
              "\n",
              "    .colab-df-convert {\n",
              "      background-color: #E8F0FE;\n",
              "      border: none;\n",
              "      border-radius: 50%;\n",
              "      cursor: pointer;\n",
              "      display: none;\n",
              "      fill: #1967D2;\n",
              "      height: 32px;\n",
              "      padding: 0 0 0 0;\n",
              "      width: 32px;\n",
              "    }\n",
              "\n",
              "    .colab-df-convert:hover {\n",
              "      background-color: #E2EBFA;\n",
              "      box-shadow: 0px 1px 2px rgba(60, 64, 67, 0.3), 0px 1px 3px 1px rgba(60, 64, 67, 0.15);\n",
              "      fill: #174EA6;\n",
              "    }\n",
              "\n",
              "    [theme=dark] .colab-df-convert {\n",
              "      background-color: #3B4455;\n",
              "      fill: #D2E3FC;\n",
              "    }\n",
              "\n",
              "    [theme=dark] .colab-df-convert:hover {\n",
              "      background-color: #434B5C;\n",
              "      box-shadow: 0px 1px 3px 1px rgba(0, 0, 0, 0.15);\n",
              "      filter: drop-shadow(0px 1px 2px rgba(0, 0, 0, 0.3));\n",
              "      fill: #FFFFFF;\n",
              "    }\n",
              "  </style>\n",
              "\n",
              "      <script>\n",
              "        const buttonEl =\n",
              "          document.querySelector('#df-a10d83e9-86fa-4b30-b022-382a4ec06e4a button.colab-df-convert');\n",
              "        buttonEl.style.display =\n",
              "          google.colab.kernel.accessAllowed ? 'block' : 'none';\n",
              "\n",
              "        async function convertToInteractive(key) {\n",
              "          const element = document.querySelector('#df-a10d83e9-86fa-4b30-b022-382a4ec06e4a');\n",
              "          const dataTable =\n",
              "            await google.colab.kernel.invokeFunction('convertToInteractive',\n",
              "                                                     [key], {});\n",
              "          if (!dataTable) return;\n",
              "\n",
              "          const docLinkHtml = 'Like what you see? Visit the ' +\n",
              "            '<a target=\"_blank\" href=https://colab.research.google.com/notebooks/data_table.ipynb>data table notebook</a>'\n",
              "            + ' to learn more about interactive tables.';\n",
              "          element.innerHTML = '';\n",
              "          dataTable['output_type'] = 'display_data';\n",
              "          await google.colab.output.renderOutput(dataTable, element);\n",
              "          const docLink = document.createElement('div');\n",
              "          docLink.innerHTML = docLinkHtml;\n",
              "          element.appendChild(docLink);\n",
              "        }\n",
              "      </script>\n",
              "    </div>\n",
              "  </div>\n",
              "  "
            ]
          },
          "metadata": {},
          "execution_count": 129
        }
      ]
    },
    {
      "cell_type": "code",
      "source": [
        "df_final = pd.merge(df_weather_final,df_crops_final, on=['State','Year','Month']) # Merging final weather dataframe with crops dataframe based on \"State\",\"Year\" and \"Month\" values "
      ],
      "metadata": {
        "id": "WKBq8jslfqmf"
      },
      "execution_count": 130,
      "outputs": []
    },
    {
      "cell_type": "code",
      "source": [
        ""
      ],
      "metadata": {
        "id": "BOLuQJzxfsjx"
      },
      "execution_count": 130,
      "outputs": []
    },
    {
      "cell_type": "code",
      "source": [
        "df_final.info(\n",
        ")"
      ],
      "metadata": {
        "colab": {
          "base_uri": "https://localhost:8080/"
        },
        "id": "umnPOXBD45v-",
        "outputId": "2df55b5f-331b-4347-827f-5fa3d807b98e"
      },
      "execution_count": 131,
      "outputs": [
        {
          "output_type": "stream",
          "name": "stdout",
          "text": [
            "<class 'pandas.core.frame.DataFrame'>\n",
            "Int64Index: 28680 entries, 0 to 28679\n",
            "Data columns (total 17 columns):\n",
            " #   Column              Non-Null Count  Dtype \n",
            "---  ------              --------------  ----- \n",
            " 0   Year                28680 non-null  object\n",
            " 1   Month               28680 non-null  object\n",
            " 2   ALLSKY_SFC_PAR_TOT  28680 non-null  object\n",
            " 3   CLOUD_AMT           28680 non-null  object\n",
            " 4   GWETPROF            28680 non-null  object\n",
            " 5   GWETROOT            28680 non-null  object\n",
            " 6   GWETTOP             28680 non-null  object\n",
            " 7   PRECTOTCORR         28680 non-null  object\n",
            " 8   QV2M                28680 non-null  object\n",
            " 9   T2MDEW              28680 non-null  object\n",
            " 10  T2M_MAX             28680 non-null  object\n",
            " 11  T2M_MIN             28680 non-null  object\n",
            " 12  WS2M_MAX            28680 non-null  object\n",
            " 13  WS2M_MIN            28680 non-null  object\n",
            " 14  State               28680 non-null  object\n",
            " 15  Crop_Variety        28680 non-null  object\n",
            " 16  Price               28680 non-null  object\n",
            "dtypes: object(17)\n",
            "memory usage: 3.9+ MB\n"
          ]
        }
      ]
    },
    {
      "cell_type": "code",
      "source": [
        "df_final.describe() # Viewing basic stastical details of our final dataframe "
      ],
      "metadata": {
        "colab": {
          "base_uri": "https://localhost:8080/",
          "height": 239
        },
        "id": "3wUme0KfHg_Y",
        "outputId": "5cfd2f7a-ae53-4e3e-d4bd-f345147ef008"
      },
      "execution_count": 132,
      "outputs": [
        {
          "output_type": "execute_result",
          "data": {
            "text/plain": [
              "         Year    Month ALLSKY_SFC_PAR_TOT CLOUD_AMT GWETPROF GWETROOT GWETTOP  \\\n",
              "count   28680    28680              28680     28680    28680    28680   28680   \n",
              "unique     10       12               1826      1867       71       73      90   \n",
              "top      2017  January             107.09     82.62      0.6     0.59    0.41   \n",
              "freq     3096     2390                 76        72     2804     4073     842   \n",
              "\n",
              "       PRECTOTCORR   QV2M T2MDEW T2M_MAX T2M_MIN WS2M_MAX WS2M_MIN  \\\n",
              "count        28680  28680  28680   28680   28680    28680    28680   \n",
              "unique         793    339   1492    1461    1417      698      132   \n",
              "top              0  16.97   21.4   34.05   21.19     5.12     0.05   \n",
              "freq          2770    256    104     117     131      249     2428   \n",
              "\n",
              "              State Crop_Variety               Price  \n",
              "count         28680        28680               28680  \n",
              "unique           18           10                4768  \n",
              "top     Maharashtra        ONION  1312.3528106508875  \n",
              "freq           3576         3372                 631  "
            ],
            "text/html": [
              "\n",
              "  <div id=\"df-8d9e69e4-1e04-4f8b-a6f1-381ada5e41bc\">\n",
              "    <div class=\"colab-df-container\">\n",
              "      <div>\n",
              "<style scoped>\n",
              "    .dataframe tbody tr th:only-of-type {\n",
              "        vertical-align: middle;\n",
              "    }\n",
              "\n",
              "    .dataframe tbody tr th {\n",
              "        vertical-align: top;\n",
              "    }\n",
              "\n",
              "    .dataframe thead th {\n",
              "        text-align: right;\n",
              "    }\n",
              "</style>\n",
              "<table border=\"1\" class=\"dataframe\">\n",
              "  <thead>\n",
              "    <tr style=\"text-align: right;\">\n",
              "      <th></th>\n",
              "      <th>Year</th>\n",
              "      <th>Month</th>\n",
              "      <th>ALLSKY_SFC_PAR_TOT</th>\n",
              "      <th>CLOUD_AMT</th>\n",
              "      <th>GWETPROF</th>\n",
              "      <th>GWETROOT</th>\n",
              "      <th>GWETTOP</th>\n",
              "      <th>PRECTOTCORR</th>\n",
              "      <th>QV2M</th>\n",
              "      <th>T2MDEW</th>\n",
              "      <th>T2M_MAX</th>\n",
              "      <th>T2M_MIN</th>\n",
              "      <th>WS2M_MAX</th>\n",
              "      <th>WS2M_MIN</th>\n",
              "      <th>State</th>\n",
              "      <th>Crop_Variety</th>\n",
              "      <th>Price</th>\n",
              "    </tr>\n",
              "  </thead>\n",
              "  <tbody>\n",
              "    <tr>\n",
              "      <th>count</th>\n",
              "      <td>28680</td>\n",
              "      <td>28680</td>\n",
              "      <td>28680</td>\n",
              "      <td>28680</td>\n",
              "      <td>28680</td>\n",
              "      <td>28680</td>\n",
              "      <td>28680</td>\n",
              "      <td>28680</td>\n",
              "      <td>28680</td>\n",
              "      <td>28680</td>\n",
              "      <td>28680</td>\n",
              "      <td>28680</td>\n",
              "      <td>28680</td>\n",
              "      <td>28680</td>\n",
              "      <td>28680</td>\n",
              "      <td>28680</td>\n",
              "      <td>28680</td>\n",
              "    </tr>\n",
              "    <tr>\n",
              "      <th>unique</th>\n",
              "      <td>10</td>\n",
              "      <td>12</td>\n",
              "      <td>1826</td>\n",
              "      <td>1867</td>\n",
              "      <td>71</td>\n",
              "      <td>73</td>\n",
              "      <td>90</td>\n",
              "      <td>793</td>\n",
              "      <td>339</td>\n",
              "      <td>1492</td>\n",
              "      <td>1461</td>\n",
              "      <td>1417</td>\n",
              "      <td>698</td>\n",
              "      <td>132</td>\n",
              "      <td>18</td>\n",
              "      <td>10</td>\n",
              "      <td>4768</td>\n",
              "    </tr>\n",
              "    <tr>\n",
              "      <th>top</th>\n",
              "      <td>2017</td>\n",
              "      <td>January</td>\n",
              "      <td>107.09</td>\n",
              "      <td>82.62</td>\n",
              "      <td>0.6</td>\n",
              "      <td>0.59</td>\n",
              "      <td>0.41</td>\n",
              "      <td>0</td>\n",
              "      <td>16.97</td>\n",
              "      <td>21.4</td>\n",
              "      <td>34.05</td>\n",
              "      <td>21.19</td>\n",
              "      <td>5.12</td>\n",
              "      <td>0.05</td>\n",
              "      <td>Maharashtra</td>\n",
              "      <td>ONION</td>\n",
              "      <td>1312.3528106508875</td>\n",
              "    </tr>\n",
              "    <tr>\n",
              "      <th>freq</th>\n",
              "      <td>3096</td>\n",
              "      <td>2390</td>\n",
              "      <td>76</td>\n",
              "      <td>72</td>\n",
              "      <td>2804</td>\n",
              "      <td>4073</td>\n",
              "      <td>842</td>\n",
              "      <td>2770</td>\n",
              "      <td>256</td>\n",
              "      <td>104</td>\n",
              "      <td>117</td>\n",
              "      <td>131</td>\n",
              "      <td>249</td>\n",
              "      <td>2428</td>\n",
              "      <td>3576</td>\n",
              "      <td>3372</td>\n",
              "      <td>631</td>\n",
              "    </tr>\n",
              "  </tbody>\n",
              "</table>\n",
              "</div>\n",
              "      <button class=\"colab-df-convert\" onclick=\"convertToInteractive('df-8d9e69e4-1e04-4f8b-a6f1-381ada5e41bc')\"\n",
              "              title=\"Convert this dataframe to an interactive table.\"\n",
              "              style=\"display:none;\">\n",
              "        \n",
              "  <svg xmlns=\"http://www.w3.org/2000/svg\" height=\"24px\"viewBox=\"0 0 24 24\"\n",
              "       width=\"24px\">\n",
              "    <path d=\"M0 0h24v24H0V0z\" fill=\"none\"/>\n",
              "    <path d=\"M18.56 5.44l.94 2.06.94-2.06 2.06-.94-2.06-.94-.94-2.06-.94 2.06-2.06.94zm-11 1L8.5 8.5l.94-2.06 2.06-.94-2.06-.94L8.5 2.5l-.94 2.06-2.06.94zm10 10l.94 2.06.94-2.06 2.06-.94-2.06-.94-.94-2.06-.94 2.06-2.06.94z\"/><path d=\"M17.41 7.96l-1.37-1.37c-.4-.4-.92-.59-1.43-.59-.52 0-1.04.2-1.43.59L10.3 9.45l-7.72 7.72c-.78.78-.78 2.05 0 2.83L4 21.41c.39.39.9.59 1.41.59.51 0 1.02-.2 1.41-.59l7.78-7.78 2.81-2.81c.8-.78.8-2.07 0-2.86zM5.41 20L4 18.59l7.72-7.72 1.47 1.35L5.41 20z\"/>\n",
              "  </svg>\n",
              "      </button>\n",
              "      \n",
              "  <style>\n",
              "    .colab-df-container {\n",
              "      display:flex;\n",
              "      flex-wrap:wrap;\n",
              "      gap: 12px;\n",
              "    }\n",
              "\n",
              "    .colab-df-convert {\n",
              "      background-color: #E8F0FE;\n",
              "      border: none;\n",
              "      border-radius: 50%;\n",
              "      cursor: pointer;\n",
              "      display: none;\n",
              "      fill: #1967D2;\n",
              "      height: 32px;\n",
              "      padding: 0 0 0 0;\n",
              "      width: 32px;\n",
              "    }\n",
              "\n",
              "    .colab-df-convert:hover {\n",
              "      background-color: #E2EBFA;\n",
              "      box-shadow: 0px 1px 2px rgba(60, 64, 67, 0.3), 0px 1px 3px 1px rgba(60, 64, 67, 0.15);\n",
              "      fill: #174EA6;\n",
              "    }\n",
              "\n",
              "    [theme=dark] .colab-df-convert {\n",
              "      background-color: #3B4455;\n",
              "      fill: #D2E3FC;\n",
              "    }\n",
              "\n",
              "    [theme=dark] .colab-df-convert:hover {\n",
              "      background-color: #434B5C;\n",
              "      box-shadow: 0px 1px 3px 1px rgba(0, 0, 0, 0.15);\n",
              "      filter: drop-shadow(0px 1px 2px rgba(0, 0, 0, 0.3));\n",
              "      fill: #FFFFFF;\n",
              "    }\n",
              "  </style>\n",
              "\n",
              "      <script>\n",
              "        const buttonEl =\n",
              "          document.querySelector('#df-8d9e69e4-1e04-4f8b-a6f1-381ada5e41bc button.colab-df-convert');\n",
              "        buttonEl.style.display =\n",
              "          google.colab.kernel.accessAllowed ? 'block' : 'none';\n",
              "\n",
              "        async function convertToInteractive(key) {\n",
              "          const element = document.querySelector('#df-8d9e69e4-1e04-4f8b-a6f1-381ada5e41bc');\n",
              "          const dataTable =\n",
              "            await google.colab.kernel.invokeFunction('convertToInteractive',\n",
              "                                                     [key], {});\n",
              "          if (!dataTable) return;\n",
              "\n",
              "          const docLinkHtml = 'Like what you see? Visit the ' +\n",
              "            '<a target=\"_blank\" href=https://colab.research.google.com/notebooks/data_table.ipynb>data table notebook</a>'\n",
              "            + ' to learn more about interactive tables.';\n",
              "          element.innerHTML = '';\n",
              "          dataTable['output_type'] = 'display_data';\n",
              "          await google.colab.output.renderOutput(dataTable, element);\n",
              "          const docLink = document.createElement('div');\n",
              "          docLink.innerHTML = docLinkHtml;\n",
              "          element.appendChild(docLink);\n",
              "        }\n",
              "      </script>\n",
              "    </div>\n",
              "  </div>\n",
              "  "
            ]
          },
          "metadata": {},
          "execution_count": 132
        }
      ]
    },
    {
      "cell_type": "code",
      "source": [
        "df_final.info() # Using info functon to print concise of final dataframe "
      ],
      "metadata": {
        "colab": {
          "base_uri": "https://localhost:8080/"
        },
        "id": "3n5HwilNKpGX",
        "outputId": "07be2862-b8ef-453d-e188-4c4adb8fc5df"
      },
      "execution_count": 133,
      "outputs": [
        {
          "output_type": "stream",
          "name": "stdout",
          "text": [
            "<class 'pandas.core.frame.DataFrame'>\n",
            "Int64Index: 28680 entries, 0 to 28679\n",
            "Data columns (total 17 columns):\n",
            " #   Column              Non-Null Count  Dtype \n",
            "---  ------              --------------  ----- \n",
            " 0   Year                28680 non-null  object\n",
            " 1   Month               28680 non-null  object\n",
            " 2   ALLSKY_SFC_PAR_TOT  28680 non-null  object\n",
            " 3   CLOUD_AMT           28680 non-null  object\n",
            " 4   GWETPROF            28680 non-null  object\n",
            " 5   GWETROOT            28680 non-null  object\n",
            " 6   GWETTOP             28680 non-null  object\n",
            " 7   PRECTOTCORR         28680 non-null  object\n",
            " 8   QV2M                28680 non-null  object\n",
            " 9   T2MDEW              28680 non-null  object\n",
            " 10  T2M_MAX             28680 non-null  object\n",
            " 11  T2M_MIN             28680 non-null  object\n",
            " 12  WS2M_MAX            28680 non-null  object\n",
            " 13  WS2M_MIN            28680 non-null  object\n",
            " 14  State               28680 non-null  object\n",
            " 15  Crop_Variety        28680 non-null  object\n",
            " 16  Price               28680 non-null  object\n",
            "dtypes: object(17)\n",
            "memory usage: 3.9+ MB\n"
          ]
        }
      ]
    },
    {
      "cell_type": "code",
      "source": [
        "df_exc = pd.read_excel('/content/drive/MyDrive/Capstone/Datasets/Final_Datasets/Final_Exchange_Rates.xlsx')"
      ],
      "metadata": {
        "id": "f96ka--qN3AT"
      },
      "execution_count": 134,
      "outputs": []
    },
    {
      "cell_type": "code",
      "source": [
        "df_exc.head(15)"
      ],
      "metadata": {
        "colab": {
          "base_uri": "https://localhost:8080/",
          "height": 520
        },
        "id": "2n-qOPAoOVUO",
        "outputId": "4602bdcd-2d60-413c-8502-704c44bb09b5"
      },
      "execution_count": 135,
      "outputs": [
        {
          "output_type": "execute_result",
          "data": {
            "text/plain": [
              "    Year      Month        INR\n",
              "0   2011    January  45.430458\n",
              "1   2011   February  45.440321\n",
              "2   2011      March  44.973729\n",
              "3   2011      April  44.368860\n",
              "4   2011        May  44.920116\n",
              "5   2011       June  44.844533\n",
              "6   2011       July  44.412777\n",
              "7   2011     August  45.399487\n",
              "8   2011  September  47.552070\n",
              "9   2011    October  49.253942\n",
              "10  2011   November  50.761630\n",
              "11  2011   December  52.464777\n",
              "12  2012    January  51.198390\n",
              "13  2012   February  49.180469\n",
              "14  2012      March  50.360045"
            ],
            "text/html": [
              "\n",
              "  <div id=\"df-9a4f6d00-1e9f-4ded-94bc-cbbf23cfc0ed\">\n",
              "    <div class=\"colab-df-container\">\n",
              "      <div>\n",
              "<style scoped>\n",
              "    .dataframe tbody tr th:only-of-type {\n",
              "        vertical-align: middle;\n",
              "    }\n",
              "\n",
              "    .dataframe tbody tr th {\n",
              "        vertical-align: top;\n",
              "    }\n",
              "\n",
              "    .dataframe thead th {\n",
              "        text-align: right;\n",
              "    }\n",
              "</style>\n",
              "<table border=\"1\" class=\"dataframe\">\n",
              "  <thead>\n",
              "    <tr style=\"text-align: right;\">\n",
              "      <th></th>\n",
              "      <th>Year</th>\n",
              "      <th>Month</th>\n",
              "      <th>INR</th>\n",
              "    </tr>\n",
              "  </thead>\n",
              "  <tbody>\n",
              "    <tr>\n",
              "      <th>0</th>\n",
              "      <td>2011</td>\n",
              "      <td>January</td>\n",
              "      <td>45.430458</td>\n",
              "    </tr>\n",
              "    <tr>\n",
              "      <th>1</th>\n",
              "      <td>2011</td>\n",
              "      <td>February</td>\n",
              "      <td>45.440321</td>\n",
              "    </tr>\n",
              "    <tr>\n",
              "      <th>2</th>\n",
              "      <td>2011</td>\n",
              "      <td>March</td>\n",
              "      <td>44.973729</td>\n",
              "    </tr>\n",
              "    <tr>\n",
              "      <th>3</th>\n",
              "      <td>2011</td>\n",
              "      <td>April</td>\n",
              "      <td>44.368860</td>\n",
              "    </tr>\n",
              "    <tr>\n",
              "      <th>4</th>\n",
              "      <td>2011</td>\n",
              "      <td>May</td>\n",
              "      <td>44.920116</td>\n",
              "    </tr>\n",
              "    <tr>\n",
              "      <th>5</th>\n",
              "      <td>2011</td>\n",
              "      <td>June</td>\n",
              "      <td>44.844533</td>\n",
              "    </tr>\n",
              "    <tr>\n",
              "      <th>6</th>\n",
              "      <td>2011</td>\n",
              "      <td>July</td>\n",
              "      <td>44.412777</td>\n",
              "    </tr>\n",
              "    <tr>\n",
              "      <th>7</th>\n",
              "      <td>2011</td>\n",
              "      <td>August</td>\n",
              "      <td>45.399487</td>\n",
              "    </tr>\n",
              "    <tr>\n",
              "      <th>8</th>\n",
              "      <td>2011</td>\n",
              "      <td>September</td>\n",
              "      <td>47.552070</td>\n",
              "    </tr>\n",
              "    <tr>\n",
              "      <th>9</th>\n",
              "      <td>2011</td>\n",
              "      <td>October</td>\n",
              "      <td>49.253942</td>\n",
              "    </tr>\n",
              "    <tr>\n",
              "      <th>10</th>\n",
              "      <td>2011</td>\n",
              "      <td>November</td>\n",
              "      <td>50.761630</td>\n",
              "    </tr>\n",
              "    <tr>\n",
              "      <th>11</th>\n",
              "      <td>2011</td>\n",
              "      <td>December</td>\n",
              "      <td>52.464777</td>\n",
              "    </tr>\n",
              "    <tr>\n",
              "      <th>12</th>\n",
              "      <td>2012</td>\n",
              "      <td>January</td>\n",
              "      <td>51.198390</td>\n",
              "    </tr>\n",
              "    <tr>\n",
              "      <th>13</th>\n",
              "      <td>2012</td>\n",
              "      <td>February</td>\n",
              "      <td>49.180469</td>\n",
              "    </tr>\n",
              "    <tr>\n",
              "      <th>14</th>\n",
              "      <td>2012</td>\n",
              "      <td>March</td>\n",
              "      <td>50.360045</td>\n",
              "    </tr>\n",
              "  </tbody>\n",
              "</table>\n",
              "</div>\n",
              "      <button class=\"colab-df-convert\" onclick=\"convertToInteractive('df-9a4f6d00-1e9f-4ded-94bc-cbbf23cfc0ed')\"\n",
              "              title=\"Convert this dataframe to an interactive table.\"\n",
              "              style=\"display:none;\">\n",
              "        \n",
              "  <svg xmlns=\"http://www.w3.org/2000/svg\" height=\"24px\"viewBox=\"0 0 24 24\"\n",
              "       width=\"24px\">\n",
              "    <path d=\"M0 0h24v24H0V0z\" fill=\"none\"/>\n",
              "    <path d=\"M18.56 5.44l.94 2.06.94-2.06 2.06-.94-2.06-.94-.94-2.06-.94 2.06-2.06.94zm-11 1L8.5 8.5l.94-2.06 2.06-.94-2.06-.94L8.5 2.5l-.94 2.06-2.06.94zm10 10l.94 2.06.94-2.06 2.06-.94-2.06-.94-.94-2.06-.94 2.06-2.06.94z\"/><path d=\"M17.41 7.96l-1.37-1.37c-.4-.4-.92-.59-1.43-.59-.52 0-1.04.2-1.43.59L10.3 9.45l-7.72 7.72c-.78.78-.78 2.05 0 2.83L4 21.41c.39.39.9.59 1.41.59.51 0 1.02-.2 1.41-.59l7.78-7.78 2.81-2.81c.8-.78.8-2.07 0-2.86zM5.41 20L4 18.59l7.72-7.72 1.47 1.35L5.41 20z\"/>\n",
              "  </svg>\n",
              "      </button>\n",
              "      \n",
              "  <style>\n",
              "    .colab-df-container {\n",
              "      display:flex;\n",
              "      flex-wrap:wrap;\n",
              "      gap: 12px;\n",
              "    }\n",
              "\n",
              "    .colab-df-convert {\n",
              "      background-color: #E8F0FE;\n",
              "      border: none;\n",
              "      border-radius: 50%;\n",
              "      cursor: pointer;\n",
              "      display: none;\n",
              "      fill: #1967D2;\n",
              "      height: 32px;\n",
              "      padding: 0 0 0 0;\n",
              "      width: 32px;\n",
              "    }\n",
              "\n",
              "    .colab-df-convert:hover {\n",
              "      background-color: #E2EBFA;\n",
              "      box-shadow: 0px 1px 2px rgba(60, 64, 67, 0.3), 0px 1px 3px 1px rgba(60, 64, 67, 0.15);\n",
              "      fill: #174EA6;\n",
              "    }\n",
              "\n",
              "    [theme=dark] .colab-df-convert {\n",
              "      background-color: #3B4455;\n",
              "      fill: #D2E3FC;\n",
              "    }\n",
              "\n",
              "    [theme=dark] .colab-df-convert:hover {\n",
              "      background-color: #434B5C;\n",
              "      box-shadow: 0px 1px 3px 1px rgba(0, 0, 0, 0.15);\n",
              "      filter: drop-shadow(0px 1px 2px rgba(0, 0, 0, 0.3));\n",
              "      fill: #FFFFFF;\n",
              "    }\n",
              "  </style>\n",
              "\n",
              "      <script>\n",
              "        const buttonEl =\n",
              "          document.querySelector('#df-9a4f6d00-1e9f-4ded-94bc-cbbf23cfc0ed button.colab-df-convert');\n",
              "        buttonEl.style.display =\n",
              "          google.colab.kernel.accessAllowed ? 'block' : 'none';\n",
              "\n",
              "        async function convertToInteractive(key) {\n",
              "          const element = document.querySelector('#df-9a4f6d00-1e9f-4ded-94bc-cbbf23cfc0ed');\n",
              "          const dataTable =\n",
              "            await google.colab.kernel.invokeFunction('convertToInteractive',\n",
              "                                                     [key], {});\n",
              "          if (!dataTable) return;\n",
              "\n",
              "          const docLinkHtml = 'Like what you see? Visit the ' +\n",
              "            '<a target=\"_blank\" href=https://colab.research.google.com/notebooks/data_table.ipynb>data table notebook</a>'\n",
              "            + ' to learn more about interactive tables.';\n",
              "          element.innerHTML = '';\n",
              "          dataTable['output_type'] = 'display_data';\n",
              "          await google.colab.output.renderOutput(dataTable, element);\n",
              "          const docLink = document.createElement('div');\n",
              "          docLink.innerHTML = docLinkHtml;\n",
              "          element.appendChild(docLink);\n",
              "        }\n",
              "      </script>\n",
              "    </div>\n",
              "  </div>\n",
              "  "
            ]
          },
          "metadata": {},
          "execution_count": 135
        }
      ]
    },
    {
      "cell_type": "code",
      "source": [
        "df_exc[\"Year\"] = df_exc.Year.astype(int)\n",
        "df_exc[\"Month\"] = df_exc.Month.astype(str)\n",
        "df_exc[\"INR\"] = df_exc.INR.astype(float)\n",
        "df_final[\"Year\"] = df_final.Year.astype(int)\n",
        "df_final[\"Month\"] = df_final.Month.astype(str)"
      ],
      "metadata": {
        "id": "vBPzNqgoOuIo"
      },
      "execution_count": 136,
      "outputs": []
    },
    {
      "cell_type": "code",
      "source": [
        "df_exc"
      ],
      "metadata": {
        "colab": {
          "base_uri": "https://localhost:8080/",
          "height": 424
        },
        "id": "tgIbIiKYhgSU",
        "outputId": "9dcf7bf6-228f-4b87-8b56-d84fee589414"
      },
      "execution_count": 137,
      "outputs": [
        {
          "output_type": "execute_result",
          "data": {
            "text/plain": [
              "     Year      Month        INR\n",
              "0    2011    January  45.430458\n",
              "1    2011   February  45.440321\n",
              "2    2011      March  44.973729\n",
              "3    2011      April  44.368860\n",
              "4    2011        May  44.920116\n",
              "..    ...        ...        ...\n",
              "127  2021     August  74.129358\n",
              "128  2021  September  73.557413\n",
              "129  2021    October  74.891074\n",
              "130  2021   November  74.467617\n",
              "131  2021   December  75.376877\n",
              "\n",
              "[132 rows x 3 columns]"
            ],
            "text/html": [
              "\n",
              "  <div id=\"df-baae7a32-5546-4b7d-9ea1-3e83d9d3af22\">\n",
              "    <div class=\"colab-df-container\">\n",
              "      <div>\n",
              "<style scoped>\n",
              "    .dataframe tbody tr th:only-of-type {\n",
              "        vertical-align: middle;\n",
              "    }\n",
              "\n",
              "    .dataframe tbody tr th {\n",
              "        vertical-align: top;\n",
              "    }\n",
              "\n",
              "    .dataframe thead th {\n",
              "        text-align: right;\n",
              "    }\n",
              "</style>\n",
              "<table border=\"1\" class=\"dataframe\">\n",
              "  <thead>\n",
              "    <tr style=\"text-align: right;\">\n",
              "      <th></th>\n",
              "      <th>Year</th>\n",
              "      <th>Month</th>\n",
              "      <th>INR</th>\n",
              "    </tr>\n",
              "  </thead>\n",
              "  <tbody>\n",
              "    <tr>\n",
              "      <th>0</th>\n",
              "      <td>2011</td>\n",
              "      <td>January</td>\n",
              "      <td>45.430458</td>\n",
              "    </tr>\n",
              "    <tr>\n",
              "      <th>1</th>\n",
              "      <td>2011</td>\n",
              "      <td>February</td>\n",
              "      <td>45.440321</td>\n",
              "    </tr>\n",
              "    <tr>\n",
              "      <th>2</th>\n",
              "      <td>2011</td>\n",
              "      <td>March</td>\n",
              "      <td>44.973729</td>\n",
              "    </tr>\n",
              "    <tr>\n",
              "      <th>3</th>\n",
              "      <td>2011</td>\n",
              "      <td>April</td>\n",
              "      <td>44.368860</td>\n",
              "    </tr>\n",
              "    <tr>\n",
              "      <th>4</th>\n",
              "      <td>2011</td>\n",
              "      <td>May</td>\n",
              "      <td>44.920116</td>\n",
              "    </tr>\n",
              "    <tr>\n",
              "      <th>...</th>\n",
              "      <td>...</td>\n",
              "      <td>...</td>\n",
              "      <td>...</td>\n",
              "    </tr>\n",
              "    <tr>\n",
              "      <th>127</th>\n",
              "      <td>2021</td>\n",
              "      <td>August</td>\n",
              "      <td>74.129358</td>\n",
              "    </tr>\n",
              "    <tr>\n",
              "      <th>128</th>\n",
              "      <td>2021</td>\n",
              "      <td>September</td>\n",
              "      <td>73.557413</td>\n",
              "    </tr>\n",
              "    <tr>\n",
              "      <th>129</th>\n",
              "      <td>2021</td>\n",
              "      <td>October</td>\n",
              "      <td>74.891074</td>\n",
              "    </tr>\n",
              "    <tr>\n",
              "      <th>130</th>\n",
              "      <td>2021</td>\n",
              "      <td>November</td>\n",
              "      <td>74.467617</td>\n",
              "    </tr>\n",
              "    <tr>\n",
              "      <th>131</th>\n",
              "      <td>2021</td>\n",
              "      <td>December</td>\n",
              "      <td>75.376877</td>\n",
              "    </tr>\n",
              "  </tbody>\n",
              "</table>\n",
              "<p>132 rows × 3 columns</p>\n",
              "</div>\n",
              "      <button class=\"colab-df-convert\" onclick=\"convertToInteractive('df-baae7a32-5546-4b7d-9ea1-3e83d9d3af22')\"\n",
              "              title=\"Convert this dataframe to an interactive table.\"\n",
              "              style=\"display:none;\">\n",
              "        \n",
              "  <svg xmlns=\"http://www.w3.org/2000/svg\" height=\"24px\"viewBox=\"0 0 24 24\"\n",
              "       width=\"24px\">\n",
              "    <path d=\"M0 0h24v24H0V0z\" fill=\"none\"/>\n",
              "    <path d=\"M18.56 5.44l.94 2.06.94-2.06 2.06-.94-2.06-.94-.94-2.06-.94 2.06-2.06.94zm-11 1L8.5 8.5l.94-2.06 2.06-.94-2.06-.94L8.5 2.5l-.94 2.06-2.06.94zm10 10l.94 2.06.94-2.06 2.06-.94-2.06-.94-.94-2.06-.94 2.06-2.06.94z\"/><path d=\"M17.41 7.96l-1.37-1.37c-.4-.4-.92-.59-1.43-.59-.52 0-1.04.2-1.43.59L10.3 9.45l-7.72 7.72c-.78.78-.78 2.05 0 2.83L4 21.41c.39.39.9.59 1.41.59.51 0 1.02-.2 1.41-.59l7.78-7.78 2.81-2.81c.8-.78.8-2.07 0-2.86zM5.41 20L4 18.59l7.72-7.72 1.47 1.35L5.41 20z\"/>\n",
              "  </svg>\n",
              "      </button>\n",
              "      \n",
              "  <style>\n",
              "    .colab-df-container {\n",
              "      display:flex;\n",
              "      flex-wrap:wrap;\n",
              "      gap: 12px;\n",
              "    }\n",
              "\n",
              "    .colab-df-convert {\n",
              "      background-color: #E8F0FE;\n",
              "      border: none;\n",
              "      border-radius: 50%;\n",
              "      cursor: pointer;\n",
              "      display: none;\n",
              "      fill: #1967D2;\n",
              "      height: 32px;\n",
              "      padding: 0 0 0 0;\n",
              "      width: 32px;\n",
              "    }\n",
              "\n",
              "    .colab-df-convert:hover {\n",
              "      background-color: #E2EBFA;\n",
              "      box-shadow: 0px 1px 2px rgba(60, 64, 67, 0.3), 0px 1px 3px 1px rgba(60, 64, 67, 0.15);\n",
              "      fill: #174EA6;\n",
              "    }\n",
              "\n",
              "    [theme=dark] .colab-df-convert {\n",
              "      background-color: #3B4455;\n",
              "      fill: #D2E3FC;\n",
              "    }\n",
              "\n",
              "    [theme=dark] .colab-df-convert:hover {\n",
              "      background-color: #434B5C;\n",
              "      box-shadow: 0px 1px 3px 1px rgba(0, 0, 0, 0.15);\n",
              "      filter: drop-shadow(0px 1px 2px rgba(0, 0, 0, 0.3));\n",
              "      fill: #FFFFFF;\n",
              "    }\n",
              "  </style>\n",
              "\n",
              "      <script>\n",
              "        const buttonEl =\n",
              "          document.querySelector('#df-baae7a32-5546-4b7d-9ea1-3e83d9d3af22 button.colab-df-convert');\n",
              "        buttonEl.style.display =\n",
              "          google.colab.kernel.accessAllowed ? 'block' : 'none';\n",
              "\n",
              "        async function convertToInteractive(key) {\n",
              "          const element = document.querySelector('#df-baae7a32-5546-4b7d-9ea1-3e83d9d3af22');\n",
              "          const dataTable =\n",
              "            await google.colab.kernel.invokeFunction('convertToInteractive',\n",
              "                                                     [key], {});\n",
              "          if (!dataTable) return;\n",
              "\n",
              "          const docLinkHtml = 'Like what you see? Visit the ' +\n",
              "            '<a target=\"_blank\" href=https://colab.research.google.com/notebooks/data_table.ipynb>data table notebook</a>'\n",
              "            + ' to learn more about interactive tables.';\n",
              "          element.innerHTML = '';\n",
              "          dataTable['output_type'] = 'display_data';\n",
              "          await google.colab.output.renderOutput(dataTable, element);\n",
              "          const docLink = document.createElement('div');\n",
              "          docLink.innerHTML = docLinkHtml;\n",
              "          element.appendChild(docLink);\n",
              "        }\n",
              "      </script>\n",
              "    </div>\n",
              "  </div>\n",
              "  "
            ]
          },
          "metadata": {},
          "execution_count": 137
        }
      ]
    },
    {
      "cell_type": "code",
      "source": [
        "df_final[\"Price\"] = df_final[\"Price\"].astype(float)"
      ],
      "metadata": {
        "id": "ODZltbq2iNVx"
      },
      "execution_count": 138,
      "outputs": []
    },
    {
      "cell_type": "code",
      "source": [
        "df_final1 = pd.merge(df_final,df_exc, on=['Year','Month'])\n",
        "df_final1[\"Std_Price\"] = df_final1[\"Price\"]/df_final1[\"INR\"]\n",
        "df_final1 = df_final1.drop(columns = ([\"Price\",\"INR\"]))"
      ],
      "metadata": {
        "id": "EYYWjxptOX2w"
      },
      "execution_count": 139,
      "outputs": []
    },
    {
      "cell_type": "code",
      "source": [
        "df_final1.head(10)"
      ],
      "metadata": {
        "colab": {
          "base_uri": "https://localhost:8080/",
          "height": 601
        },
        "id": "S3_NGvetPKoN",
        "outputId": "47991033-e21e-458d-f4ef-581e399a97cb"
      },
      "execution_count": 140,
      "outputs": [
        {
          "output_type": "execute_result",
          "data": {
            "text/plain": [
              "   Year    Month ALLSKY_SFC_PAR_TOT CLOUD_AMT GWETPROF GWETROOT GWETTOP  \\\n",
              "0  2011  January              93.48     29.55     0.68     0.69    0.68   \n",
              "1  2011  January              93.48     29.55     0.68     0.69    0.68   \n",
              "2  2011  January              93.48     29.55     0.68     0.69    0.68   \n",
              "3  2011  January              93.48     29.55     0.68     0.69    0.68   \n",
              "4  2011  January              93.48     29.55     0.68     0.69    0.68   \n",
              "5  2011  January              93.48     29.55     0.68     0.69    0.68   \n",
              "6  2011  January              93.48     29.55     0.68     0.69    0.68   \n",
              "7  2011  January              93.48     29.55     0.68     0.69    0.68   \n",
              "8  2011  January              93.48     29.55     0.68     0.69    0.68   \n",
              "9  2011  January              60.62     39.52     0.68     0.66    0.66   \n",
              "\n",
              "  PRECTOTCORR   QV2M T2MDEW T2M_MAX T2M_MIN WS2M_MAX WS2M_MIN           State  \\\n",
              "0        0.01  13.24  18.41    29.9   14.91     5.29      0.2  Andhra Pradesh   \n",
              "1        0.01  13.24  18.41    29.9   14.91     5.29      0.2  Andhra Pradesh   \n",
              "2        0.01  13.24  18.41    29.9   14.91     5.29      0.2  Andhra Pradesh   \n",
              "3        0.01  13.24  18.41    29.9   14.91     5.29      0.2  Andhra Pradesh   \n",
              "4        0.01  13.24  18.41    29.9   14.91     5.29      0.2  Andhra Pradesh   \n",
              "5        0.01  13.24  18.41    29.9   14.91     5.29      0.2  Andhra Pradesh   \n",
              "6        0.01  13.24  18.41    29.9   14.91     5.29      0.2  Andhra Pradesh   \n",
              "7        0.01  13.24  18.41    29.9   14.91     5.29      0.2  Andhra Pradesh   \n",
              "8        0.01  13.24  18.41    29.9   14.91     5.29      0.2  Andhra Pradesh   \n",
              "9        0.48   7.81  10.05   24.02    7.31     0.91     0.02           Assam   \n",
              "\n",
              "     Crop_Variety  Std_Price  \n",
              "0    BITTER GOURD  27.052336  \n",
              "1    BRINJAL LONG  33.630925  \n",
              "2     CAULIFLOWER  19.898545  \n",
              "3          CHILLY  27.140382  \n",
              "4            OKRA  33.941987  \n",
              "5           ONION  63.283535  \n",
              "6            PEAS  33.630925  \n",
              "7   TOMATO HYBRID  30.486155  \n",
              "8    TOMATO LOCAL  33.017497  \n",
              "9    BITTER GOURD  33.630925  "
            ],
            "text/html": [
              "\n",
              "  <div id=\"df-dc7b1503-0a09-41ae-8b82-6a32033523c5\">\n",
              "    <div class=\"colab-df-container\">\n",
              "      <div>\n",
              "<style scoped>\n",
              "    .dataframe tbody tr th:only-of-type {\n",
              "        vertical-align: middle;\n",
              "    }\n",
              "\n",
              "    .dataframe tbody tr th {\n",
              "        vertical-align: top;\n",
              "    }\n",
              "\n",
              "    .dataframe thead th {\n",
              "        text-align: right;\n",
              "    }\n",
              "</style>\n",
              "<table border=\"1\" class=\"dataframe\">\n",
              "  <thead>\n",
              "    <tr style=\"text-align: right;\">\n",
              "      <th></th>\n",
              "      <th>Year</th>\n",
              "      <th>Month</th>\n",
              "      <th>ALLSKY_SFC_PAR_TOT</th>\n",
              "      <th>CLOUD_AMT</th>\n",
              "      <th>GWETPROF</th>\n",
              "      <th>GWETROOT</th>\n",
              "      <th>GWETTOP</th>\n",
              "      <th>PRECTOTCORR</th>\n",
              "      <th>QV2M</th>\n",
              "      <th>T2MDEW</th>\n",
              "      <th>T2M_MAX</th>\n",
              "      <th>T2M_MIN</th>\n",
              "      <th>WS2M_MAX</th>\n",
              "      <th>WS2M_MIN</th>\n",
              "      <th>State</th>\n",
              "      <th>Crop_Variety</th>\n",
              "      <th>Std_Price</th>\n",
              "    </tr>\n",
              "  </thead>\n",
              "  <tbody>\n",
              "    <tr>\n",
              "      <th>0</th>\n",
              "      <td>2011</td>\n",
              "      <td>January</td>\n",
              "      <td>93.48</td>\n",
              "      <td>29.55</td>\n",
              "      <td>0.68</td>\n",
              "      <td>0.69</td>\n",
              "      <td>0.68</td>\n",
              "      <td>0.01</td>\n",
              "      <td>13.24</td>\n",
              "      <td>18.41</td>\n",
              "      <td>29.9</td>\n",
              "      <td>14.91</td>\n",
              "      <td>5.29</td>\n",
              "      <td>0.2</td>\n",
              "      <td>Andhra Pradesh</td>\n",
              "      <td>BITTER GOURD</td>\n",
              "      <td>27.052336</td>\n",
              "    </tr>\n",
              "    <tr>\n",
              "      <th>1</th>\n",
              "      <td>2011</td>\n",
              "      <td>January</td>\n",
              "      <td>93.48</td>\n",
              "      <td>29.55</td>\n",
              "      <td>0.68</td>\n",
              "      <td>0.69</td>\n",
              "      <td>0.68</td>\n",
              "      <td>0.01</td>\n",
              "      <td>13.24</td>\n",
              "      <td>18.41</td>\n",
              "      <td>29.9</td>\n",
              "      <td>14.91</td>\n",
              "      <td>5.29</td>\n",
              "      <td>0.2</td>\n",
              "      <td>Andhra Pradesh</td>\n",
              "      <td>BRINJAL LONG</td>\n",
              "      <td>33.630925</td>\n",
              "    </tr>\n",
              "    <tr>\n",
              "      <th>2</th>\n",
              "      <td>2011</td>\n",
              "      <td>January</td>\n",
              "      <td>93.48</td>\n",
              "      <td>29.55</td>\n",
              "      <td>0.68</td>\n",
              "      <td>0.69</td>\n",
              "      <td>0.68</td>\n",
              "      <td>0.01</td>\n",
              "      <td>13.24</td>\n",
              "      <td>18.41</td>\n",
              "      <td>29.9</td>\n",
              "      <td>14.91</td>\n",
              "      <td>5.29</td>\n",
              "      <td>0.2</td>\n",
              "      <td>Andhra Pradesh</td>\n",
              "      <td>CAULIFLOWER</td>\n",
              "      <td>19.898545</td>\n",
              "    </tr>\n",
              "    <tr>\n",
              "      <th>3</th>\n",
              "      <td>2011</td>\n",
              "      <td>January</td>\n",
              "      <td>93.48</td>\n",
              "      <td>29.55</td>\n",
              "      <td>0.68</td>\n",
              "      <td>0.69</td>\n",
              "      <td>0.68</td>\n",
              "      <td>0.01</td>\n",
              "      <td>13.24</td>\n",
              "      <td>18.41</td>\n",
              "      <td>29.9</td>\n",
              "      <td>14.91</td>\n",
              "      <td>5.29</td>\n",
              "      <td>0.2</td>\n",
              "      <td>Andhra Pradesh</td>\n",
              "      <td>CHILLY</td>\n",
              "      <td>27.140382</td>\n",
              "    </tr>\n",
              "    <tr>\n",
              "      <th>4</th>\n",
              "      <td>2011</td>\n",
              "      <td>January</td>\n",
              "      <td>93.48</td>\n",
              "      <td>29.55</td>\n",
              "      <td>0.68</td>\n",
              "      <td>0.69</td>\n",
              "      <td>0.68</td>\n",
              "      <td>0.01</td>\n",
              "      <td>13.24</td>\n",
              "      <td>18.41</td>\n",
              "      <td>29.9</td>\n",
              "      <td>14.91</td>\n",
              "      <td>5.29</td>\n",
              "      <td>0.2</td>\n",
              "      <td>Andhra Pradesh</td>\n",
              "      <td>OKRA</td>\n",
              "      <td>33.941987</td>\n",
              "    </tr>\n",
              "    <tr>\n",
              "      <th>5</th>\n",
              "      <td>2011</td>\n",
              "      <td>January</td>\n",
              "      <td>93.48</td>\n",
              "      <td>29.55</td>\n",
              "      <td>0.68</td>\n",
              "      <td>0.69</td>\n",
              "      <td>0.68</td>\n",
              "      <td>0.01</td>\n",
              "      <td>13.24</td>\n",
              "      <td>18.41</td>\n",
              "      <td>29.9</td>\n",
              "      <td>14.91</td>\n",
              "      <td>5.29</td>\n",
              "      <td>0.2</td>\n",
              "      <td>Andhra Pradesh</td>\n",
              "      <td>ONION</td>\n",
              "      <td>63.283535</td>\n",
              "    </tr>\n",
              "    <tr>\n",
              "      <th>6</th>\n",
              "      <td>2011</td>\n",
              "      <td>January</td>\n",
              "      <td>93.48</td>\n",
              "      <td>29.55</td>\n",
              "      <td>0.68</td>\n",
              "      <td>0.69</td>\n",
              "      <td>0.68</td>\n",
              "      <td>0.01</td>\n",
              "      <td>13.24</td>\n",
              "      <td>18.41</td>\n",
              "      <td>29.9</td>\n",
              "      <td>14.91</td>\n",
              "      <td>5.29</td>\n",
              "      <td>0.2</td>\n",
              "      <td>Andhra Pradesh</td>\n",
              "      <td>PEAS</td>\n",
              "      <td>33.630925</td>\n",
              "    </tr>\n",
              "    <tr>\n",
              "      <th>7</th>\n",
              "      <td>2011</td>\n",
              "      <td>January</td>\n",
              "      <td>93.48</td>\n",
              "      <td>29.55</td>\n",
              "      <td>0.68</td>\n",
              "      <td>0.69</td>\n",
              "      <td>0.68</td>\n",
              "      <td>0.01</td>\n",
              "      <td>13.24</td>\n",
              "      <td>18.41</td>\n",
              "      <td>29.9</td>\n",
              "      <td>14.91</td>\n",
              "      <td>5.29</td>\n",
              "      <td>0.2</td>\n",
              "      <td>Andhra Pradesh</td>\n",
              "      <td>TOMATO HYBRID</td>\n",
              "      <td>30.486155</td>\n",
              "    </tr>\n",
              "    <tr>\n",
              "      <th>8</th>\n",
              "      <td>2011</td>\n",
              "      <td>January</td>\n",
              "      <td>93.48</td>\n",
              "      <td>29.55</td>\n",
              "      <td>0.68</td>\n",
              "      <td>0.69</td>\n",
              "      <td>0.68</td>\n",
              "      <td>0.01</td>\n",
              "      <td>13.24</td>\n",
              "      <td>18.41</td>\n",
              "      <td>29.9</td>\n",
              "      <td>14.91</td>\n",
              "      <td>5.29</td>\n",
              "      <td>0.2</td>\n",
              "      <td>Andhra Pradesh</td>\n",
              "      <td>TOMATO LOCAL</td>\n",
              "      <td>33.017497</td>\n",
              "    </tr>\n",
              "    <tr>\n",
              "      <th>9</th>\n",
              "      <td>2011</td>\n",
              "      <td>January</td>\n",
              "      <td>60.62</td>\n",
              "      <td>39.52</td>\n",
              "      <td>0.68</td>\n",
              "      <td>0.66</td>\n",
              "      <td>0.66</td>\n",
              "      <td>0.48</td>\n",
              "      <td>7.81</td>\n",
              "      <td>10.05</td>\n",
              "      <td>24.02</td>\n",
              "      <td>7.31</td>\n",
              "      <td>0.91</td>\n",
              "      <td>0.02</td>\n",
              "      <td>Assam</td>\n",
              "      <td>BITTER GOURD</td>\n",
              "      <td>33.630925</td>\n",
              "    </tr>\n",
              "  </tbody>\n",
              "</table>\n",
              "</div>\n",
              "      <button class=\"colab-df-convert\" onclick=\"convertToInteractive('df-dc7b1503-0a09-41ae-8b82-6a32033523c5')\"\n",
              "              title=\"Convert this dataframe to an interactive table.\"\n",
              "              style=\"display:none;\">\n",
              "        \n",
              "  <svg xmlns=\"http://www.w3.org/2000/svg\" height=\"24px\"viewBox=\"0 0 24 24\"\n",
              "       width=\"24px\">\n",
              "    <path d=\"M0 0h24v24H0V0z\" fill=\"none\"/>\n",
              "    <path d=\"M18.56 5.44l.94 2.06.94-2.06 2.06-.94-2.06-.94-.94-2.06-.94 2.06-2.06.94zm-11 1L8.5 8.5l.94-2.06 2.06-.94-2.06-.94L8.5 2.5l-.94 2.06-2.06.94zm10 10l.94 2.06.94-2.06 2.06-.94-2.06-.94-.94-2.06-.94 2.06-2.06.94z\"/><path d=\"M17.41 7.96l-1.37-1.37c-.4-.4-.92-.59-1.43-.59-.52 0-1.04.2-1.43.59L10.3 9.45l-7.72 7.72c-.78.78-.78 2.05 0 2.83L4 21.41c.39.39.9.59 1.41.59.51 0 1.02-.2 1.41-.59l7.78-7.78 2.81-2.81c.8-.78.8-2.07 0-2.86zM5.41 20L4 18.59l7.72-7.72 1.47 1.35L5.41 20z\"/>\n",
              "  </svg>\n",
              "      </button>\n",
              "      \n",
              "  <style>\n",
              "    .colab-df-container {\n",
              "      display:flex;\n",
              "      flex-wrap:wrap;\n",
              "      gap: 12px;\n",
              "    }\n",
              "\n",
              "    .colab-df-convert {\n",
              "      background-color: #E8F0FE;\n",
              "      border: none;\n",
              "      border-radius: 50%;\n",
              "      cursor: pointer;\n",
              "      display: none;\n",
              "      fill: #1967D2;\n",
              "      height: 32px;\n",
              "      padding: 0 0 0 0;\n",
              "      width: 32px;\n",
              "    }\n",
              "\n",
              "    .colab-df-convert:hover {\n",
              "      background-color: #E2EBFA;\n",
              "      box-shadow: 0px 1px 2px rgba(60, 64, 67, 0.3), 0px 1px 3px 1px rgba(60, 64, 67, 0.15);\n",
              "      fill: #174EA6;\n",
              "    }\n",
              "\n",
              "    [theme=dark] .colab-df-convert {\n",
              "      background-color: #3B4455;\n",
              "      fill: #D2E3FC;\n",
              "    }\n",
              "\n",
              "    [theme=dark] .colab-df-convert:hover {\n",
              "      background-color: #434B5C;\n",
              "      box-shadow: 0px 1px 3px 1px rgba(0, 0, 0, 0.15);\n",
              "      filter: drop-shadow(0px 1px 2px rgba(0, 0, 0, 0.3));\n",
              "      fill: #FFFFFF;\n",
              "    }\n",
              "  </style>\n",
              "\n",
              "      <script>\n",
              "        const buttonEl =\n",
              "          document.querySelector('#df-dc7b1503-0a09-41ae-8b82-6a32033523c5 button.colab-df-convert');\n",
              "        buttonEl.style.display =\n",
              "          google.colab.kernel.accessAllowed ? 'block' : 'none';\n",
              "\n",
              "        async function convertToInteractive(key) {\n",
              "          const element = document.querySelector('#df-dc7b1503-0a09-41ae-8b82-6a32033523c5');\n",
              "          const dataTable =\n",
              "            await google.colab.kernel.invokeFunction('convertToInteractive',\n",
              "                                                     [key], {});\n",
              "          if (!dataTable) return;\n",
              "\n",
              "          const docLinkHtml = 'Like what you see? Visit the ' +\n",
              "            '<a target=\"_blank\" href=https://colab.research.google.com/notebooks/data_table.ipynb>data table notebook</a>'\n",
              "            + ' to learn more about interactive tables.';\n",
              "          element.innerHTML = '';\n",
              "          dataTable['output_type'] = 'display_data';\n",
              "          await google.colab.output.renderOutput(dataTable, element);\n",
              "          const docLink = document.createElement('div');\n",
              "          docLink.innerHTML = docLinkHtml;\n",
              "          element.appendChild(docLink);\n",
              "        }\n",
              "      </script>\n",
              "    </div>\n",
              "  </div>\n",
              "  "
            ]
          },
          "metadata": {},
          "execution_count": 140
        }
      ]
    },
    {
      "cell_type": "code",
      "source": [
        "df_final1.isnull().sum()"
      ],
      "metadata": {
        "colab": {
          "base_uri": "https://localhost:8080/"
        },
        "id": "vJWqREnlSNiX",
        "outputId": "5fb54e42-09a9-4cfc-8873-16aaf551320c"
      },
      "execution_count": 141,
      "outputs": [
        {
          "output_type": "execute_result",
          "data": {
            "text/plain": [
              "Year                  0\n",
              "Month                 0\n",
              "ALLSKY_SFC_PAR_TOT    0\n",
              "CLOUD_AMT             0\n",
              "GWETPROF              0\n",
              "GWETROOT              0\n",
              "GWETTOP               0\n",
              "PRECTOTCORR           0\n",
              "QV2M                  0\n",
              "T2MDEW                0\n",
              "T2M_MAX               0\n",
              "T2M_MIN               0\n",
              "WS2M_MAX              0\n",
              "WS2M_MIN              0\n",
              "State                 0\n",
              "Crop_Variety          0\n",
              "Std_Price             0\n",
              "dtype: int64"
            ]
          },
          "metadata": {},
          "execution_count": 141
        }
      ]
    },
    {
      "cell_type": "code",
      "source": [
        "df_final1.describe()"
      ],
      "metadata": {
        "colab": {
          "base_uri": "https://localhost:8080/",
          "height": 300
        },
        "id": "cRGpxML-TjZ6",
        "outputId": "37151431-01de-4941-97e9-b0da2b066976"
      },
      "execution_count": 142,
      "outputs": [
        {
          "output_type": "execute_result",
          "data": {
            "text/plain": [
              "               Year     Std_Price\n",
              "count  28680.000000  28680.000000\n",
              "mean    2015.601674     30.952479\n",
              "std        2.841229     18.559888\n",
              "min     2011.000000      2.779224\n",
              "25%     2013.000000     19.517740\n",
              "50%     2016.000000     26.430467\n",
              "75%     2018.000000     37.329424\n",
              "max     2020.000000    265.800602"
            ],
            "text/html": [
              "\n",
              "  <div id=\"df-e68a6d85-e222-42b9-9b53-cf1eb988fc2e\">\n",
              "    <div class=\"colab-df-container\">\n",
              "      <div>\n",
              "<style scoped>\n",
              "    .dataframe tbody tr th:only-of-type {\n",
              "        vertical-align: middle;\n",
              "    }\n",
              "\n",
              "    .dataframe tbody tr th {\n",
              "        vertical-align: top;\n",
              "    }\n",
              "\n",
              "    .dataframe thead th {\n",
              "        text-align: right;\n",
              "    }\n",
              "</style>\n",
              "<table border=\"1\" class=\"dataframe\">\n",
              "  <thead>\n",
              "    <tr style=\"text-align: right;\">\n",
              "      <th></th>\n",
              "      <th>Year</th>\n",
              "      <th>Std_Price</th>\n",
              "    </tr>\n",
              "  </thead>\n",
              "  <tbody>\n",
              "    <tr>\n",
              "      <th>count</th>\n",
              "      <td>28680.000000</td>\n",
              "      <td>28680.000000</td>\n",
              "    </tr>\n",
              "    <tr>\n",
              "      <th>mean</th>\n",
              "      <td>2015.601674</td>\n",
              "      <td>30.952479</td>\n",
              "    </tr>\n",
              "    <tr>\n",
              "      <th>std</th>\n",
              "      <td>2.841229</td>\n",
              "      <td>18.559888</td>\n",
              "    </tr>\n",
              "    <tr>\n",
              "      <th>min</th>\n",
              "      <td>2011.000000</td>\n",
              "      <td>2.779224</td>\n",
              "    </tr>\n",
              "    <tr>\n",
              "      <th>25%</th>\n",
              "      <td>2013.000000</td>\n",
              "      <td>19.517740</td>\n",
              "    </tr>\n",
              "    <tr>\n",
              "      <th>50%</th>\n",
              "      <td>2016.000000</td>\n",
              "      <td>26.430467</td>\n",
              "    </tr>\n",
              "    <tr>\n",
              "      <th>75%</th>\n",
              "      <td>2018.000000</td>\n",
              "      <td>37.329424</td>\n",
              "    </tr>\n",
              "    <tr>\n",
              "      <th>max</th>\n",
              "      <td>2020.000000</td>\n",
              "      <td>265.800602</td>\n",
              "    </tr>\n",
              "  </tbody>\n",
              "</table>\n",
              "</div>\n",
              "      <button class=\"colab-df-convert\" onclick=\"convertToInteractive('df-e68a6d85-e222-42b9-9b53-cf1eb988fc2e')\"\n",
              "              title=\"Convert this dataframe to an interactive table.\"\n",
              "              style=\"display:none;\">\n",
              "        \n",
              "  <svg xmlns=\"http://www.w3.org/2000/svg\" height=\"24px\"viewBox=\"0 0 24 24\"\n",
              "       width=\"24px\">\n",
              "    <path d=\"M0 0h24v24H0V0z\" fill=\"none\"/>\n",
              "    <path d=\"M18.56 5.44l.94 2.06.94-2.06 2.06-.94-2.06-.94-.94-2.06-.94 2.06-2.06.94zm-11 1L8.5 8.5l.94-2.06 2.06-.94-2.06-.94L8.5 2.5l-.94 2.06-2.06.94zm10 10l.94 2.06.94-2.06 2.06-.94-2.06-.94-.94-2.06-.94 2.06-2.06.94z\"/><path d=\"M17.41 7.96l-1.37-1.37c-.4-.4-.92-.59-1.43-.59-.52 0-1.04.2-1.43.59L10.3 9.45l-7.72 7.72c-.78.78-.78 2.05 0 2.83L4 21.41c.39.39.9.59 1.41.59.51 0 1.02-.2 1.41-.59l7.78-7.78 2.81-2.81c.8-.78.8-2.07 0-2.86zM5.41 20L4 18.59l7.72-7.72 1.47 1.35L5.41 20z\"/>\n",
              "  </svg>\n",
              "      </button>\n",
              "      \n",
              "  <style>\n",
              "    .colab-df-container {\n",
              "      display:flex;\n",
              "      flex-wrap:wrap;\n",
              "      gap: 12px;\n",
              "    }\n",
              "\n",
              "    .colab-df-convert {\n",
              "      background-color: #E8F0FE;\n",
              "      border: none;\n",
              "      border-radius: 50%;\n",
              "      cursor: pointer;\n",
              "      display: none;\n",
              "      fill: #1967D2;\n",
              "      height: 32px;\n",
              "      padding: 0 0 0 0;\n",
              "      width: 32px;\n",
              "    }\n",
              "\n",
              "    .colab-df-convert:hover {\n",
              "      background-color: #E2EBFA;\n",
              "      box-shadow: 0px 1px 2px rgba(60, 64, 67, 0.3), 0px 1px 3px 1px rgba(60, 64, 67, 0.15);\n",
              "      fill: #174EA6;\n",
              "    }\n",
              "\n",
              "    [theme=dark] .colab-df-convert {\n",
              "      background-color: #3B4455;\n",
              "      fill: #D2E3FC;\n",
              "    }\n",
              "\n",
              "    [theme=dark] .colab-df-convert:hover {\n",
              "      background-color: #434B5C;\n",
              "      box-shadow: 0px 1px 3px 1px rgba(0, 0, 0, 0.15);\n",
              "      filter: drop-shadow(0px 1px 2px rgba(0, 0, 0, 0.3));\n",
              "      fill: #FFFFFF;\n",
              "    }\n",
              "  </style>\n",
              "\n",
              "      <script>\n",
              "        const buttonEl =\n",
              "          document.querySelector('#df-e68a6d85-e222-42b9-9b53-cf1eb988fc2e button.colab-df-convert');\n",
              "        buttonEl.style.display =\n",
              "          google.colab.kernel.accessAllowed ? 'block' : 'none';\n",
              "\n",
              "        async function convertToInteractive(key) {\n",
              "          const element = document.querySelector('#df-e68a6d85-e222-42b9-9b53-cf1eb988fc2e');\n",
              "          const dataTable =\n",
              "            await google.colab.kernel.invokeFunction('convertToInteractive',\n",
              "                                                     [key], {});\n",
              "          if (!dataTable) return;\n",
              "\n",
              "          const docLinkHtml = 'Like what you see? Visit the ' +\n",
              "            '<a target=\"_blank\" href=https://colab.research.google.com/notebooks/data_table.ipynb>data table notebook</a>'\n",
              "            + ' to learn more about interactive tables.';\n",
              "          element.innerHTML = '';\n",
              "          dataTable['output_type'] = 'display_data';\n",
              "          await google.colab.output.renderOutput(dataTable, element);\n",
              "          const docLink = document.createElement('div');\n",
              "          docLink.innerHTML = docLinkHtml;\n",
              "          element.appendChild(docLink);\n",
              "        }\n",
              "      </script>\n",
              "    </div>\n",
              "  </div>\n",
              "  "
            ]
          },
          "metadata": {},
          "execution_count": 142
        }
      ]
    },
    {
      "cell_type": "code",
      "source": [
        "sns.set(rc={\"figure.figsize\":(20, 10)})\n",
        "sns.countplot(data=df_final1, x='Crop_Variety', order=df_final1.Crop_Variety.value_counts().index)\n",
        "plt.savefig('save_as_a_png.png')\n",
        "#files.download(\"save_as_a_png.png\") "
      ],
      "metadata": {
        "colab": {
          "base_uri": "https://localhost:8080/",
          "height": 558
        },
        "id": "vrnAI9HloKkl",
        "outputId": "edfda7b3-b369-4f8b-f945-23f361b6724e"
      },
      "execution_count": 143,
      "outputs": [
        {
          "output_type": "display_data",
          "data": {
            "text/plain": [
              "<Figure size 1440x720 with 1 Axes>"
            ],
            "image/png": "[encoded data removed]"
          },
          "metadata": {}
        }
      ]
    },
    {
      "cell_type": "code",
      "source": [
        "df_vis =pd.DataFrame()\n",
        "df_final1[['Crop_Variety','Year','Std_Price']].groupby(['Crop_Variety','Year']).mean()"
      ],
      "metadata": {
        "id": "Sp287m0apE8g",
        "colab": {
          "base_uri": "https://localhost:8080/",
          "height": 455
        },
        "outputId": "0dc95aae-3666-4f49-cf30-9462fa0aa0b0"
      },
      "execution_count": 144,
      "outputs": [
        {
          "output_type": "execute_result",
          "data": {
            "text/plain": [
              "                    Std_Price\n",
              "Crop_Variety  Year           \n",
              " BITTER GOURD 2011  32.943086\n",
              "              2012  34.052499\n",
              "              2013  37.840632\n",
              "              2014  37.264114\n",
              "              2015  37.107535\n",
              "...                       ...\n",
              " TOMATO LOCAL 2016  22.100153\n",
              "              2017  25.643279\n",
              "              2018  19.536327\n",
              "              2019  23.883158\n",
              "              2020  22.079388\n",
              "\n",
              "[97 rows x 1 columns]"
            ],
            "text/html": [
              "\n",
              "  <div id=\"df-671a0c6e-fb0a-4676-80e6-24d82f3ff4b9\">\n",
              "    <div class=\"colab-df-container\">\n",
              "      <div>\n",
              "<style scoped>\n",
              "    .dataframe tbody tr th:only-of-type {\n",
              "        vertical-align: middle;\n",
              "    }\n",
              "\n",
              "    .dataframe tbody tr th {\n",
              "        vertical-align: top;\n",
              "    }\n",
              "\n",
              "    .dataframe thead th {\n",
              "        text-align: right;\n",
              "    }\n",
              "</style>\n",
              "<table border=\"1\" class=\"dataframe\">\n",
              "  <thead>\n",
              "    <tr style=\"text-align: right;\">\n",
              "      <th></th>\n",
              "      <th></th>\n",
              "      <th>Std_Price</th>\n",
              "    </tr>\n",
              "    <tr>\n",
              "      <th>Crop_Variety</th>\n",
              "      <th>Year</th>\n",
              "      <th></th>\n",
              "    </tr>\n",
              "  </thead>\n",
              "  <tbody>\n",
              "    <tr>\n",
              "      <th rowspan=\"5\" valign=\"top\">BITTER GOURD</th>\n",
              "      <th>2011</th>\n",
              "      <td>32.943086</td>\n",
              "    </tr>\n",
              "    <tr>\n",
              "      <th>2012</th>\n",
              "      <td>34.052499</td>\n",
              "    </tr>\n",
              "    <tr>\n",
              "      <th>2013</th>\n",
              "      <td>37.840632</td>\n",
              "    </tr>\n",
              "    <tr>\n",
              "      <th>2014</th>\n",
              "      <td>37.264114</td>\n",
              "    </tr>\n",
              "    <tr>\n",
              "      <th>2015</th>\n",
              "      <td>37.107535</td>\n",
              "    </tr>\n",
              "    <tr>\n",
              "      <th>...</th>\n",
              "      <th>...</th>\n",
              "      <td>...</td>\n",
              "    </tr>\n",
              "    <tr>\n",
              "      <th rowspan=\"5\" valign=\"top\">TOMATO LOCAL</th>\n",
              "      <th>2016</th>\n",
              "      <td>22.100153</td>\n",
              "    </tr>\n",
              "    <tr>\n",
              "      <th>2017</th>\n",
              "      <td>25.643279</td>\n",
              "    </tr>\n",
              "    <tr>\n",
              "      <th>2018</th>\n",
              "      <td>19.536327</td>\n",
              "    </tr>\n",
              "    <tr>\n",
              "      <th>2019</th>\n",
              "      <td>23.883158</td>\n",
              "    </tr>\n",
              "    <tr>\n",
              "      <th>2020</th>\n",
              "      <td>22.079388</td>\n",
              "    </tr>\n",
              "  </tbody>\n",
              "</table>\n",
              "<p>97 rows × 1 columns</p>\n",
              "</div>\n",
              "      <button class=\"colab-df-convert\" onclick=\"convertToInteractive('df-671a0c6e-fb0a-4676-80e6-24d82f3ff4b9')\"\n",
              "              title=\"Convert this dataframe to an interactive table.\"\n",
              "              style=\"display:none;\">\n",
              "        \n",
              "  <svg xmlns=\"http://www.w3.org/2000/svg\" height=\"24px\"viewBox=\"0 0 24 24\"\n",
              "       width=\"24px\">\n",
              "    <path d=\"M0 0h24v24H0V0z\" fill=\"none\"/>\n",
              "    <path d=\"M18.56 5.44l.94 2.06.94-2.06 2.06-.94-2.06-.94-.94-2.06-.94 2.06-2.06.94zm-11 1L8.5 8.5l.94-2.06 2.06-.94-2.06-.94L8.5 2.5l-.94 2.06-2.06.94zm10 10l.94 2.06.94-2.06 2.06-.94-2.06-.94-.94-2.06-.94 2.06-2.06.94z\"/><path d=\"M17.41 7.96l-1.37-1.37c-.4-.4-.92-.59-1.43-.59-.52 0-1.04.2-1.43.59L10.3 9.45l-7.72 7.72c-.78.78-.78 2.05 0 2.83L4 21.41c.39.39.9.59 1.41.59.51 0 1.02-.2 1.41-.59l7.78-7.78 2.81-2.81c.8-.78.8-2.07 0-2.86zM5.41 20L4 18.59l7.72-7.72 1.47 1.35L5.41 20z\"/>\n",
              "  </svg>\n",
              "      </button>\n",
              "      \n",
              "  <style>\n",
              "    .colab-df-container {\n",
              "      display:flex;\n",
              "      flex-wrap:wrap;\n",
              "      gap: 12px;\n",
              "    }\n",
              "\n",
              "    .colab-df-convert {\n",
              "      background-color: #E8F0FE;\n",
              "      border: none;\n",
              "      border-radius: 50%;\n",
              "      cursor: pointer;\n",
              "      display: none;\n",
              "      fill: #1967D2;\n",
              "      height: 32px;\n",
              "      padding: 0 0 0 0;\n",
              "      width: 32px;\n",
              "    }\n",
              "\n",
              "    .colab-df-convert:hover {\n",
              "      background-color: #E2EBFA;\n",
              "      box-shadow: 0px 1px 2px rgba(60, 64, 67, 0.3), 0px 1px 3px 1px rgba(60, 64, 67, 0.15);\n",
              "      fill: #174EA6;\n",
              "    }\n",
              "\n",
              "    [theme=dark] .colab-df-convert {\n",
              "      background-color: #3B4455;\n",
              "      fill: #D2E3FC;\n",
              "    }\n",
              "\n",
              "    [theme=dark] .colab-df-convert:hover {\n",
              "      background-color: #434B5C;\n",
              "      box-shadow: 0px 1px 3px 1px rgba(0, 0, 0, 0.15);\n",
              "      filter: drop-shadow(0px 1px 2px rgba(0, 0, 0, 0.3));\n",
              "      fill: #FFFFFF;\n",
              "    }\n",
              "  </style>\n",
              "\n",
              "      <script>\n",
              "        const buttonEl =\n",
              "          document.querySelector('#df-671a0c6e-fb0a-4676-80e6-24d82f3ff4b9 button.colab-df-convert');\n",
              "        buttonEl.style.display =\n",
              "          google.colab.kernel.accessAllowed ? 'block' : 'none';\n",
              "\n",
              "        async function convertToInteractive(key) {\n",
              "          const element = document.querySelector('#df-671a0c6e-fb0a-4676-80e6-24d82f3ff4b9');\n",
              "          const dataTable =\n",
              "            await google.colab.kernel.invokeFunction('convertToInteractive',\n",
              "                                                     [key], {});\n",
              "          if (!dataTable) return;\n",
              "\n",
              "          const docLinkHtml = 'Like what you see? Visit the ' +\n",
              "            '<a target=\"_blank\" href=https://colab.research.google.com/notebooks/data_table.ipynb>data table notebook</a>'\n",
              "            + ' to learn more about interactive tables.';\n",
              "          element.innerHTML = '';\n",
              "          dataTable['output_type'] = 'display_data';\n",
              "          await google.colab.output.renderOutput(dataTable, element);\n",
              "          const docLink = document.createElement('div');\n",
              "          docLink.innerHTML = docLinkHtml;\n",
              "          element.appendChild(docLink);\n",
              "        }\n",
              "      </script>\n",
              "    </div>\n",
              "  </div>\n",
              "  "
            ]
          },
          "metadata": {},
          "execution_count": 144
        }
      ]
    },
    {
      "cell_type": "code",
      "source": [
        "x= df_final1[['Crop_Variety','Year','Std_Price']].groupby(['Crop_Variety','Year']).mean().reset_index()"
      ],
      "metadata": {
        "id": "xK3r6Wij7nAj"
      },
      "execution_count": 145,
      "outputs": []
    },
    {
      "cell_type": "code",
      "source": [
        "sns.set(rc={\"figure.figsize\":(15, 10)})\n",
        "sns.pointplot(x=\"Year\", y=\"Std_Price\", hue='Crop_Variety', data=x)\n",
        "plt.savefig('save_as_a_png5.png')\n",
        "#files.download(\"save_as_a_png5.png\") "
      ],
      "metadata": {
        "colab": {
          "base_uri": "https://localhost:8080/",
          "height": 611
        },
        "id": "01BAjhn96Y2F",
        "outputId": "7ae657e9-0a1c-4600-b16c-5a5cfcb0662a"
      },
      "execution_count": 146,
      "outputs": [
        {
          "output_type": "display_data",
          "data": {
            "text/plain": [
              "<Figure size 1080x720 with 1 Axes>"
            ],
            "image/png": "[encoded data removed]"
          },
          "metadata": {}
        }
      ]
    },
    {
      "cell_type": "code",
      "source": [
        " df_final1.info()"
      ],
      "metadata": {
        "colab": {
          "base_uri": "https://localhost:8080/"
        },
        "id": "2ZrjQtHGTmX7",
        "outputId": "f752405a-84b7-4342-fe2f-79f34f1c4977"
      },
      "execution_count": 147,
      "outputs": [
        {
          "output_type": "stream",
          "name": "stdout",
          "text": [
            "<class 'pandas.core.frame.DataFrame'>\n",
            "Int64Index: 28680 entries, 0 to 28679\n",
            "Data columns (total 17 columns):\n",
            " #   Column              Non-Null Count  Dtype  \n",
            "---  ------              --------------  -----  \n",
            " 0   Year                28680 non-null  int64  \n",
            " 1   Month               28680 non-null  object \n",
            " 2   ALLSKY_SFC_PAR_TOT  28680 non-null  object \n",
            " 3   CLOUD_AMT           28680 non-null  object \n",
            " 4   GWETPROF            28680 non-null  object \n",
            " 5   GWETROOT            28680 non-null  object \n",
            " 6   GWETTOP             28680 non-null  object \n",
            " 7   PRECTOTCORR         28680 non-null  object \n",
            " 8   QV2M                28680 non-null  object \n",
            " 9   T2MDEW              28680 non-null  object \n",
            " 10  T2M_MAX             28680 non-null  object \n",
            " 11  T2M_MIN             28680 non-null  object \n",
            " 12  WS2M_MAX            28680 non-null  object \n",
            " 13  WS2M_MIN            28680 non-null  object \n",
            " 14  State               28680 non-null  object \n",
            " 15  Crop_Variety        28680 non-null  object \n",
            " 16  Std_Price           28680 non-null  float64\n",
            "dtypes: float64(1), int64(1), object(15)\n",
            "memory usage: 4.9+ MB\n"
          ]
        }
      ]
    },
    {
      "cell_type": "code",
      "source": [
        "df_final = spark.createDataFrame(df_final1)"
      ],
      "metadata": {
        "id": "W-nomlkKkmwG"
      },
      "execution_count": 148,
      "outputs": []
    },
    {
      "cell_type": "code",
      "source": [
        "df_final1.rename(columns = {'Crop_Variety':'Crop'}, inplace = True)"
      ],
      "metadata": {
        "id": "Hh8eOhtMxMBv"
      },
      "execution_count": 149,
      "outputs": []
    },
    {
      "cell_type": "code",
      "source": [
        "#df_final1.to_csv(r'/content/drive/MyDrive/Capstone/Datasets/Final_Datasets/Final_Dataset.csv', index = False) # Downloading final cleansed and merged dataset as final_Dataset in excel format."
      ],
      "metadata": {
        "id": "EZCODPLPOMo0"
      },
      "execution_count": 150,
      "outputs": []
    },
    {
      "cell_type": "code",
      "execution_count": 151,
      "metadata": {
        "id": "xoD31Fu4d9Cx"
      },
      "outputs": [],
      "source": [
        "df1 = df_final1\n",
        "list_crops = df1.Crop.unique()"
      ]
    },
    {
      "cell_type": "code",
      "execution_count": 152,
      "metadata": {
        "colab": {
          "base_uri": "https://localhost:8080/"
        },
        "id": "6kfh_SIiX9aR",
        "outputId": "7a036ffd-64d7-4870-8a46-e1fe7bee0186"
      },
      "outputs": [
        {
          "output_type": "execute_result",
          "data": {
            "text/plain": [
              "array([' BITTER GOURD', ' BRINJAL LONG', ' CAULIFLOWER', ' CHILLY',\n",
              "       ' OKRA', ' ONION', ' PEAS', ' TOMATO HYBRID', ' TOMATO LOCAL',\n",
              "       ' CABBAGE'], dtype=object)"
            ]
          },
          "metadata": {},
          "execution_count": 152
        }
      ],
      "source": [
        "list_crops"
      ]
    },
    {
      "cell_type": "code",
      "execution_count": 153,
      "metadata": {
        "id": "37Wxt9XDin06"
      },
      "outputs": [],
      "source": [
        "df1[\"Std_Price\"] = df1.Std_Price.astype(float)\n"
      ]
    },
    {
      "cell_type": "code",
      "execution_count": 154,
      "metadata": {
        "id": "oSzD0OXPCjz7"
      },
      "outputs": [],
      "source": [
        "df_final = df1.drop(columns =['Year','Month',\"State\"],axis = 1)"
      ]
    },
    {
      "cell_type": "code",
      "execution_count": 155,
      "metadata": {
        "colab": {
          "base_uri": "https://localhost:8080/",
          "height": 496
        },
        "id": "EoS_x8nVEqu6",
        "outputId": "74d27887-a66e-4445-cf38-2e4c0003ebda"
      },
      "outputs": [
        {
          "output_type": "execute_result",
          "data": {
            "text/plain": [
              "  ALLSKY_SFC_PAR_TOT CLOUD_AMT GWETPROF GWETROOT GWETTOP PRECTOTCORR   QV2M  \\\n",
              "0              93.48     29.55     0.68     0.69    0.68        0.01  13.24   \n",
              "1              93.48     29.55     0.68     0.69    0.68        0.01  13.24   \n",
              "2              93.48     29.55     0.68     0.69    0.68        0.01  13.24   \n",
              "3              93.48     29.55     0.68     0.69    0.68        0.01  13.24   \n",
              "4              93.48     29.55     0.68     0.69    0.68        0.01  13.24   \n",
              "5              93.48     29.55     0.68     0.69    0.68        0.01  13.24   \n",
              "6              93.48     29.55     0.68     0.69    0.68        0.01  13.24   \n",
              "7              93.48     29.55     0.68     0.69    0.68        0.01  13.24   \n",
              "8              93.48     29.55     0.68     0.69    0.68        0.01  13.24   \n",
              "9              60.62     39.52     0.68     0.66    0.66        0.48   7.81   \n",
              "\n",
              "  T2MDEW T2M_MAX T2M_MIN WS2M_MAX WS2M_MIN            Crop  Std_Price  \n",
              "0  18.41    29.9   14.91     5.29      0.2    BITTER GOURD  27.052336  \n",
              "1  18.41    29.9   14.91     5.29      0.2    BRINJAL LONG  33.630925  \n",
              "2  18.41    29.9   14.91     5.29      0.2     CAULIFLOWER  19.898545  \n",
              "3  18.41    29.9   14.91     5.29      0.2          CHILLY  27.140382  \n",
              "4  18.41    29.9   14.91     5.29      0.2            OKRA  33.941987  \n",
              "5  18.41    29.9   14.91     5.29      0.2           ONION  63.283535  \n",
              "6  18.41    29.9   14.91     5.29      0.2            PEAS  33.630925  \n",
              "7  18.41    29.9   14.91     5.29      0.2   TOMATO HYBRID  30.486155  \n",
              "8  18.41    29.9   14.91     5.29      0.2    TOMATO LOCAL  33.017497  \n",
              "9  10.05   24.02    7.31     0.91     0.02    BITTER GOURD  33.630925  "
            ],
            "text/html": [
              "\n",
              "  <div id=\"df-5716a6d7-bad4-4701-a9d8-b3f41e3f1343\">\n",
              "    <div class=\"colab-df-container\">\n",
              "      <div>\n",
              "<style scoped>\n",
              "    .dataframe tbody tr th:only-of-type {\n",
              "        vertical-align: middle;\n",
              "    }\n",
              "\n",
              "    .dataframe tbody tr th {\n",
              "        vertical-align: top;\n",
              "    }\n",
              "\n",
              "    .dataframe thead th {\n",
              "        text-align: right;\n",
              "    }\n",
              "</style>\n",
              "<table border=\"1\" class=\"dataframe\">\n",
              "  <thead>\n",
              "    <tr style=\"text-align: right;\">\n",
              "      <th></th>\n",
              "      <th>ALLSKY_SFC_PAR_TOT</th>\n",
              "      <th>CLOUD_AMT</th>\n",
              "      <th>GWETPROF</th>\n",
              "      <th>GWETROOT</th>\n",
              "      <th>GWETTOP</th>\n",
              "      <th>PRECTOTCORR</th>\n",
              "      <th>QV2M</th>\n",
              "      <th>T2MDEW</th>\n",
              "      <th>T2M_MAX</th>\n",
              "      <th>T2M_MIN</th>\n",
              "      <th>WS2M_MAX</th>\n",
              "      <th>WS2M_MIN</th>\n",
              "      <th>Crop</th>\n",
              "      <th>Std_Price</th>\n",
              "    </tr>\n",
              "  </thead>\n",
              "  <tbody>\n",
              "    <tr>\n",
              "      <th>0</th>\n",
              "      <td>93.48</td>\n",
              "      <td>29.55</td>\n",
              "      <td>0.68</td>\n",
              "      <td>0.69</td>\n",
              "      <td>0.68</td>\n",
              "      <td>0.01</td>\n",
              "      <td>13.24</td>\n",
              "      <td>18.41</td>\n",
              "      <td>29.9</td>\n",
              "      <td>14.91</td>\n",
              "      <td>5.29</td>\n",
              "      <td>0.2</td>\n",
              "      <td>BITTER GOURD</td>\n",
              "      <td>27.052336</td>\n",
              "    </tr>\n",
              "    <tr>\n",
              "      <th>1</th>\n",
              "      <td>93.48</td>\n",
              "      <td>29.55</td>\n",
              "      <td>0.68</td>\n",
              "      <td>0.69</td>\n",
              "      <td>0.68</td>\n",
              "      <td>0.01</td>\n",
              "      <td>13.24</td>\n",
              "      <td>18.41</td>\n",
              "      <td>29.9</td>\n",
              "      <td>14.91</td>\n",
              "      <td>5.29</td>\n",
              "      <td>0.2</td>\n",
              "      <td>BRINJAL LONG</td>\n",
              "      <td>33.630925</td>\n",
              "    </tr>\n",
              "    <tr>\n",
              "      <th>2</th>\n",
              "      <td>93.48</td>\n",
              "      <td>29.55</td>\n",
              "      <td>0.68</td>\n",
              "      <td>0.69</td>\n",
              "      <td>0.68</td>\n",
              "      <td>0.01</td>\n",
              "      <td>13.24</td>\n",
              "      <td>18.41</td>\n",
              "      <td>29.9</td>\n",
              "      <td>14.91</td>\n",
              "      <td>5.29</td>\n",
              "      <td>0.2</td>\n",
              "      <td>CAULIFLOWER</td>\n",
              "      <td>19.898545</td>\n",
              "    </tr>\n",
              "    <tr>\n",
              "      <th>3</th>\n",
              "      <td>93.48</td>\n",
              "      <td>29.55</td>\n",
              "      <td>0.68</td>\n",
              "      <td>0.69</td>\n",
              "      <td>0.68</td>\n",
              "      <td>0.01</td>\n",
              "      <td>13.24</td>\n",
              "      <td>18.41</td>\n",
              "      <td>29.9</td>\n",
              "      <td>14.91</td>\n",
              "      <td>5.29</td>\n",
              "      <td>0.2</td>\n",
              "      <td>CHILLY</td>\n",
              "      <td>27.140382</td>\n",
              "    </tr>\n",
              "    <tr>\n",
              "      <th>4</th>\n",
              "      <td>93.48</td>\n",
              "      <td>29.55</td>\n",
              "      <td>0.68</td>\n",
              "      <td>0.69</td>\n",
              "      <td>0.68</td>\n",
              "      <td>0.01</td>\n",
              "      <td>13.24</td>\n",
              "      <td>18.41</td>\n",
              "      <td>29.9</td>\n",
              "      <td>14.91</td>\n",
              "      <td>5.29</td>\n",
              "      <td>0.2</td>\n",
              "      <td>OKRA</td>\n",
              "      <td>33.941987</td>\n",
              "    </tr>\n",
              "    <tr>\n",
              "      <th>5</th>\n",
              "      <td>93.48</td>\n",
              "      <td>29.55</td>\n",
              "      <td>0.68</td>\n",
              "      <td>0.69</td>\n",
              "      <td>0.68</td>\n",
              "      <td>0.01</td>\n",
              "      <td>13.24</td>\n",
              "      <td>18.41</td>\n",
              "      <td>29.9</td>\n",
              "      <td>14.91</td>\n",
              "      <td>5.29</td>\n",
              "      <td>0.2</td>\n",
              "      <td>ONION</td>\n",
              "      <td>63.283535</td>\n",
              "    </tr>\n",
              "    <tr>\n",
              "      <th>6</th>\n",
              "      <td>93.48</td>\n",
              "      <td>29.55</td>\n",
              "      <td>0.68</td>\n",
              "      <td>0.69</td>\n",
              "      <td>0.68</td>\n",
              "      <td>0.01</td>\n",
              "      <td>13.24</td>\n",
              "      <td>18.41</td>\n",
              "      <td>29.9</td>\n",
              "      <td>14.91</td>\n",
              "      <td>5.29</td>\n",
              "      <td>0.2</td>\n",
              "      <td>PEAS</td>\n",
              "      <td>33.630925</td>\n",
              "    </tr>\n",
              "    <tr>\n",
              "      <th>7</th>\n",
              "      <td>93.48</td>\n",
              "      <td>29.55</td>\n",
              "      <td>0.68</td>\n",
              "      <td>0.69</td>\n",
              "      <td>0.68</td>\n",
              "      <td>0.01</td>\n",
              "      <td>13.24</td>\n",
              "      <td>18.41</td>\n",
              "      <td>29.9</td>\n",
              "      <td>14.91</td>\n",
              "      <td>5.29</td>\n",
              "      <td>0.2</td>\n",
              "      <td>TOMATO HYBRID</td>\n",
              "      <td>30.486155</td>\n",
              "    </tr>\n",
              "    <tr>\n",
              "      <th>8</th>\n",
              "      <td>93.48</td>\n",
              "      <td>29.55</td>\n",
              "      <td>0.68</td>\n",
              "      <td>0.69</td>\n",
              "      <td>0.68</td>\n",
              "      <td>0.01</td>\n",
              "      <td>13.24</td>\n",
              "      <td>18.41</td>\n",
              "      <td>29.9</td>\n",
              "      <td>14.91</td>\n",
              "      <td>5.29</td>\n",
              "      <td>0.2</td>\n",
              "      <td>TOMATO LOCAL</td>\n",
              "      <td>33.017497</td>\n",
              "    </tr>\n",
              "    <tr>\n",
              "      <th>9</th>\n",
              "      <td>60.62</td>\n",
              "      <td>39.52</td>\n",
              "      <td>0.68</td>\n",
              "      <td>0.66</td>\n",
              "      <td>0.66</td>\n",
              "      <td>0.48</td>\n",
              "      <td>7.81</td>\n",
              "      <td>10.05</td>\n",
              "      <td>24.02</td>\n",
              "      <td>7.31</td>\n",
              "      <td>0.91</td>\n",
              "      <td>0.02</td>\n",
              "      <td>BITTER GOURD</td>\n",
              "      <td>33.630925</td>\n",
              "    </tr>\n",
              "  </tbody>\n",
              "</table>\n",
              "</div>\n",
              "      <button class=\"colab-df-convert\" onclick=\"convertToInteractive('df-5716a6d7-bad4-4701-a9d8-b3f41e3f1343')\"\n",
              "              title=\"Convert this dataframe to an interactive table.\"\n",
              "              style=\"display:none;\">\n",
              "        \n",
              "  <svg xmlns=\"http://www.w3.org/2000/svg\" height=\"24px\"viewBox=\"0 0 24 24\"\n",
              "       width=\"24px\">\n",
              "    <path d=\"M0 0h24v24H0V0z\" fill=\"none\"/>\n",
              "    <path d=\"M18.56 5.44l.94 2.06.94-2.06 2.06-.94-2.06-.94-.94-2.06-.94 2.06-2.06.94zm-11 1L8.5 8.5l.94-2.06 2.06-.94-2.06-.94L8.5 2.5l-.94 2.06-2.06.94zm10 10l.94 2.06.94-2.06 2.06-.94-2.06-.94-.94-2.06-.94 2.06-2.06.94z\"/><path d=\"M17.41 7.96l-1.37-1.37c-.4-.4-.92-.59-1.43-.59-.52 0-1.04.2-1.43.59L10.3 9.45l-7.72 7.72c-.78.78-.78 2.05 0 2.83L4 21.41c.39.39.9.59 1.41.59.51 0 1.02-.2 1.41-.59l7.78-7.78 2.81-2.81c.8-.78.8-2.07 0-2.86zM5.41 20L4 18.59l7.72-7.72 1.47 1.35L5.41 20z\"/>\n",
              "  </svg>\n",
              "      </button>\n",
              "      \n",
              "  <style>\n",
              "    .colab-df-container {\n",
              "      display:flex;\n",
              "      flex-wrap:wrap;\n",
              "      gap: 12px;\n",
              "    }\n",
              "\n",
              "    .colab-df-convert {\n",
              "      background-color: #E8F0FE;\n",
              "      border: none;\n",
              "      border-radius: 50%;\n",
              "      cursor: pointer;\n",
              "      display: none;\n",
              "      fill: #1967D2;\n",
              "      height: 32px;\n",
              "      padding: 0 0 0 0;\n",
              "      width: 32px;\n",
              "    }\n",
              "\n",
              "    .colab-df-convert:hover {\n",
              "      background-color: #E2EBFA;\n",
              "      box-shadow: 0px 1px 2px rgba(60, 64, 67, 0.3), 0px 1px 3px 1px rgba(60, 64, 67, 0.15);\n",
              "      fill: #174EA6;\n",
              "    }\n",
              "\n",
              "    [theme=dark] .colab-df-convert {\n",
              "      background-color: #3B4455;\n",
              "      fill: #D2E3FC;\n",
              "    }\n",
              "\n",
              "    [theme=dark] .colab-df-convert:hover {\n",
              "      background-color: #434B5C;\n",
              "      box-shadow: 0px 1px 3px 1px rgba(0, 0, 0, 0.15);\n",
              "      filter: drop-shadow(0px 1px 2px rgba(0, 0, 0, 0.3));\n",
              "      fill: #FFFFFF;\n",
              "    }\n",
              "  </style>\n",
              "\n",
              "      <script>\n",
              "        const buttonEl =\n",
              "          document.querySelector('#df-5716a6d7-bad4-4701-a9d8-b3f41e3f1343 button.colab-df-convert');\n",
              "        buttonEl.style.display =\n",
              "          google.colab.kernel.accessAllowed ? 'block' : 'none';\n",
              "\n",
              "        async function convertToInteractive(key) {\n",
              "          const element = document.querySelector('#df-5716a6d7-bad4-4701-a9d8-b3f41e3f1343');\n",
              "          const dataTable =\n",
              "            await google.colab.kernel.invokeFunction('convertToInteractive',\n",
              "                                                     [key], {});\n",
              "          if (!dataTable) return;\n",
              "\n",
              "          const docLinkHtml = 'Like what you see? Visit the ' +\n",
              "            '<a target=\"_blank\" href=https://colab.research.google.com/notebooks/data_table.ipynb>data table notebook</a>'\n",
              "            + ' to learn more about interactive tables.';\n",
              "          element.innerHTML = '';\n",
              "          dataTable['output_type'] = 'display_data';\n",
              "          await google.colab.output.renderOutput(dataTable, element);\n",
              "          const docLink = document.createElement('div');\n",
              "          docLink.innerHTML = docLinkHtml;\n",
              "          element.appendChild(docLink);\n",
              "        }\n",
              "      </script>\n",
              "    </div>\n",
              "  </div>\n",
              "  "
            ]
          },
          "metadata": {},
          "execution_count": 155
        }
      ],
      "source": [
        "df_final.head(10)"
      ]
    },
    {
      "cell_type": "code",
      "source": [
        "list_crops"
      ],
      "metadata": {
        "colab": {
          "base_uri": "https://localhost:8080/"
        },
        "id": "0vBY_sXVyQq_",
        "outputId": "4417782f-fabe-4788-df9f-2d4d8d65eab9"
      },
      "execution_count": 156,
      "outputs": [
        {
          "output_type": "execute_result",
          "data": {
            "text/plain": [
              "array([' BITTER GOURD', ' BRINJAL LONG', ' CAULIFLOWER', ' CHILLY',\n",
              "       ' OKRA', ' ONION', ' PEAS', ' TOMATO HYBRID', ' TOMATO LOCAL',\n",
              "       ' CABBAGE'], dtype=object)"
            ]
          },
          "metadata": {},
          "execution_count": 156
        }
      ]
    },
    {
      "cell_type": "code",
      "source": [
        "df_final = df1.drop(columns =['Year','Month'],axis = 1)"
      ],
      "metadata": {
        "id": "TSPMm4X85t3F"
      },
      "execution_count": 157,
      "outputs": []
    },
    {
      "cell_type": "code",
      "source": [
        "df_final = df_final.drop([\"State\"],axis = 1)"
      ],
      "metadata": {
        "id": "kOYgLQz99888"
      },
      "execution_count": 158,
      "outputs": []
    },
    {
      "cell_type": "code",
      "source": [
        "df_final"
      ],
      "metadata": {
        "colab": {
          "base_uri": "https://localhost:8080/",
          "height": 540
        },
        "id": "MqzqQjRIDDnN",
        "outputId": "bcb209c6-fc51-4f72-b59c-493e72be7ed8"
      },
      "execution_count": 159,
      "outputs": [
        {
          "output_type": "execute_result",
          "data": {
            "text/plain": [
              "      ALLSKY_SFC_PAR_TOT CLOUD_AMT GWETPROF GWETROOT GWETTOP PRECTOTCORR  \\\n",
              "0                  93.48     29.55     0.68     0.69    0.68        0.01   \n",
              "1                  93.48     29.55     0.68     0.69    0.68        0.01   \n",
              "2                  93.48     29.55     0.68     0.69    0.68        0.01   \n",
              "3                  93.48     29.55     0.68     0.69    0.68        0.01   \n",
              "4                  93.48     29.55     0.68     0.69    0.68        0.01   \n",
              "...                  ...       ...      ...      ...     ...         ...   \n",
              "28675              58.88     20.76      0.6     0.61    0.64           0   \n",
              "28676              58.88     20.76      0.6     0.61    0.64           0   \n",
              "28677              58.88     20.76      0.6     0.61    0.64           0   \n",
              "28678              58.88     20.76      0.6     0.61    0.64           0   \n",
              "28679              58.88     20.76      0.6     0.61    0.64           0   \n",
              "\n",
              "        QV2M T2MDEW T2M_MAX T2M_MIN WS2M_MAX WS2M_MIN            Crop  \\\n",
              "0      13.24  18.41    29.9   14.91     5.29      0.2    BITTER GOURD   \n",
              "1      13.24  18.41    29.9   14.91     5.29      0.2    BRINJAL LONG   \n",
              "2      13.24  18.41    29.9   14.91     5.29      0.2     CAULIFLOWER   \n",
              "3      13.24  18.41    29.9   14.91     5.29      0.2          CHILLY   \n",
              "4      13.24  18.41    29.9   14.91     5.29      0.2            OKRA   \n",
              "...      ...    ...     ...     ...      ...      ...             ...   \n",
              "28675   9.09  12.46    26.4     6.3     3.31     0.07            OKRA   \n",
              "28676   9.09  12.46    26.4     6.3     3.31     0.07           ONION   \n",
              "28677   9.09  12.46    26.4     6.3     3.31     0.07            PEAS   \n",
              "28678   9.09  12.46    26.4     6.3     3.31     0.07   TOMATO HYBRID   \n",
              "28679   9.09  12.46    26.4     6.3     3.31     0.07    TOMATO LOCAL   \n",
              "\n",
              "       Std_Price  \n",
              "0      27.052336  \n",
              "1      33.630925  \n",
              "2      19.898545  \n",
              "3      27.140382  \n",
              "4      33.941987  \n",
              "...          ...  \n",
              "28675  45.495102  \n",
              "28676  46.296359  \n",
              "28677  57.215184  \n",
              "28678  36.857823  \n",
              "28679  23.029053  \n",
              "\n",
              "[28680 rows x 14 columns]"
            ],
            "text/html": [
              "\n",
              "  <div id=\"df-4df6ecb1-fc59-4ec8-8de4-de4eb8c10669\">\n",
              "    <div class=\"colab-df-container\">\n",
              "      <div>\n",
              "<style scoped>\n",
              "    .dataframe tbody tr th:only-of-type {\n",
              "        vertical-align: middle;\n",
              "    }\n",
              "\n",
              "    .dataframe tbody tr th {\n",
              "        vertical-align: top;\n",
              "    }\n",
              "\n",
              "    .dataframe thead th {\n",
              "        text-align: right;\n",
              "    }\n",
              "</style>\n",
              "<table border=\"1\" class=\"dataframe\">\n",
              "  <thead>\n",
              "    <tr style=\"text-align: right;\">\n",
              "      <th></th>\n",
              "      <th>ALLSKY_SFC_PAR_TOT</th>\n",
              "      <th>CLOUD_AMT</th>\n",
              "      <th>GWETPROF</th>\n",
              "      <th>GWETROOT</th>\n",
              "      <th>GWETTOP</th>\n",
              "      <th>PRECTOTCORR</th>\n",
              "      <th>QV2M</th>\n",
              "      <th>T2MDEW</th>\n",
              "      <th>T2M_MAX</th>\n",
              "      <th>T2M_MIN</th>\n",
              "      <th>WS2M_MAX</th>\n",
              "      <th>WS2M_MIN</th>\n",
              "      <th>Crop</th>\n",
              "      <th>Std_Price</th>\n",
              "    </tr>\n",
              "  </thead>\n",
              "  <tbody>\n",
              "    <tr>\n",
              "      <th>0</th>\n",
              "      <td>93.48</td>\n",
              "      <td>29.55</td>\n",
              "      <td>0.68</td>\n",
              "      <td>0.69</td>\n",
              "      <td>0.68</td>\n",
              "      <td>0.01</td>\n",
              "      <td>13.24</td>\n",
              "      <td>18.41</td>\n",
              "      <td>29.9</td>\n",
              "      <td>14.91</td>\n",
              "      <td>5.29</td>\n",
              "      <td>0.2</td>\n",
              "      <td>BITTER GOURD</td>\n",
              "      <td>27.052336</td>\n",
              "    </tr>\n",
              "    <tr>\n",
              "      <th>1</th>\n",
              "      <td>93.48</td>\n",
              "      <td>29.55</td>\n",
              "      <td>0.68</td>\n",
              "      <td>0.69</td>\n",
              "      <td>0.68</td>\n",
              "      <td>0.01</td>\n",
              "      <td>13.24</td>\n",
              "      <td>18.41</td>\n",
              "      <td>29.9</td>\n",
              "      <td>14.91</td>\n",
              "      <td>5.29</td>\n",
              "      <td>0.2</td>\n",
              "      <td>BRINJAL LONG</td>\n",
              "      <td>33.630925</td>\n",
              "    </tr>\n",
              "    <tr>\n",
              "      <th>2</th>\n",
              "      <td>93.48</td>\n",
              "      <td>29.55</td>\n",
              "      <td>0.68</td>\n",
              "      <td>0.69</td>\n",
              "      <td>0.68</td>\n",
              "      <td>0.01</td>\n",
              "      <td>13.24</td>\n",
              "      <td>18.41</td>\n",
              "      <td>29.9</td>\n",
              "      <td>14.91</td>\n",
              "      <td>5.29</td>\n",
              "      <td>0.2</td>\n",
              "      <td>CAULIFLOWER</td>\n",
              "      <td>19.898545</td>\n",
              "    </tr>\n",
              "    <tr>\n",
              "      <th>3</th>\n",
              "      <td>93.48</td>\n",
              "      <td>29.55</td>\n",
              "      <td>0.68</td>\n",
              "      <td>0.69</td>\n",
              "      <td>0.68</td>\n",
              "      <td>0.01</td>\n",
              "      <td>13.24</td>\n",
              "      <td>18.41</td>\n",
              "      <td>29.9</td>\n",
              "      <td>14.91</td>\n",
              "      <td>5.29</td>\n",
              "      <td>0.2</td>\n",
              "      <td>CHILLY</td>\n",
              "      <td>27.140382</td>\n",
              "    </tr>\n",
              "    <tr>\n",
              "      <th>4</th>\n",
              "      <td>93.48</td>\n",
              "      <td>29.55</td>\n",
              "      <td>0.68</td>\n",
              "      <td>0.69</td>\n",
              "      <td>0.68</td>\n",
              "      <td>0.01</td>\n",
              "      <td>13.24</td>\n",
              "      <td>18.41</td>\n",
              "      <td>29.9</td>\n",
              "      <td>14.91</td>\n",
              "      <td>5.29</td>\n",
              "      <td>0.2</td>\n",
              "      <td>OKRA</td>\n",
              "      <td>33.941987</td>\n",
              "    </tr>\n",
              "    <tr>\n",
              "      <th>...</th>\n",
              "      <td>...</td>\n",
              "      <td>...</td>\n",
              "      <td>...</td>\n",
              "      <td>...</td>\n",
              "      <td>...</td>\n",
              "      <td>...</td>\n",
              "      <td>...</td>\n",
              "      <td>...</td>\n",
              "      <td>...</td>\n",
              "      <td>...</td>\n",
              "      <td>...</td>\n",
              "      <td>...</td>\n",
              "      <td>...</td>\n",
              "      <td>...</td>\n",
              "    </tr>\n",
              "    <tr>\n",
              "      <th>28675</th>\n",
              "      <td>58.88</td>\n",
              "      <td>20.76</td>\n",
              "      <td>0.6</td>\n",
              "      <td>0.61</td>\n",
              "      <td>0.64</td>\n",
              "      <td>0</td>\n",
              "      <td>9.09</td>\n",
              "      <td>12.46</td>\n",
              "      <td>26.4</td>\n",
              "      <td>6.3</td>\n",
              "      <td>3.31</td>\n",
              "      <td>0.07</td>\n",
              "      <td>OKRA</td>\n",
              "      <td>45.495102</td>\n",
              "    </tr>\n",
              "    <tr>\n",
              "      <th>28676</th>\n",
              "      <td>58.88</td>\n",
              "      <td>20.76</td>\n",
              "      <td>0.6</td>\n",
              "      <td>0.61</td>\n",
              "      <td>0.64</td>\n",
              "      <td>0</td>\n",
              "      <td>9.09</td>\n",
              "      <td>12.46</td>\n",
              "      <td>26.4</td>\n",
              "      <td>6.3</td>\n",
              "      <td>3.31</td>\n",
              "      <td>0.07</td>\n",
              "      <td>ONION</td>\n",
              "      <td>46.296359</td>\n",
              "    </tr>\n",
              "    <tr>\n",
              "      <th>28677</th>\n",
              "      <td>58.88</td>\n",
              "      <td>20.76</td>\n",
              "      <td>0.6</td>\n",
              "      <td>0.61</td>\n",
              "      <td>0.64</td>\n",
              "      <td>0</td>\n",
              "      <td>9.09</td>\n",
              "      <td>12.46</td>\n",
              "      <td>26.4</td>\n",
              "      <td>6.3</td>\n",
              "      <td>3.31</td>\n",
              "      <td>0.07</td>\n",
              "      <td>PEAS</td>\n",
              "      <td>57.215184</td>\n",
              "    </tr>\n",
              "    <tr>\n",
              "      <th>28678</th>\n",
              "      <td>58.88</td>\n",
              "      <td>20.76</td>\n",
              "      <td>0.6</td>\n",
              "      <td>0.61</td>\n",
              "      <td>0.64</td>\n",
              "      <td>0</td>\n",
              "      <td>9.09</td>\n",
              "      <td>12.46</td>\n",
              "      <td>26.4</td>\n",
              "      <td>6.3</td>\n",
              "      <td>3.31</td>\n",
              "      <td>0.07</td>\n",
              "      <td>TOMATO HYBRID</td>\n",
              "      <td>36.857823</td>\n",
              "    </tr>\n",
              "    <tr>\n",
              "      <th>28679</th>\n",
              "      <td>58.88</td>\n",
              "      <td>20.76</td>\n",
              "      <td>0.6</td>\n",
              "      <td>0.61</td>\n",
              "      <td>0.64</td>\n",
              "      <td>0</td>\n",
              "      <td>9.09</td>\n",
              "      <td>12.46</td>\n",
              "      <td>26.4</td>\n",
              "      <td>6.3</td>\n",
              "      <td>3.31</td>\n",
              "      <td>0.07</td>\n",
              "      <td>TOMATO LOCAL</td>\n",
              "      <td>23.029053</td>\n",
              "    </tr>\n",
              "  </tbody>\n",
              "</table>\n",
              "<p>28680 rows × 14 columns</p>\n",
              "</div>\n",
              "      <button class=\"colab-df-convert\" onclick=\"convertToInteractive('df-4df6ecb1-fc59-4ec8-8de4-de4eb8c10669')\"\n",
              "              title=\"Convert this dataframe to an interactive table.\"\n",
              "              style=\"display:none;\">\n",
              "        \n",
              "  <svg xmlns=\"http://www.w3.org/2000/svg\" height=\"24px\"viewBox=\"0 0 24 24\"\n",
              "       width=\"24px\">\n",
              "    <path d=\"M0 0h24v24H0V0z\" fill=\"none\"/>\n",
              "    <path d=\"M18.56 5.44l.94 2.06.94-2.06 2.06-.94-2.06-.94-.94-2.06-.94 2.06-2.06.94zm-11 1L8.5 8.5l.94-2.06 2.06-.94-2.06-.94L8.5 2.5l-.94 2.06-2.06.94zm10 10l.94 2.06.94-2.06 2.06-.94-2.06-.94-.94-2.06-.94 2.06-2.06.94z\"/><path d=\"M17.41 7.96l-1.37-1.37c-.4-.4-.92-.59-1.43-.59-.52 0-1.04.2-1.43.59L10.3 9.45l-7.72 7.72c-.78.78-.78 2.05 0 2.83L4 21.41c.39.39.9.59 1.41.59.51 0 1.02-.2 1.41-.59l7.78-7.78 2.81-2.81c.8-.78.8-2.07 0-2.86zM5.41 20L4 18.59l7.72-7.72 1.47 1.35L5.41 20z\"/>\n",
              "  </svg>\n",
              "      </button>\n",
              "      \n",
              "  <style>\n",
              "    .colab-df-container {\n",
              "      display:flex;\n",
              "      flex-wrap:wrap;\n",
              "      gap: 12px;\n",
              "    }\n",
              "\n",
              "    .colab-df-convert {\n",
              "      background-color: #E8F0FE;\n",
              "      border: none;\n",
              "      border-radius: 50%;\n",
              "      cursor: pointer;\n",
              "      display: none;\n",
              "      fill: #1967D2;\n",
              "      height: 32px;\n",
              "      padding: 0 0 0 0;\n",
              "      width: 32px;\n",
              "    }\n",
              "\n",
              "    .colab-df-convert:hover {\n",
              "      background-color: #E2EBFA;\n",
              "      box-shadow: 0px 1px 2px rgba(60, 64, 67, 0.3), 0px 1px 3px 1px rgba(60, 64, 67, 0.15);\n",
              "      fill: #174EA6;\n",
              "    }\n",
              "\n",
              "    [theme=dark] .colab-df-convert {\n",
              "      background-color: #3B4455;\n",
              "      fill: #D2E3FC;\n",
              "    }\n",
              "\n",
              "    [theme=dark] .colab-df-convert:hover {\n",
              "      background-color: #434B5C;\n",
              "      box-shadow: 0px 1px 3px 1px rgba(0, 0, 0, 0.15);\n",
              "      filter: drop-shadow(0px 1px 2px rgba(0, 0, 0, 0.3));\n",
              "      fill: #FFFFFF;\n",
              "    }\n",
              "  </style>\n",
              "\n",
              "      <script>\n",
              "        const buttonEl =\n",
              "          document.querySelector('#df-4df6ecb1-fc59-4ec8-8de4-de4eb8c10669 button.colab-df-convert');\n",
              "        buttonEl.style.display =\n",
              "          google.colab.kernel.accessAllowed ? 'block' : 'none';\n",
              "\n",
              "        async function convertToInteractive(key) {\n",
              "          const element = document.querySelector('#df-4df6ecb1-fc59-4ec8-8de4-de4eb8c10669');\n",
              "          const dataTable =\n",
              "            await google.colab.kernel.invokeFunction('convertToInteractive',\n",
              "                                                     [key], {});\n",
              "          if (!dataTable) return;\n",
              "\n",
              "          const docLinkHtml = 'Like what you see? Visit the ' +\n",
              "            '<a target=\"_blank\" href=https://colab.research.google.com/notebooks/data_table.ipynb>data table notebook</a>'\n",
              "            + ' to learn more about interactive tables.';\n",
              "          element.innerHTML = '';\n",
              "          dataTable['output_type'] = 'display_data';\n",
              "          await google.colab.output.renderOutput(dataTable, element);\n",
              "          const docLink = document.createElement('div');\n",
              "          docLink.innerHTML = docLinkHtml;\n",
              "          element.appendChild(docLink);\n",
              "        }\n",
              "      </script>\n",
              "    </div>\n",
              "  </div>\n",
              "  "
            ]
          },
          "metadata": {},
          "execution_count": 159
        }
      ]
    },
    {
      "cell_type": "code",
      "source": [
        "# creating instance of one-hot-encoder\n",
        "enc = OneHotEncoder(handle_unknown='ignore')\n",
        "# passing bridge-types-cat column (label encoded values of bridge_types)\n",
        "enc_df = pd.DataFrame(enc.fit_transform(df_final[['Crop']]).toarray())\n",
        "# merge with main df bridge_df on key values\n",
        "df_final = df_final.join(enc_df)"
      ],
      "metadata": {
        "id": "AqZEfbCbGjs3"
      },
      "execution_count": 160,
      "outputs": []
    },
    {
      "cell_type": "code",
      "source": [
        "df_final1 = df_final.drop([\"Crop\",\"Std_Price\"],axis = 1)\n",
        "X = df_final1.values\n",
        "y = df_final[\"Std_Price\"].values\n",
        "\n",
        "\n",
        "X_train, X_test, y_train, y_test = train_test_split(X, y, test_size=0.2, random_state=0)\n",
        "\n",
        "\n",
        "\n",
        "sc = StandardScaler()\n",
        "X_train = sc.fit_transform(X_train)\n",
        "X_test = sc.transform(X_test)\n",
        "\n",
        "input_layer = Input(shape=(X.shape[1],))\n",
        "dense_layer_1 = Dense(100, activation='relu')(input_layer)\n",
        "dense_layer_2 = Dense(50, activation='relu')(dense_layer_1)\n",
        "dense_layer_3 = Dense(25, activation='relu')(dense_layer_2)\n",
        "output = Dense(1)(dense_layer_3)\n",
        "\n",
        "model = Model(inputs=input_layer, outputs=output)\n",
        "model.compile(loss=\"mean_squared_error\" , optimizer=\"adam\", metrics=[\"mean_squared_error\"])\n",
        "history = model.fit(X_train, y_train, batch_size=1, epochs=20, verbose=1, validation_split=0.2)\n",
        "\n",
        "\n",
        "pred_train = model.predict(X_train)\n",
        "print(np.sqrt(np.sqrt(mean_squared_error(y_train,pred_train))))\n",
        "#list1.append(np.sqrt(np.sqrt(mean_squared_error(y_train,pred_train))))\n",
        "pred = model.predict(X_test)\n",
        "print(np.sqrt(np.sqrt(mean_squared_error(y_test,pred))))"
      ],
      "metadata": {
        "colab": {
          "base_uri": "https://localhost:8080/"
        },
        "id": "33ikE-mEDdr8",
        "outputId": "fab71d89-6aee-4c63-a98a-2c6c709474e5"
      },
      "execution_count": 161,
      "outputs": [
        {
          "output_type": "stream",
          "name": "stdout",
          "text": [
            "Epoch 1/20\n",
            "18355/18355 [==============================] - 39s 2ms/step - loss: 279.9578 - mean_squared_error: 279.9578 - val_loss: 251.9751 - val_mean_squared_error: 251.9751\n",
            "Epoch 2/20\n",
            "18355/18355 [==============================] - 37s 2ms/step - loss: 259.7217 - mean_squared_error: 259.7217 - val_loss: 243.2158 - val_mean_squared_error: 243.2158\n",
            "Epoch 3/20\n",
            "18355/18355 [==============================] - 37s 2ms/step - loss: 252.1628 - mean_squared_error: 252.1628 - val_loss: 232.1288 - val_mean_squared_error: 232.1288\n",
            "Epoch 4/20\n",
            "18355/18355 [==============================] - 42s 2ms/step - loss: 244.9198 - mean_squared_error: 244.9198 - val_loss: 255.8232 - val_mean_squared_error: 255.8232\n",
            "Epoch 5/20\n",
            "18355/18355 [==============================] - 39s 2ms/step - loss: 239.2099 - mean_squared_error: 239.2099 - val_loss: 232.5649 - val_mean_squared_error: 232.5649\n",
            "Epoch 6/20\n",
            "18355/18355 [==============================] - 38s 2ms/step - loss: 235.8512 - mean_squared_error: 235.8512 - val_loss: 223.3927 - val_mean_squared_error: 223.3927\n",
            "Epoch 7/20\n",
            "18355/18355 [==============================] - 39s 2ms/step - loss: 230.6415 - mean_squared_error: 230.6415 - val_loss: 239.8348 - val_mean_squared_error: 239.8348\n",
            "Epoch 8/20\n",
            "18355/18355 [==============================] - 38s 2ms/step - loss: 229.6096 - mean_squared_error: 229.6096 - val_loss: 220.1693 - val_mean_squared_error: 220.1693\n",
            "Epoch 9/20\n",
            "18355/18355 [==============================] - 39s 2ms/step - loss: 224.9308 - mean_squared_error: 224.9308 - val_loss: 215.0788 - val_mean_squared_error: 215.0788\n",
            "Epoch 10/20\n",
            "18355/18355 [==============================] - 38s 2ms/step - loss: 222.9817 - mean_squared_error: 222.9817 - val_loss: 213.0829 - val_mean_squared_error: 213.0829\n",
            "Epoch 11/20\n",
            "18355/18355 [==============================] - 38s 2ms/step - loss: 219.2731 - mean_squared_error: 219.2731 - val_loss: 218.7205 - val_mean_squared_error: 218.7205\n",
            "Epoch 12/20\n",
            "18355/18355 [==============================] - 39s 2ms/step - loss: 216.0032 - mean_squared_error: 216.0032 - val_loss: 215.0526 - val_mean_squared_error: 215.0526\n",
            "Epoch 13/20\n",
            "18355/18355 [==============================] - 40s 2ms/step - loss: 214.7132 - mean_squared_error: 214.7132 - val_loss: 222.5009 - val_mean_squared_error: 222.5009\n",
            "Epoch 14/20\n",
            "18355/18355 [==============================] - 41s 2ms/step - loss: 210.6092 - mean_squared_error: 210.6092 - val_loss: 213.0566 - val_mean_squared_error: 213.0566\n",
            "Epoch 15/20\n",
            "18355/18355 [==============================] - 48s 3ms/step - loss: 208.4162 - mean_squared_error: 208.4162 - val_loss: 237.0792 - val_mean_squared_error: 237.0792\n",
            "Epoch 16/20\n",
            "18355/18355 [==============================] - 45s 2ms/step - loss: 209.4281 - mean_squared_error: 209.4281 - val_loss: 210.4915 - val_mean_squared_error: 210.4915\n",
            "Epoch 17/20\n",
            "18355/18355 [==============================] - 43s 2ms/step - loss: 206.3942 - mean_squared_error: 206.3942 - val_loss: 207.8250 - val_mean_squared_error: 207.8250\n",
            "Epoch 18/20\n",
            "18355/18355 [==============================] - 42s 2ms/step - loss: 206.4996 - mean_squared_error: 206.4996 - val_loss: 207.2014 - val_mean_squared_error: 207.2014\n",
            "Epoch 19/20\n",
            "18355/18355 [==============================] - 44s 2ms/step - loss: 202.3085 - mean_squared_error: 202.3085 - val_loss: 214.1772 - val_mean_squared_error: 214.1772\n",
            "Epoch 20/20\n",
            "18355/18355 [==============================] - 40s 2ms/step - loss: 201.0269 - mean_squared_error: 201.0269 - val_loss: 204.7824 - val_mean_squared_error: 204.7824\n",
            "3.7198363169680455\n",
            "3.810199343674165\n"
          ]
        }
      ]
    },
    {
      "cell_type": "code",
      "source": [
        ""
      ],
      "metadata": {
        "id": "WnH88PYHFqdw"
      },
      "execution_count": 161,
      "outputs": []
    }
  ],
  "metadata": {
    "colab": {
      "collapsed_sections": [],
      "name": "Spark.ipynb",
      "provenance": []
    },
    "kernelspec": {
      "display_name": "Python 3",
      "name": "python3"
    },
    "language_info": {
      "name": "python"
    }
  },
  "nbformat": 4,
  "nbformat_minor": 0
}